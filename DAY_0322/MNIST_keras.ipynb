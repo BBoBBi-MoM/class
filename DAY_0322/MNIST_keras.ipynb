{
 "cells": [
  {
   "cell_type": "code",
   "execution_count": 427,
   "metadata": {},
   "outputs": [],
   "source": [
    "import tensorflow as tf\n",
    "from tensorflow import keras\n",
    "from keras.datasets import fashion_mnist\n",
    "import keras.layers as layers\n",
    "from keras.models import load_model\n",
    "import keras.models as models\n",
    "import numpy as np\n",
    "from PIL import Image\n",
    "import os\n",
    "import matplotlib.pyplot as plt"
   ]
  },
  {
   "cell_type": "code",
   "execution_count": 325,
   "metadata": {},
   "outputs": [],
   "source": [
    "np.random.seed(42)\n",
    "tf.random.set_seed(42)"
   ]
  },
  {
   "cell_type": "code",
   "execution_count": 326,
   "metadata": {},
   "outputs": [],
   "source": [
    "(X_train,y_train),(X_test,y_test) = fashion_mnist.load_data()"
   ]
  },
  {
   "cell_type": "code",
   "execution_count": 327,
   "metadata": {},
   "outputs": [],
   "source": [
    "X_train = X_train.reshape(len(X_train),-1)\n",
    "y_train = y_train.reshape(len(y_train),-1)\n",
    "\n",
    "X_test = X_test.reshape(len(X_test),-1)\n",
    "y_test = y_test.reshape(len(y_test),-1)"
   ]
  },
  {
   "cell_type": "code",
   "execution_count": 328,
   "metadata": {},
   "outputs": [],
   "source": [
    "X_train = X_train.astype(float)/255\n",
    "X_test = X_test.astype(float)/255"
   ]
  },
  {
   "cell_type": "code",
   "execution_count": 329,
   "metadata": {},
   "outputs": [],
   "source": [
    "y_train = tf.keras.utils.to_categorical(y_train)\n",
    "y_test = tf.keras.utils.to_categorical(y_test)"
   ]
  },
  {
   "cell_type": "code",
   "execution_count": 330,
   "metadata": {},
   "outputs": [],
   "source": [
    "class DNN(tf.keras.Model):\n",
    "    def __init__(self):\n",
    "        super().__init__()\n",
    "\n",
    "        self.fc_layer1 = models.Sequential([\n",
    "        layers.Dense(1024),\n",
    "        layers.BatchNormalization(),\n",
    "        layers.ReLU(),\n",
    "        layers.Dropout(0.3)\n",
    "        ])\n",
    "\n",
    "        self.fc_layer2 = models.Sequential([\n",
    "        layers.Dense(256),\n",
    "        layers.BatchNormalization(),\n",
    "        layers.ReLU(),\n",
    "        layers.Dropout(0.3)\n",
    "        ])\n",
    "\n",
    "        self.output_layer = models.Sequential([\n",
    "        layers.Dense(10),\n",
    "        layers.Softmax()\n",
    "        ])\n",
    "\n",
    "    def call(self,x):\n",
    "        x = self.fc_layer1(x)\n",
    "        x = self.fc_layer2(x)\n",
    "        x = self.output_layer(x)\n",
    "        return x"
   ]
  },
  {
   "cell_type": "code",
   "execution_count": 331,
   "metadata": {},
   "outputs": [],
   "source": [
    "model = DNN()\n",
    "model.build(input_shape=(128, 784))"
   ]
  },
  {
   "cell_type": "code",
   "execution_count": 332,
   "metadata": {},
   "outputs": [
    {
     "name": "stdout",
     "output_type": "stream",
     "text": [
      "Model: \"dnn_19\"\n",
      "_________________________________________________________________\n",
      " Layer (type)                Output Shape              Param #   \n",
      "=================================================================\n",
      " sequential_61 (Sequential)  (128, 1024)               807936    \n",
      "                                                                 \n",
      " sequential_62 (Sequential)  (128, 256)                263424    \n",
      "                                                                 \n",
      " sequential_63 (Sequential)  (128, 10)                 2570      \n",
      "                                                                 \n",
      "=================================================================\n",
      "Total params: 1,073,930\n",
      "Trainable params: 1,071,370\n",
      "Non-trainable params: 2,560\n",
      "_________________________________________________________________\n"
     ]
    }
   ],
   "source": [
    "model.summary()"
   ]
  },
  {
   "cell_type": "code",
   "execution_count": 333,
   "metadata": {},
   "outputs": [],
   "source": [
    "optimizer = tf.keras.optimizers.Adam(learning_rate=1e-4)"
   ]
  },
  {
   "cell_type": "code",
   "execution_count": 334,
   "metadata": {},
   "outputs": [],
   "source": [
    "model.compile(loss='categorical_crossentropy',\n",
    "              optimizer=optimizer,\n",
    "              metrics=['accuracy'])"
   ]
  },
  {
   "cell_type": "code",
   "execution_count": 335,
   "metadata": {},
   "outputs": [],
   "source": [
    "from keras.callbacks import ModelCheckpoint,EarlyStopping,LearningRateScheduler"
   ]
  },
  {
   "cell_type": "code",
   "execution_count": 336,
   "metadata": {},
   "outputs": [],
   "source": [
    "import datetime as dt\n",
    "\n",
    "time = dt.datetime.now().ctime()\n",
    "time.replace(' ','_')\n",
    "file_path = f'{time}.ckp'\n",
    "file_path=file_path.replace(' ','_')\n",
    "file_path = './saved_model'"
   ]
  },
  {
   "cell_type": "code",
   "execution_count": 337,
   "metadata": {},
   "outputs": [],
   "source": [
    "stop_callback = EarlyStopping(monitor='val_accuracy',patience=3)"
   ]
  },
  {
   "cell_type": "code",
   "execution_count": 338,
   "metadata": {},
   "outputs": [],
   "source": [
    "model_callbacks = ModelCheckpoint(filepath=file_path,\n",
    "                                  monitor='val_accuracy',\n",
    "                                  save_best_only=True,\n",
    "                                  mode='max')"
   ]
  },
  {
   "cell_type": "code",
   "execution_count": 339,
   "metadata": {},
   "outputs": [],
   "source": [
    "def scheduler(epoch, lr):\n",
    "  if epoch < 10:\n",
    "    return lr\n",
    "  else:\n",
    "    return lr * tf.math.exp(-0.1)\n",
    "\n",
    "lr_callbacks = LearningRateScheduler(scheduler)"
   ]
  },
  {
   "cell_type": "code",
   "execution_count": 340,
   "metadata": {},
   "outputs": [
    {
     "name": "stdout",
     "output_type": "stream",
     "text": [
      "Epoch 1/30\n",
      "466/469 [============================>.] - ETA: 0s - loss: 0.6527 - accuracy: 0.7754"
     ]
    },
    {
     "name": "stderr",
     "output_type": "stream",
     "text": [
      "WARNING:absl:Found untraced functions such as _update_step_xla while saving (showing 1 of 1). These functions will not be directly callable after loading.\n"
     ]
    },
    {
     "name": "stdout",
     "output_type": "stream",
     "text": [
      "INFO:tensorflow:Assets written to: .\\saved_model\\assets\n"
     ]
    },
    {
     "name": "stderr",
     "output_type": "stream",
     "text": [
      "INFO:tensorflow:Assets written to: .\\saved_model\\assets\n"
     ]
    },
    {
     "name": "stdout",
     "output_type": "stream",
     "text": [
      "469/469 [==============================] - 8s 16ms/step - loss: 0.6519 - accuracy: 0.7757 - val_loss: 0.4419 - val_accuracy: 0.8451 - lr: 1.0000e-04\n",
      "Epoch 2/30\n",
      "469/469 [==============================] - ETA: 0s - loss: 0.4369 - accuracy: 0.8450"
     ]
    },
    {
     "name": "stderr",
     "output_type": "stream",
     "text": [
      "WARNING:absl:Found untraced functions such as _update_step_xla while saving (showing 1 of 1). These functions will not be directly callable after loading.\n"
     ]
    },
    {
     "name": "stdout",
     "output_type": "stream",
     "text": [
      "INFO:tensorflow:Assets written to: .\\saved_model\\assets\n"
     ]
    },
    {
     "name": "stderr",
     "output_type": "stream",
     "text": [
      "INFO:tensorflow:Assets written to: .\\saved_model\\assets\n"
     ]
    },
    {
     "name": "stdout",
     "output_type": "stream",
     "text": [
      "469/469 [==============================] - 8s 17ms/step - loss: 0.4369 - accuracy: 0.8450 - val_loss: 0.3938 - val_accuracy: 0.8581 - lr: 1.0000e-04\n",
      "Epoch 3/30\n",
      "466/469 [============================>.] - ETA: 0s - loss: 0.3867 - accuracy: 0.8632"
     ]
    },
    {
     "name": "stderr",
     "output_type": "stream",
     "text": [
      "WARNING:absl:Found untraced functions such as _update_step_xla while saving (showing 1 of 1). These functions will not be directly callable after loading.\n"
     ]
    },
    {
     "name": "stdout",
     "output_type": "stream",
     "text": [
      "INFO:tensorflow:Assets written to: .\\saved_model\\assets\n"
     ]
    },
    {
     "name": "stderr",
     "output_type": "stream",
     "text": [
      "INFO:tensorflow:Assets written to: .\\saved_model\\assets\n"
     ]
    },
    {
     "name": "stdout",
     "output_type": "stream",
     "text": [
      "469/469 [==============================] - 9s 19ms/step - loss: 0.3868 - accuracy: 0.8631 - val_loss: 0.3823 - val_accuracy: 0.8594 - lr: 1.0000e-04\n",
      "Epoch 4/30\n",
      "467/469 [============================>.] - ETA: 0s - loss: 0.3579 - accuracy: 0.8720"
     ]
    },
    {
     "name": "stderr",
     "output_type": "stream",
     "text": [
      "WARNING:absl:Found untraced functions such as _update_step_xla while saving (showing 1 of 1). These functions will not be directly callable after loading.\n"
     ]
    },
    {
     "name": "stdout",
     "output_type": "stream",
     "text": [
      "INFO:tensorflow:Assets written to: .\\saved_model\\assets\n"
     ]
    },
    {
     "name": "stderr",
     "output_type": "stream",
     "text": [
      "INFO:tensorflow:Assets written to: .\\saved_model\\assets\n"
     ]
    },
    {
     "name": "stdout",
     "output_type": "stream",
     "text": [
      "469/469 [==============================] - 9s 19ms/step - loss: 0.3579 - accuracy: 0.8720 - val_loss: 0.3537 - val_accuracy: 0.8702 - lr: 1.0000e-04\n",
      "Epoch 5/30\n",
      "468/469 [============================>.] - ETA: 0s - loss: 0.3398 - accuracy: 0.8763"
     ]
    },
    {
     "name": "stderr",
     "output_type": "stream",
     "text": [
      "WARNING:absl:Found untraced functions such as _update_step_xla while saving (showing 1 of 1). These functions will not be directly callable after loading.\n"
     ]
    },
    {
     "name": "stdout",
     "output_type": "stream",
     "text": [
      "INFO:tensorflow:Assets written to: .\\saved_model\\assets\n"
     ]
    },
    {
     "name": "stderr",
     "output_type": "stream",
     "text": [
      "INFO:tensorflow:Assets written to: .\\saved_model\\assets\n"
     ]
    },
    {
     "name": "stdout",
     "output_type": "stream",
     "text": [
      "469/469 [==============================] - 9s 18ms/step - loss: 0.3398 - accuracy: 0.8763 - val_loss: 0.3449 - val_accuracy: 0.8748 - lr: 1.0000e-04\n",
      "Epoch 6/30\n",
      "467/469 [============================>.] - ETA: 0s - loss: 0.3180 - accuracy: 0.8845"
     ]
    },
    {
     "name": "stderr",
     "output_type": "stream",
     "text": [
      "WARNING:absl:Found untraced functions such as _update_step_xla while saving (showing 1 of 1). These functions will not be directly callable after loading.\n"
     ]
    },
    {
     "name": "stdout",
     "output_type": "stream",
     "text": [
      "INFO:tensorflow:Assets written to: .\\saved_model\\assets\n"
     ]
    },
    {
     "name": "stderr",
     "output_type": "stream",
     "text": [
      "INFO:tensorflow:Assets written to: .\\saved_model\\assets\n"
     ]
    },
    {
     "name": "stdout",
     "output_type": "stream",
     "text": [
      "469/469 [==============================] - 9s 19ms/step - loss: 0.3179 - accuracy: 0.8846 - val_loss: 0.3282 - val_accuracy: 0.8811 - lr: 1.0000e-04\n",
      "Epoch 7/30\n",
      "469/469 [==============================] - 7s 16ms/step - loss: 0.3050 - accuracy: 0.8895 - val_loss: 0.3436 - val_accuracy: 0.8756 - lr: 1.0000e-04\n",
      "Epoch 8/30\n",
      "468/469 [============================>.] - ETA: 0s - loss: 0.2932 - accuracy: 0.8935"
     ]
    },
    {
     "name": "stderr",
     "output_type": "stream",
     "text": [
      "WARNING:absl:Found untraced functions such as _update_step_xla while saving (showing 1 of 1). These functions will not be directly callable after loading.\n"
     ]
    },
    {
     "name": "stdout",
     "output_type": "stream",
     "text": [
      "INFO:tensorflow:Assets written to: .\\saved_model\\assets\n"
     ]
    },
    {
     "name": "stderr",
     "output_type": "stream",
     "text": [
      "INFO:tensorflow:Assets written to: .\\saved_model\\assets\n"
     ]
    },
    {
     "name": "stdout",
     "output_type": "stream",
     "text": [
      "469/469 [==============================] - 11s 23ms/step - loss: 0.2930 - accuracy: 0.8936 - val_loss: 0.3161 - val_accuracy: 0.8826 - lr: 1.0000e-04\n",
      "Epoch 9/30\n",
      "467/469 [============================>.] - ETA: 0s - loss: 0.2805 - accuracy: 0.8979"
     ]
    },
    {
     "name": "stderr",
     "output_type": "stream",
     "text": [
      "WARNING:absl:Found untraced functions such as _update_step_xla while saving (showing 1 of 1). These functions will not be directly callable after loading.\n"
     ]
    },
    {
     "name": "stdout",
     "output_type": "stream",
     "text": [
      "INFO:tensorflow:Assets written to: .\\saved_model\\assets\n"
     ]
    },
    {
     "name": "stderr",
     "output_type": "stream",
     "text": [
      "INFO:tensorflow:Assets written to: .\\saved_model\\assets\n"
     ]
    },
    {
     "name": "stdout",
     "output_type": "stream",
     "text": [
      "469/469 [==============================] - 13s 28ms/step - loss: 0.2803 - accuracy: 0.8979 - val_loss: 0.3187 - val_accuracy: 0.8831 - lr: 1.0000e-04\n",
      "Epoch 10/30\n",
      "468/469 [============================>.] - ETA: 0s - loss: 0.2695 - accuracy: 0.9008"
     ]
    },
    {
     "name": "stderr",
     "output_type": "stream",
     "text": [
      "WARNING:absl:Found untraced functions such as _update_step_xla while saving (showing 1 of 1). These functions will not be directly callable after loading.\n"
     ]
    },
    {
     "name": "stdout",
     "output_type": "stream",
     "text": [
      "INFO:tensorflow:Assets written to: .\\saved_model\\assets\n"
     ]
    },
    {
     "name": "stderr",
     "output_type": "stream",
     "text": [
      "INFO:tensorflow:Assets written to: .\\saved_model\\assets\n"
     ]
    },
    {
     "name": "stdout",
     "output_type": "stream",
     "text": [
      "469/469 [==============================] - 12s 25ms/step - loss: 0.2696 - accuracy: 0.9007 - val_loss: 0.3141 - val_accuracy: 0.8840 - lr: 1.0000e-04\n",
      "Epoch 11/30\n",
      "467/469 [============================>.] - ETA: 0s - loss: 0.2599 - accuracy: 0.9055"
     ]
    },
    {
     "name": "stderr",
     "output_type": "stream",
     "text": [
      "WARNING:absl:Found untraced functions such as _update_step_xla while saving (showing 1 of 1). These functions will not be directly callable after loading.\n"
     ]
    },
    {
     "name": "stdout",
     "output_type": "stream",
     "text": [
      "INFO:tensorflow:Assets written to: .\\saved_model\\assets\n"
     ]
    },
    {
     "name": "stderr",
     "output_type": "stream",
     "text": [
      "INFO:tensorflow:Assets written to: .\\saved_model\\assets\n"
     ]
    },
    {
     "name": "stdout",
     "output_type": "stream",
     "text": [
      "469/469 [==============================] - 13s 28ms/step - loss: 0.2600 - accuracy: 0.9055 - val_loss: 0.3056 - val_accuracy: 0.8895 - lr: 9.0484e-05\n",
      "Epoch 12/30\n",
      "469/469 [==============================] - 13s 27ms/step - loss: 0.2485 - accuracy: 0.9096 - val_loss: 0.3075 - val_accuracy: 0.8891 - lr: 8.1873e-05\n",
      "Epoch 13/30\n",
      "468/469 [============================>.] - ETA: 0s - loss: 0.2385 - accuracy: 0.9133"
     ]
    },
    {
     "name": "stderr",
     "output_type": "stream",
     "text": [
      "WARNING:absl:Found untraced functions such as _update_step_xla while saving (showing 1 of 1). These functions will not be directly callable after loading.\n"
     ]
    },
    {
     "name": "stdout",
     "output_type": "stream",
     "text": [
      "INFO:tensorflow:Assets written to: .\\saved_model\\assets\n"
     ]
    },
    {
     "name": "stderr",
     "output_type": "stream",
     "text": [
      "INFO:tensorflow:Assets written to: .\\saved_model\\assets\n"
     ]
    },
    {
     "name": "stdout",
     "output_type": "stream",
     "text": [
      "469/469 [==============================] - 14s 31ms/step - loss: 0.2385 - accuracy: 0.9134 - val_loss: 0.2963 - val_accuracy: 0.8936 - lr: 7.4082e-05\n",
      "Epoch 14/30\n",
      "469/469 [==============================] - 12s 25ms/step - loss: 0.2318 - accuracy: 0.9160 - val_loss: 0.2991 - val_accuracy: 0.8914 - lr: 6.7032e-05\n",
      "Epoch 15/30\n",
      "469/469 [==============================] - 10s 21ms/step - loss: 0.2222 - accuracy: 0.9187 - val_loss: 0.3045 - val_accuracy: 0.8898 - lr: 6.0653e-05\n",
      "Epoch 16/30\n",
      "467/469 [============================>.] - ETA: 0s - loss: 0.2163 - accuracy: 0.9207"
     ]
    },
    {
     "name": "stderr",
     "output_type": "stream",
     "text": [
      "WARNING:absl:Found untraced functions such as _update_step_xla while saving (showing 1 of 1). These functions will not be directly callable after loading.\n"
     ]
    },
    {
     "name": "stdout",
     "output_type": "stream",
     "text": [
      "INFO:tensorflow:Assets written to: .\\saved_model\\assets\n"
     ]
    },
    {
     "name": "stderr",
     "output_type": "stream",
     "text": [
      "INFO:tensorflow:Assets written to: .\\saved_model\\assets\n"
     ]
    },
    {
     "name": "stdout",
     "output_type": "stream",
     "text": [
      "469/469 [==============================] - 10s 22ms/step - loss: 0.2162 - accuracy: 0.9207 - val_loss: 0.2900 - val_accuracy: 0.8957 - lr: 5.4881e-05\n",
      "Epoch 17/30\n",
      "469/469 [==============================] - ETA: 0s - loss: 0.2115 - accuracy: 0.9221"
     ]
    },
    {
     "name": "stderr",
     "output_type": "stream",
     "text": [
      "WARNING:absl:Found untraced functions such as _update_step_xla while saving (showing 1 of 1). These functions will not be directly callable after loading.\n"
     ]
    },
    {
     "name": "stdout",
     "output_type": "stream",
     "text": [
      "INFO:tensorflow:Assets written to: .\\saved_model\\assets\n"
     ]
    },
    {
     "name": "stderr",
     "output_type": "stream",
     "text": [
      "INFO:tensorflow:Assets written to: .\\saved_model\\assets\n"
     ]
    },
    {
     "name": "stdout",
     "output_type": "stream",
     "text": [
      "469/469 [==============================] - 12s 25ms/step - loss: 0.2115 - accuracy: 0.9221 - val_loss: 0.2886 - val_accuracy: 0.8958 - lr: 4.9659e-05\n",
      "Epoch 18/30\n",
      "469/469 [==============================] - 7s 16ms/step - loss: 0.2036 - accuracy: 0.9254 - val_loss: 0.2949 - val_accuracy: 0.8942 - lr: 4.4933e-05\n",
      "Epoch 19/30\n",
      "469/469 [==============================] - 8s 18ms/step - loss: 0.2020 - accuracy: 0.9260 - val_loss: 0.2924 - val_accuracy: 0.8923 - lr: 4.0657e-05\n",
      "Epoch 20/30\n",
      "469/469 [==============================] - ETA: 0s - loss: 0.1958 - accuracy: 0.9281"
     ]
    },
    {
     "name": "stderr",
     "output_type": "stream",
     "text": [
      "WARNING:absl:Found untraced functions such as _update_step_xla while saving (showing 1 of 1). These functions will not be directly callable after loading.\n"
     ]
    },
    {
     "name": "stdout",
     "output_type": "stream",
     "text": [
      "INFO:tensorflow:Assets written to: .\\saved_model\\assets\n"
     ]
    },
    {
     "name": "stderr",
     "output_type": "stream",
     "text": [
      "INFO:tensorflow:Assets written to: .\\saved_model\\assets\n"
     ]
    },
    {
     "name": "stdout",
     "output_type": "stream",
     "text": [
      "469/469 [==============================] - 10s 21ms/step - loss: 0.1958 - accuracy: 0.9281 - val_loss: 0.2860 - val_accuracy: 0.8971 - lr: 3.6788e-05\n",
      "Epoch 21/30\n",
      "469/469 [==============================] - 8s 18ms/step - loss: 0.1918 - accuracy: 0.9302 - val_loss: 0.2868 - val_accuracy: 0.8948 - lr: 3.3287e-05\n",
      "Epoch 22/30\n",
      "466/469 [============================>.] - ETA: 0s - loss: 0.1860 - accuracy: 0.9323"
     ]
    },
    {
     "name": "stderr",
     "output_type": "stream",
     "text": [
      "WARNING:absl:Found untraced functions such as _update_step_xla while saving (showing 1 of 1). These functions will not be directly callable after loading.\n"
     ]
    },
    {
     "name": "stdout",
     "output_type": "stream",
     "text": [
      "INFO:tensorflow:Assets written to: .\\saved_model\\assets\n"
     ]
    },
    {
     "name": "stderr",
     "output_type": "stream",
     "text": [
      "INFO:tensorflow:Assets written to: .\\saved_model\\assets\n"
     ]
    },
    {
     "name": "stdout",
     "output_type": "stream",
     "text": [
      "469/469 [==============================] - 10s 22ms/step - loss: 0.1862 - accuracy: 0.9322 - val_loss: 0.2900 - val_accuracy: 0.8979 - lr: 3.0119e-05\n",
      "Epoch 23/30\n",
      "467/469 [============================>.] - ETA: 0s - loss: 0.1830 - accuracy: 0.9340"
     ]
    },
    {
     "name": "stderr",
     "output_type": "stream",
     "text": [
      "WARNING:absl:Found untraced functions such as _update_step_xla while saving (showing 1 of 1). These functions will not be directly callable after loading.\n"
     ]
    },
    {
     "name": "stdout",
     "output_type": "stream",
     "text": [
      "INFO:tensorflow:Assets written to: .\\saved_model\\assets\n"
     ]
    },
    {
     "name": "stderr",
     "output_type": "stream",
     "text": [
      "INFO:tensorflow:Assets written to: .\\saved_model\\assets\n"
     ]
    },
    {
     "name": "stdout",
     "output_type": "stream",
     "text": [
      "469/469 [==============================] - 10s 22ms/step - loss: 0.1828 - accuracy: 0.9341 - val_loss: 0.2860 - val_accuracy: 0.8987 - lr: 2.7253e-05\n",
      "Epoch 24/30\n",
      "468/469 [============================>.] - ETA: 0s - loss: 0.1822 - accuracy: 0.9336"
     ]
    },
    {
     "name": "stderr",
     "output_type": "stream",
     "text": [
      "WARNING:absl:Found untraced functions such as _update_step_xla while saving (showing 1 of 1). These functions will not be directly callable after loading.\n"
     ]
    },
    {
     "name": "stdout",
     "output_type": "stream",
     "text": [
      "INFO:tensorflow:Assets written to: .\\saved_model\\assets\n"
     ]
    },
    {
     "name": "stderr",
     "output_type": "stream",
     "text": [
      "INFO:tensorflow:Assets written to: .\\saved_model\\assets\n"
     ]
    },
    {
     "name": "stdout",
     "output_type": "stream",
     "text": [
      "469/469 [==============================] - 11s 23ms/step - loss: 0.1822 - accuracy: 0.9336 - val_loss: 0.2892 - val_accuracy: 0.8990 - lr: 2.4660e-05\n",
      "Epoch 25/30\n",
      "469/469 [==============================] - 10s 21ms/step - loss: 0.1776 - accuracy: 0.9351 - val_loss: 0.2867 - val_accuracy: 0.8987 - lr: 2.2313e-05\n",
      "Epoch 26/30\n",
      "469/469 [==============================] - ETA: 0s - loss: 0.1737 - accuracy: 0.9375"
     ]
    },
    {
     "name": "stderr",
     "output_type": "stream",
     "text": [
      "WARNING:absl:Found untraced functions such as _update_step_xla while saving (showing 1 of 1). These functions will not be directly callable after loading.\n"
     ]
    },
    {
     "name": "stdout",
     "output_type": "stream",
     "text": [
      "INFO:tensorflow:Assets written to: .\\saved_model\\assets\n"
     ]
    },
    {
     "name": "stderr",
     "output_type": "stream",
     "text": [
      "INFO:tensorflow:Assets written to: .\\saved_model\\assets\n"
     ]
    },
    {
     "name": "stdout",
     "output_type": "stream",
     "text": [
      "469/469 [==============================] - 12s 26ms/step - loss: 0.1737 - accuracy: 0.9375 - val_loss: 0.2830 - val_accuracy: 0.8996 - lr: 2.0190e-05\n",
      "Epoch 27/30\n",
      "468/469 [============================>.] - ETA: 0s - loss: 0.1734 - accuracy: 0.9374"
     ]
    },
    {
     "name": "stderr",
     "output_type": "stream",
     "text": [
      "WARNING:absl:Found untraced functions such as _update_step_xla while saving (showing 1 of 1). These functions will not be directly callable after loading.\n"
     ]
    },
    {
     "name": "stdout",
     "output_type": "stream",
     "text": [
      "INFO:tensorflow:Assets written to: .\\saved_model\\assets\n"
     ]
    },
    {
     "name": "stderr",
     "output_type": "stream",
     "text": [
      "INFO:tensorflow:Assets written to: .\\saved_model\\assets\n"
     ]
    },
    {
     "name": "stdout",
     "output_type": "stream",
     "text": [
      "469/469 [==============================] - 14s 30ms/step - loss: 0.1734 - accuracy: 0.9374 - val_loss: 0.2855 - val_accuracy: 0.8999 - lr: 1.8268e-05\n",
      "Epoch 28/30\n",
      "469/469 [==============================] - ETA: 0s - loss: 0.1720 - accuracy: 0.9374"
     ]
    },
    {
     "name": "stderr",
     "output_type": "stream",
     "text": [
      "WARNING:absl:Found untraced functions such as _update_step_xla while saving (showing 1 of 1). These functions will not be directly callable after loading.\n"
     ]
    },
    {
     "name": "stdout",
     "output_type": "stream",
     "text": [
      "INFO:tensorflow:Assets written to: .\\saved_model\\assets\n"
     ]
    },
    {
     "name": "stderr",
     "output_type": "stream",
     "text": [
      "INFO:tensorflow:Assets written to: .\\saved_model\\assets\n"
     ]
    },
    {
     "name": "stdout",
     "output_type": "stream",
     "text": [
      "469/469 [==============================] - 15s 32ms/step - loss: 0.1720 - accuracy: 0.9374 - val_loss: 0.2845 - val_accuracy: 0.9005 - lr: 1.6530e-05\n",
      "Epoch 29/30\n",
      "469/469 [==============================] - 13s 28ms/step - loss: 0.1692 - accuracy: 0.9389 - val_loss: 0.2843 - val_accuracy: 0.8998 - lr: 1.4957e-05\n",
      "Epoch 30/30\n",
      "469/469 [==============================] - 12s 25ms/step - loss: 0.1691 - accuracy: 0.9382 - val_loss: 0.2835 - val_accuracy: 0.8998 - lr: 1.3534e-05\n"
     ]
    },
    {
     "data": {
      "text/plain": [
       "<keras.callbacks.History at 0x1a4ef90fa60>"
      ]
     },
     "execution_count": 340,
     "metadata": {},
     "output_type": "execute_result"
    }
   ],
   "source": [
    "model.fit(x=X_train,y=y_train,\n",
    "          batch_size=128,\n",
    "          epochs=30,\n",
    "          validation_data=(X_test,y_test),\n",
    "          callbacks=[stop_callback,model_callbacks,lr_callbacks])"
   ]
  },
  {
   "cell_type": "code",
   "execution_count": 418,
   "metadata": {},
   "outputs": [],
   "source": [
    "sample_folder_path = r'.\\sample'\n",
    "file_list = os.listdir(sample_folder_path)"
   ]
  },
  {
   "cell_type": "code",
   "execution_count": 419,
   "metadata": {},
   "outputs": [],
   "source": [
    "img_dict = dict()\n",
    "for file in file_list:\n",
    "    file_path = os.path.join(sample_folder_path,file)\n",
    "    img = Image.open(file_path)\n",
    "    img = img.resize((28,28))\n",
    "    img = img.convert(\"L\")\n",
    "    img_array = np.array(img)\n",
    "    img_array = np.invert(img_array)\n",
    "    img.close()\n",
    "    img_array = img_array.astype(float)/255\n",
    "    flattened_arr = img_array.flatten()\n",
    "    file = file[:-4]\n",
    "    img_dict[file] = flattened_arr"
   ]
  },
  {
   "cell_type": "code",
   "execution_count": 447,
   "metadata": {},
   "outputs": [
    {
     "name": "stdout",
     "output_type": "stream",
     "text": [
      "1/1 [==============================] - 0s 14ms/step\n"
     ]
    },
    {
     "data": {
      "image/png": "[encoded data removed]",
      "text/plain": [
       "<Figure size 640x480 with 1 Axes>"
      ]
     },
     "metadata": {},
     "output_type": "display_data"
    },
    {
     "name": "stdout",
     "output_type": "stream",
     "text": [
      "bag 8\n",
      "1/1 [==============================] - 0s 15ms/step\n"
     ]
    },
    {
     "data": {
      "image/png": "[encoded data removed]",
      "text/plain": [
       "<Figure size 640x480 with 1 Axes>"
      ]
     },
     "metadata": {},
     "output_type": "display_data"
    },
    {
     "name": "stdout",
     "output_type": "stream",
     "text": [
      "boots 8\n",
      "1/1 [==============================] - 0s 15ms/step\n"
     ]
    },
    {
     "data": {
      "image/png": "[encoded data removed]",
      "text/plain": [
       "<Figure size 640x480 with 1 Axes>"
      ]
     },
     "metadata": {},
     "output_type": "display_data"
    },
    {
     "name": "stdout",
     "output_type": "stream",
     "text": [
      "coat 0\n",
      "1/1 [==============================] - 0s 16ms/step\n"
     ]
    },
    {
     "data": {
      "image/png": "[encoded data removed]",
      "text/plain": [
       "<Figure size 640x480 with 1 Axes>"
      ]
     },
     "metadata": {},
     "output_type": "display_data"
    },
    {
     "name": "stdout",
     "output_type": "stream",
     "text": [
      "tshirt 0\n"
     ]
    }
   ],
   "source": [
    "for key in list(img_dict.keys()):\n",
    "    input_value = img_dict[key].reshape(-1,784)\n",
    "    pred= model.predict(input_value)\n",
    "    img=input_value.reshape(28,-1)\n",
    "    plt.imshow(img)\n",
    "    plt.show()\n",
    "    print(key,pred.argmax())"
   ]
  },
  {
   "cell_type": "code",
   "execution_count": null,
   "metadata": {},
   "outputs": [],
   "source": []
  }
 ],
 "metadata": {
  "kernelspec": {
   "display_name": "tf",
   "language": "python",
   "name": "python3"
  },
  "language_info": {
   "codemirror_mode": {
    "name": "ipython",
    "version": 3
   },
   "file_extension": ".py",
   "mimetype": "text/x-python",
   "name": "python",
   "nbconvert_exporter": "python",
   "pygments_lexer": "ipython3",
   "version": "3.9.16"
  },
  "orig_nbformat": 4,
  "vscode": {
   "interpreter": {
    "hash": "78ddfc3686b8b7161f2836984651df038ec9a0366954334fc42499f59ad2b3c8"
   }
  }
 },
 "nbformat": 4,
 "nbformat_minor": 2
}
