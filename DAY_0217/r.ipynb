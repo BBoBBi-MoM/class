{
 "cells": [
  {
   "cell_type": "code",
   "execution_count": 9,
   "metadata": {
    "vscode": {
     "languageId": "r"
    }
   },
   "outputs": [
    {
     "data": {
      "image/png": "[encoded data removed]",
      "text/plain": [
       "Plot with title \"Histogram of X\""
      ]
     },
     "metadata": {
      "image/png": {
       "height": 420,
       "width": 420
      }
     },
     "output_type": "display_data"
    }
   ],
   "source": [
    "X = rbinom(n=10000,size=100,prob=0.5)\n",
    "hist(X,breaks=15,freq=FALSE)\n",
    "x = seq(0,100,1)\n",
    "curve(dnorm(x,mean(x),sd(X)),add = TRUE, col='red',lwd=2)"
   ]
  },
  {
   "cell_type": "code",
   "execution_count": 10,
   "metadata": {
    "vscode": {
     "languageId": "r"
    }
   },
   "outputs": [
    {
     "data": {
      "text/html": [
       "56.5533391960819"
      ],
      "text/latex": [
       "56.5533391960819"
      ],
      "text/markdown": [
       "56.5533391960819"
      ],
      "text/plain": [
       "[1] 56.55334"
      ]
     },
     "metadata": {},
     "output_type": "display_data"
    },
    {
     "data": {
      "text/html": [
       "0.02311931272696"
      ],
      "text/latex": [
       "0.02311931272696"
      ],
      "text/markdown": [
       "0.02311931272696"
      ],
      "text/plain": [
       "[1] 0.02311931"
      ]
     },
     "metadata": {},
     "output_type": "display_data"
    }
   ],
   "source": [
    "qnorm(p=0.095,mean(X),sd(X),lower.tail=FALSE)\n",
    "pnorm(q=60,mean(X),sd(X),lower.tail=FALSE)"
   ]
  },
  {
   "cell_type": "code",
   "execution_count": 16,
   "metadata": {
    "vscode": {
     "languageId": "r"
    }
   },
   "outputs": [
    {
     "data": {
      "text/plain": [
       "\n",
       "\tExact binomial test\n",
       "\n",
       "data:  65 and 100\n",
       "number of successes = 65, number of trials = 100, p-value = 0.003518\n",
       "alternative hypothesis: true probability of success is not equal to 0.5\n",
       "99 percent confidence interval:\n",
       " 0.5172210 0.7680846\n",
       "sample estimates:\n",
       "probability of success \n",
       "                  0.65 \n"
      ]
     },
     "metadata": {},
     "output_type": "display_data"
    }
   ],
   "source": [
    " binom.test(65,100,0.5,conf.level=0.99)"
   ]
  },
  {
   "cell_type": "code",
   "execution_count": 20,
   "metadata": {
    "vscode": {
     "languageId": "r"
    }
   },
   "outputs": [
    {
     "data": {
      "text/plain": [
       "\n",
       "\tShapiro-Wilk normality test\n",
       "\n",
       "data:  x\n",
       "W = 0.95472, p-value = 0.001613\n"
      ]
     },
     "metadata": {},
     "output_type": "display_data"
    }
   ],
   "source": [
    "shapiro.test(x)"
   ]
  },
  {
   "cell_type": "code",
   "execution_count": null,
   "metadata": {
    "vscode": {
     "languageId": "r"
    }
   },
   "outputs": [],
   "source": [
    "n = 10\n",
    "x = 1:100\n",
    "y = seq(-3,3,by=0.001)\n",
    "smps = "
   ]
  }
 ],
 "metadata": {
  "kernelspec": {
   "display_name": "R",
   "language": "R",
   "name": "ir"
  },
  "language_info": {
   "codemirror_mode": "r",
   "file_extension": ".r",
   "mimetype": "text/x-r-source",
   "name": "R",
   "pygments_lexer": "r",
   "version": "4.2.2"
  },
  "orig_nbformat": 4
 },
 "nbformat": 4,
 "nbformat_minor": 2
}
