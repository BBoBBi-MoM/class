{
 "cells": [
  {
   "cell_type": "code",
   "execution_count": 1,
   "metadata": {},
   "outputs": [
    {
     "data": {
      "text/plain": [
       "[]"
      ]
     },
     "execution_count": 1,
     "metadata": {},
     "output_type": "execute_result"
    }
   ],
   "source": [
    "# import tensorflow as tf\n",
    "import keras\n",
    "import tensorflow as tf\n",
    "from keras.preprocessing.image import ImageDataGenerator\n",
    "from keras.models import Model\n",
    "import keras.layers as layers\n",
    "from keras.datasets import cifar10\n",
    "from keras.callbacks import ModelCheckpoint,EarlyStopping,LearningRateScheduler\n",
    "\n",
    "\n",
    "import numpy as np\n",
    "import PIL\n",
    "\n",
    "tf.config.list_physical_devices('GPU')"
   ]
  },
  {
   "attachments": {},
   "cell_type": "markdown",
   "metadata": {},
   "source": [
    "---\n",
    "### 데이터\n",
    "---"
   ]
  },
  {
   "cell_type": "code",
   "execution_count": 22,
   "metadata": {},
   "outputs": [],
   "source": [
    "(X_train,y_train),(X_test,y_test) = cifar10.load_data()"
   ]
  },
  {
   "cell_type": "code",
   "execution_count": 23,
   "metadata": {},
   "outputs": [],
   "source": [
    "X_train = X_train.astype(float)/255\n",
    "X_test = X_test.astype(float)/255\n",
    "y_train = tf.keras.utils.to_categorical(y_train)\n",
    "y_test = tf.keras.utils.to_categorical(y_test)"
   ]
  },
  {
   "cell_type": "code",
   "execution_count": 24,
   "metadata": {},
   "outputs": [
    {
     "data": {
      "text/plain": [
       "(50000, 32, 32, 3)"
      ]
     },
     "execution_count": 24,
     "metadata": {},
     "output_type": "execute_result"
    }
   ],
   "source": [
    "X_train.shape"
   ]
  },
  {
   "cell_type": "code",
   "execution_count": 25,
   "metadata": {},
   "outputs": [
    {
     "data": {
      "text/plain": [
       "(50000, 10)"
      ]
     },
     "execution_count": 25,
     "metadata": {},
     "output_type": "execute_result"
    }
   ],
   "source": [
    "y_train.shape"
   ]
  },
  {
   "attachments": {},
   "cell_type": "markdown",
   "metadata": {},
   "source": [
    "---\n",
    "### 모델 정의\n",
    "---"
   ]
  },
  {
   "cell_type": "code",
   "execution_count": 26,
   "metadata": {},
   "outputs": [],
   "source": [
    "class LenetLike(tf.keras.Model):\n",
    "    def __init__(self):\n",
    "        super().__init__()\n",
    "\n",
    "        self.conv_layer1 = tf.keras.Sequential([\n",
    "            layers.Conv2D(filters=6,kernel_size=5,strides=1,padding=\"same\"),\n",
    "            layers.BatchNormalization(),\n",
    "            layers.ReLU()\n",
    "        ])\n",
    "        self.sub_sampling_layer1 = layers.MaxPooling2D(pool_size=(2, 2),strides=2)\n",
    "        \n",
    "        self.conv_layer2 = tf.keras.Sequential([\n",
    "            layers.Conv2D(filters=16,kernel_size=5,strides=1,padding=\"same\"),\n",
    "            layers.BatchNormalization(),\n",
    "            layers.ReLU()\n",
    "        ])\n",
    "        self.sub_sampling_layer2 = layers.MaxPooling2D(pool_size=(2, 2),strides=2)\n",
    "        \n",
    "        self.flatten = layers.Flatten() \n",
    "\n",
    "        self.fc_layer1 = tf.keras.Sequential([\n",
    "        layers.Dense(512),\n",
    "        layers.ReLU(),\n",
    "        layers.Dropout(0.5)\n",
    "        ])\n",
    "        self.fc_layer2 = tf.keras.Sequential([\n",
    "        layers.Dense(512),\n",
    "        layers.ReLU(),\n",
    "        layers.Dropout(0.5)\n",
    "        ])\n",
    "        self.output_layer = tf.keras.Sequential([\n",
    "        layers.Dense(10),\n",
    "        layers.Softmax()\n",
    "        ])\n",
    "\n",
    "    def call(self,x):\n",
    "        x = self.conv_layer1(x)\n",
    "        x = self.sub_sampling_layer1(x)\n",
    "        x = self.conv_layer2(x)\n",
    "        x = self.sub_sampling_layer2(x)\n",
    "        x = self.flatten(x)\n",
    "        x = self.fc_layer1(x)\n",
    "        x = self.fc_layer2(x)\n",
    "        x = self.output_layer(x)\n",
    "        return x"
   ]
  },
  {
   "cell_type": "code",
   "execution_count": 27,
   "metadata": {},
   "outputs": [
    {
     "name": "stdout",
     "output_type": "stream",
     "text": [
      "Model: \"lenet_like_1\"\n",
      "_________________________________________________________________\n",
      " Layer (type)                Output Shape              Param #   \n",
      "=================================================================\n",
      " sequential_27 (Sequential)  (None, 32, 32, 6)         480       \n",
      "                                                                 \n",
      " max_pooling2d_12 (MaxPoolin  multiple                 0         \n",
      " g2D)                                                            \n",
      "                                                                 \n",
      " sequential_28 (Sequential)  (None, 16, 16, 16)        2480      \n",
      "                                                                 \n",
      " max_pooling2d_13 (MaxPoolin  multiple                 0         \n",
      " g2D)                                                            \n",
      "                                                                 \n",
      " flatten_3 (Flatten)         multiple                  0         \n",
      "                                                                 \n",
      " sequential_29 (Sequential)  (None, 512)               524800    \n",
      "                                                                 \n",
      " sequential_30 (Sequential)  (None, 512)               262656    \n",
      "                                                                 \n",
      " sequential_31 (Sequential)  (None, 10)                5130      \n",
      "                                                                 \n",
      "=================================================================\n",
      "Total params: 795,546\n",
      "Trainable params: 795,502\n",
      "Non-trainable params: 44\n",
      "_________________________________________________________________\n"
     ]
    }
   ],
   "source": [
    "model = LenetLike()\n",
    "model.build(input_shape=(None,32,32,3))\n",
    "model.summary()"
   ]
  },
  {
   "cell_type": "code",
   "execution_count": 28,
   "metadata": {},
   "outputs": [
    {
     "name": "stdout",
     "output_type": "stream",
     "text": [
      "1/1 [==============================] - 0s 74ms/step\n"
     ]
    },
    {
     "data": {
      "text/plain": [
       "(32, 10)"
      ]
     },
     "execution_count": 28,
     "metadata": {},
     "output_type": "execute_result"
    }
   ],
   "source": [
    "sample = np.random.rand(32,32,32,3)\n",
    "model.predict(sample).shape"
   ]
  },
  {
   "cell_type": "code",
   "execution_count": 29,
   "metadata": {},
   "outputs": [
    {
     "name": "stdout",
     "output_type": "stream",
     "text": [
      "Epoch 1/100\n",
      "391/391 [==============================] - 25s 61ms/step - loss: 2.5989 - accuracy: 0.1306 - val_loss: 2.1603 - val_accuracy: 0.2487\n",
      "Epoch 2/100\n",
      "391/391 [==============================] - 24s 62ms/step - loss: 2.2428 - accuracy: 0.1891 - val_loss: 2.0305 - val_accuracy: 0.3038\n",
      "Epoch 3/100\n",
      "391/391 [==============================] - 25s 65ms/step - loss: 2.1354 - accuracy: 0.2294 - val_loss: 1.9535 - val_accuracy: 0.3291\n",
      "Epoch 4/100\n",
      "391/391 [==============================] - 25s 63ms/step - loss: 2.0587 - accuracy: 0.2567 - val_loss: 1.8886 - val_accuracy: 0.3492\n",
      "Epoch 5/100\n",
      "391/391 [==============================] - 28s 72ms/step - loss: 1.9905 - accuracy: 0.2831 - val_loss: 1.8289 - val_accuracy: 0.3691\n",
      "Epoch 6/100\n",
      "391/391 [==============================] - 31s 78ms/step - loss: 1.9439 - accuracy: 0.3003 - val_loss: 1.7829 - val_accuracy: 0.3797\n",
      "Epoch 7/100\n",
      "391/391 [==============================] - 29s 74ms/step - loss: 1.8947 - accuracy: 0.3182 - val_loss: 1.7400 - val_accuracy: 0.3952\n",
      "Epoch 8/100\n",
      "391/391 [==============================] - 25s 63ms/step - loss: 1.8604 - accuracy: 0.3291 - val_loss: 1.7065 - val_accuracy: 0.4061\n",
      "Epoch 9/100\n",
      "391/391 [==============================] - 24s 63ms/step - loss: 1.8289 - accuracy: 0.3394 - val_loss: 1.6771 - val_accuracy: 0.4130\n",
      "Epoch 10/100\n",
      "391/391 [==============================] - 26s 66ms/step - loss: 1.8018 - accuracy: 0.3512 - val_loss: 1.6520 - val_accuracy: 0.4211\n",
      "Epoch 11/100\n",
      "391/391 [==============================] - 28s 73ms/step - loss: 1.7739 - accuracy: 0.3613 - val_loss: 1.6292 - val_accuracy: 0.4280\n",
      "Epoch 12/100\n",
      "391/391 [==============================] - 33s 85ms/step - loss: 1.7511 - accuracy: 0.3671 - val_loss: 1.6101 - val_accuracy: 0.4353\n",
      "Epoch 13/100\n",
      "391/391 [==============================] - 30s 75ms/step - loss: 1.7308 - accuracy: 0.3779 - val_loss: 1.5925 - val_accuracy: 0.4400\n",
      "Epoch 14/100\n",
      "391/391 [==============================] - 25s 64ms/step - loss: 1.7112 - accuracy: 0.3819 - val_loss: 1.5764 - val_accuracy: 0.4445\n",
      "Epoch 15/100\n",
      "391/391 [==============================] - 24s 63ms/step - loss: 1.6963 - accuracy: 0.3890 - val_loss: 1.5577 - val_accuracy: 0.4504\n",
      "Epoch 16/100\n",
      "391/391 [==============================] - 27s 68ms/step - loss: 1.6745 - accuracy: 0.3997 - val_loss: 1.5430 - val_accuracy: 0.4539\n",
      "Epoch 17/100\n",
      "391/391 [==============================] - 29s 75ms/step - loss: 1.6545 - accuracy: 0.4067 - val_loss: 1.5294 - val_accuracy: 0.4594\n",
      "Epoch 18/100\n",
      "391/391 [==============================] - 36s 91ms/step - loss: 1.6426 - accuracy: 0.4111 - val_loss: 1.5134 - val_accuracy: 0.4628\n",
      "Epoch 19/100\n",
      "391/391 [==============================] - 31s 80ms/step - loss: 1.6283 - accuracy: 0.4135 - val_loss: 1.4997 - val_accuracy: 0.4687\n",
      "Epoch 20/100\n",
      "391/391 [==============================] - 26s 65ms/step - loss: 1.6156 - accuracy: 0.4183 - val_loss: 1.4874 - val_accuracy: 0.4696\n",
      "Epoch 21/100\n",
      "391/391 [==============================] - 27s 69ms/step - loss: 1.5991 - accuracy: 0.4254 - val_loss: 1.4748 - val_accuracy: 0.4764\n",
      "Epoch 22/100\n",
      "391/391 [==============================] - 29s 75ms/step - loss: 1.5843 - accuracy: 0.4296 - val_loss: 1.4624 - val_accuracy: 0.4797\n",
      "Epoch 23/100\n",
      "391/391 [==============================] - 33s 85ms/step - loss: 1.5715 - accuracy: 0.4352 - val_loss: 1.4505 - val_accuracy: 0.4868\n",
      "Epoch 24/100\n",
      "391/391 [==============================] - 34s 86ms/step - loss: 1.5607 - accuracy: 0.4367 - val_loss: 1.4393 - val_accuracy: 0.4895\n",
      "Epoch 25/100\n",
      "391/391 [==============================] - 27s 68ms/step - loss: 1.5493 - accuracy: 0.4439 - val_loss: 1.4287 - val_accuracy: 0.4919\n",
      "Epoch 26/100\n",
      "391/391 [==============================] - 25s 64ms/step - loss: 1.5377 - accuracy: 0.4473 - val_loss: 1.4192 - val_accuracy: 0.4994\n",
      "Epoch 27/100\n",
      "391/391 [==============================] - 27s 68ms/step - loss: 1.5236 - accuracy: 0.4518 - val_loss: 1.4115 - val_accuracy: 0.5005\n",
      "Epoch 28/100\n",
      "391/391 [==============================] - 29s 75ms/step - loss: 1.5173 - accuracy: 0.4548 - val_loss: 1.3992 - val_accuracy: 0.5017\n",
      "Epoch 29/100\n",
      "391/391 [==============================] - 35s 89ms/step - loss: 1.5034 - accuracy: 0.4558 - val_loss: 1.3906 - val_accuracy: 0.5071\n",
      "Epoch 30/100\n",
      "391/391 [==============================] - 31s 79ms/step - loss: 1.4962 - accuracy: 0.4619 - val_loss: 1.3826 - val_accuracy: 0.5100\n",
      "Epoch 31/100\n",
      "391/391 [==============================] - 25s 64ms/step - loss: 1.4858 - accuracy: 0.4661 - val_loss: 1.3766 - val_accuracy: 0.5107\n",
      "Epoch 32/100\n",
      "391/391 [==============================] - 25s 63ms/step - loss: 1.4762 - accuracy: 0.4697 - val_loss: 1.3668 - val_accuracy: 0.5160\n",
      "Epoch 33/100\n",
      "391/391 [==============================] - 27s 69ms/step - loss: 1.4709 - accuracy: 0.4736 - val_loss: 1.3609 - val_accuracy: 0.5168\n",
      "Epoch 34/100\n",
      "391/391 [==============================] - 29s 75ms/step - loss: 1.4626 - accuracy: 0.4743 - val_loss: 1.3539 - val_accuracy: 0.5185\n",
      "Epoch 35/100\n",
      "391/391 [==============================] - 35s 91ms/step - loss: 1.4514 - accuracy: 0.4798 - val_loss: 1.3466 - val_accuracy: 0.5219\n",
      "Epoch 36/100\n",
      "391/391 [==============================] - 33s 85ms/step - loss: 1.4452 - accuracy: 0.4826 - val_loss: 1.3413 - val_accuracy: 0.5206\n",
      "Epoch 37/100\n",
      "391/391 [==============================] - 27s 69ms/step - loss: 1.4379 - accuracy: 0.4837 - val_loss: 1.3333 - val_accuracy: 0.5236\n",
      "Epoch 38/100\n",
      "391/391 [==============================] - 26s 66ms/step - loss: 1.4302 - accuracy: 0.4901 - val_loss: 1.3295 - val_accuracy: 0.5264\n",
      "Epoch 39/100\n",
      "391/391 [==============================] - 28s 72ms/step - loss: 1.4227 - accuracy: 0.4905 - val_loss: 1.3231 - val_accuracy: 0.5280\n",
      "Epoch 40/100\n",
      "391/391 [==============================] - 33s 84ms/step - loss: 1.4151 - accuracy: 0.4915 - val_loss: 1.3167 - val_accuracy: 0.5287\n",
      "Epoch 41/100\n",
      "391/391 [==============================] - 41s 104ms/step - loss: 1.4056 - accuracy: 0.4972 - val_loss: 1.3113 - val_accuracy: 0.5325\n",
      "Epoch 42/100\n",
      "391/391 [==============================] - 30s 78ms/step - loss: 1.4057 - accuracy: 0.4972 - val_loss: 1.3055 - val_accuracy: 0.5334\n",
      "Epoch 43/100\n",
      "391/391 [==============================] - 28s 72ms/step - loss: 1.3945 - accuracy: 0.4995 - val_loss: 1.3013 - val_accuracy: 0.5370\n",
      "Epoch 44/100\n",
      "391/391 [==============================] - 30s 78ms/step - loss: 1.3852 - accuracy: 0.5028 - val_loss: 1.2970 - val_accuracy: 0.5378\n",
      "Epoch 45/100\n",
      "391/391 [==============================] - 32s 82ms/step - loss: 1.3815 - accuracy: 0.5037 - val_loss: 1.2902 - val_accuracy: 0.5407\n",
      "Epoch 46/100\n",
      "391/391 [==============================] - 32s 83ms/step - loss: 1.3729 - accuracy: 0.5081 - val_loss: 1.2879 - val_accuracy: 0.5400\n",
      "Epoch 47/100\n",
      "391/391 [==============================] - 30s 76ms/step - loss: 1.3680 - accuracy: 0.5088 - val_loss: 1.2813 - val_accuracy: 0.5441\n",
      "Epoch 48/100\n",
      "391/391 [==============================] - 25s 64ms/step - loss: 1.3609 - accuracy: 0.5102 - val_loss: 1.2774 - val_accuracy: 0.5457\n",
      "Epoch 49/100\n",
      "391/391 [==============================] - 26s 67ms/step - loss: 1.3601 - accuracy: 0.5125 - val_loss: 1.2734 - val_accuracy: 0.5488\n",
      "Epoch 50/100\n",
      "391/391 [==============================] - 30s 76ms/step - loss: 1.3527 - accuracy: 0.5169 - val_loss: 1.2684 - val_accuracy: 0.5516\n",
      "Epoch 51/100\n",
      "391/391 [==============================] - 32s 83ms/step - loss: 1.3455 - accuracy: 0.5186 - val_loss: 1.2644 - val_accuracy: 0.5522\n",
      "Epoch 52/100\n",
      "391/391 [==============================] - 38s 98ms/step - loss: 1.3394 - accuracy: 0.5191 - val_loss: 1.2604 - val_accuracy: 0.5524\n",
      "Epoch 53/100\n",
      "391/391 [==============================] - 32s 82ms/step - loss: 1.3345 - accuracy: 0.5212 - val_loss: 1.2571 - val_accuracy: 0.5539\n",
      "Epoch 54/100\n",
      "391/391 [==============================] - 29s 75ms/step - loss: 1.3292 - accuracy: 0.5227 - val_loss: 1.2518 - val_accuracy: 0.5586\n",
      "Epoch 55/100\n",
      "391/391 [==============================] - 30s 77ms/step - loss: 1.3247 - accuracy: 0.5241 - val_loss: 1.2478 - val_accuracy: 0.5577\n",
      "Epoch 56/100\n",
      "391/391 [==============================] - 33s 84ms/step - loss: 1.3228 - accuracy: 0.5273 - val_loss: 1.2449 - val_accuracy: 0.5599\n",
      "Epoch 57/100\n",
      "391/391 [==============================] - 44s 112ms/step - loss: 1.3141 - accuracy: 0.5284 - val_loss: 1.2407 - val_accuracy: 0.5622\n",
      "Epoch 58/100\n",
      "391/391 [==============================] - 32s 81ms/step - loss: 1.3130 - accuracy: 0.5297 - val_loss: 1.2382 - val_accuracy: 0.5593\n",
      "Epoch 59/100\n",
      "391/391 [==============================] - 27s 69ms/step - loss: 1.3095 - accuracy: 0.5312 - val_loss: 1.2346 - val_accuracy: 0.5610\n",
      "Epoch 60/100\n",
      "391/391 [==============================] - 27s 70ms/step - loss: 1.3012 - accuracy: 0.5350 - val_loss: 1.2301 - val_accuracy: 0.5619\n",
      "Epoch 61/100\n",
      "391/391 [==============================] - 34s 88ms/step - loss: 1.2946 - accuracy: 0.5358 - val_loss: 1.2283 - val_accuracy: 0.5607\n",
      "Epoch 62/100\n",
      "391/391 [==============================] - 37s 95ms/step - loss: 1.2930 - accuracy: 0.5370 - val_loss: 1.2239 - val_accuracy: 0.5658\n",
      "Epoch 63/100\n",
      " 59/391 [===>..........................] - ETA: 26s - loss: 1.2862 - accuracy: 0.5387"
     ]
    }
   ],
   "source": [
    "optimizer = tf.keras.optimizers.Adam(learning_rate=1e-5)\n",
    "model.compile(loss='categorical_crossentropy',\n",
    "              optimizer=optimizer,\n",
    "              metrics=['accuracy'])\n",
    "\n",
    "stop_callback = EarlyStopping(monitor='val_accuracy',patience=5)\n",
    "\n",
    "def scheduler(epoch, lr):\n",
    "  if epoch < 10:\n",
    "    return lr\n",
    "  else:\n",
    "    return lr * tf.math.exp(-0.1)\n",
    "\n",
    "lr_callbacks = LearningRateScheduler(scheduler)\n",
    "\n",
    "model.fit(x=X_train,y=y_train,\n",
    "          batch_size=128,\n",
    "          epochs=100,\n",
    "          validation_data=(X_test,y_test),\n",
    "          callbacks=[stop_callback])"
   ]
  },
  {
   "cell_type": "code",
   "execution_count": null,
   "metadata": {},
   "outputs": [],
   "source": [
    "prediction = model.predict(X_test)"
   ]
  },
  {
   "cell_type": "code",
   "execution_count": null,
   "metadata": {},
   "outputs": [],
   "source": [
    "(prediction.argmax(-1) == y_test.argmax(-1)).sum()"
   ]
  },
  {
   "cell_type": "code",
   "execution_count": null,
   "metadata": {},
   "outputs": [],
   "source": []
  }
 ],
 "metadata": {
  "kernelspec": {
   "display_name": "tf",
   "language": "python",
   "name": "python3"
  },
  "language_info": {
   "codemirror_mode": {
    "name": "ipython",
    "version": 3
   },
   "file_extension": ".py",
   "mimetype": "text/x-python",
   "name": "python",
   "nbconvert_exporter": "python",
   "pygments_lexer": "ipython3",
   "version": "3.9.16"
  },
  "orig_nbformat": 4,
  "vscode": {
   "interpreter": {
    "hash": "78ddfc3686b8b7161f2836984651df038ec9a0366954334fc42499f59ad2b3c8"
   }
  }
 },
 "nbformat": 4,
 "nbformat_minor": 2
}
