{
 "cells": [
  {
   "cell_type": "code",
   "execution_count": 95,
   "metadata": {
    "vscode": {
     "languageId": "r"
    }
   },
   "outputs": [
    {
     "name": "stdout",
     "output_type": "stream",
     "text": [
      "'data.frame':\t48 obs. of  22 variables:\n",
      " $ t                        : int  1 2 3 4 5 6 7 8 9 10 ...\n",
      " $ Date                     : chr  \"2010-01-19\" \"2010-01-20\" \"2010-01-21\" \"2010-01-22\" ...\n",
      " $ Day.Code                 : int  2 3 4 5 1 2 3 4 5 1 ...\n",
      " $ Day.of.Week              : chr  \"Tue\" \"Wed\" \"Thu\" \"Fri\" ...\n",
      " $ Bread.Sand.Sold          : chr  \"5\" \"6\" \"8\" \"4\" ...\n",
      " $ Bread.Sand.Waste         : chr  \"3\" \"8\" \"2\" \"2\" ...\n",
      " $ Wraps.Sold               : chr  \"25\" \"7\" \"14\" \"5\" ...\n",
      " $ Wraps.Waste              : chr  \"5\" \"17\" \"0\" \"7\" ...\n",
      " $ Muffins.Sold             : chr  \"5\" \"3\" \"4\" \"5\" ...\n",
      " $ Muffins.Waste            : chr  \"1\" \"5\" \"0\" \"0\" ...\n",
      " $ Cookies.Sold             : chr  \"5\" \"1\" \"1\" \"3\" ...\n",
      " $ Cookies.Waste            : chr  \"3\" \"6\" \"0\" \"1\" ...\n",
      " $ Fruit.Cup.Sold           : chr  \"1\" \"0\" \"0\" \"3\" ...\n",
      " $ Fruit.Cup.Waste          : chr  \"4\" \"3\" \"3\" \"0\" ...\n",
      " $ Chips                    : chr  \"12\" \"0\" \"0\" \"20\" ...\n",
      " $ Juices                   : chr  \"8\" \"0\" \"13\" \"0\" ...\n",
      " $ Sodas                    : chr  \"20\" \"13\" \"23\" \"13\" ...\n",
      " $ Coffees                  : chr  \"41\" \"33\" \"34\" \"27\" ...\n",
      " $ Total.Soda.and.Coffee    : chr  \"61\" \"46\" \"57\" \"40\" ...\n",
      " $ Sales                    : num  200 196 103 163 102 ...\n",
      " $ Max.Daily.Temperature..F.: int  36 34 39 40 36 26 34 33 20 37 ...\n",
      " $ Total.Items.Wasted       : chr  \"16\" \"39\" \"5\" \"10\" ...\n"
     ]
    }
   ],
   "source": [
    "cafe_data = read.csv('cafedata.csv')\n",
    "str(cafe_data)"
   ]
  },
  {
   "cell_type": "code",
   "execution_count": 96,
   "metadata": {
    "vscode": {
     "languageId": "r"
    }
   },
   "outputs": [
    {
     "data": {
      "text/html": [
       "<table class=\"dataframe\">\n",
       "<caption>A data.frame: 1 × 22</caption>\n",
       "<thead>\n",
       "\t<tr><th></th><th scope=col>t</th><th scope=col>Date</th><th scope=col>Day.Code</th><th scope=col>Day.of.Week</th><th scope=col>Bread.Sand.Sold</th><th scope=col>Bread.Sand.Waste</th><th scope=col>Wraps.Sold</th><th scope=col>Wraps.Waste</th><th scope=col>Muffins.Sold</th><th scope=col>Muffins.Waste</th><th scope=col>⋯</th><th scope=col>Fruit.Cup.Sold</th><th scope=col>Fruit.Cup.Waste</th><th scope=col>Chips</th><th scope=col>Juices</th><th scope=col>Sodas</th><th scope=col>Coffees</th><th scope=col>Total.Soda.and.Coffee</th><th scope=col>Sales</th><th scope=col>Max.Daily.Temperature..F.</th><th scope=col>Total.Items.Wasted</th></tr>\n",
       "\t<tr><th></th><th scope=col>&lt;int&gt;</th><th scope=col>&lt;chr&gt;</th><th scope=col>&lt;int&gt;</th><th scope=col>&lt;chr&gt;</th><th scope=col>&lt;chr&gt;</th><th scope=col>&lt;chr&gt;</th><th scope=col>&lt;chr&gt;</th><th scope=col>&lt;chr&gt;</th><th scope=col>&lt;chr&gt;</th><th scope=col>&lt;chr&gt;</th><th scope=col>⋯</th><th scope=col>&lt;chr&gt;</th><th scope=col>&lt;chr&gt;</th><th scope=col>&lt;chr&gt;</th><th scope=col>&lt;chr&gt;</th><th scope=col>&lt;chr&gt;</th><th scope=col>&lt;chr&gt;</th><th scope=col>&lt;chr&gt;</th><th scope=col>&lt;dbl&gt;</th><th scope=col>&lt;int&gt;</th><th scope=col>&lt;chr&gt;</th></tr>\n",
       "</thead>\n",
       "<tbody>\n",
       "\t<tr><th scope=row>34</th><td>34</td><td>2010-03-05</td><td>5</td><td>Fri</td><td>na</td><td>na</td><td>na</td><td>na</td><td>na</td><td>na</td><td>⋯</td><td>na</td><td>na</td><td>na</td><td>na</td><td>na</td><td>na</td><td>na</td><td>NA</td><td>47</td><td>na</td></tr>\n",
       "</tbody>\n",
       "</table>\n"
      ],
      "text/latex": [
       "A data.frame: 1 × 22\n",
       "\\begin{tabular}{r|lllllllllllllllllllll}\n",
       "  & t & Date & Day.Code & Day.of.Week & Bread.Sand.Sold & Bread.Sand.Waste & Wraps.Sold & Wraps.Waste & Muffins.Sold & Muffins.Waste & ⋯ & Fruit.Cup.Sold & Fruit.Cup.Waste & Chips & Juices & Sodas & Coffees & Total.Soda.and.Coffee & Sales & Max.Daily.Temperature..F. & Total.Items.Wasted\\\\\n",
       "  & <int> & <chr> & <int> & <chr> & <chr> & <chr> & <chr> & <chr> & <chr> & <chr> & ⋯ & <chr> & <chr> & <chr> & <chr> & <chr> & <chr> & <chr> & <dbl> & <int> & <chr>\\\\\n",
       "\\hline\n",
       "\t34 & 34 & 2010-03-05 & 5 & Fri & na & na & na & na & na & na & ⋯ & na & na & na & na & na & na & na & NA & 47 & na\\\\\n",
       "\\end{tabular}\n"
      ],
      "text/markdown": [
       "\n",
       "A data.frame: 1 × 22\n",
       "\n",
       "| <!--/--> | t &lt;int&gt; | Date &lt;chr&gt; | Day.Code &lt;int&gt; | Day.of.Week &lt;chr&gt; | Bread.Sand.Sold &lt;chr&gt; | Bread.Sand.Waste &lt;chr&gt; | Wraps.Sold &lt;chr&gt; | Wraps.Waste &lt;chr&gt; | Muffins.Sold &lt;chr&gt; | Muffins.Waste &lt;chr&gt; | ⋯ ⋯ | Fruit.Cup.Sold &lt;chr&gt; | Fruit.Cup.Waste &lt;chr&gt; | Chips &lt;chr&gt; | Juices &lt;chr&gt; | Sodas &lt;chr&gt; | Coffees &lt;chr&gt; | Total.Soda.and.Coffee &lt;chr&gt; | Sales &lt;dbl&gt; | Max.Daily.Temperature..F. &lt;int&gt; | Total.Items.Wasted &lt;chr&gt; |\n",
       "|---|---|---|---|---|---|---|---|---|---|---|---|---|---|---|---|---|---|---|---|---|---|\n",
       "| 34 | 34 | 2010-03-05 | 5 | Fri | na | na | na | na | na | na | ⋯ | na | na | na | na | na | na | na | NA | 47 | na |\n",
       "\n"
      ],
      "text/plain": [
       "   t  Date       Day.Code Day.of.Week Bread.Sand.Sold Bread.Sand.Waste\n",
       "34 34 2010-03-05 5        Fri         na              na              \n",
       "   Wraps.Sold Wraps.Waste Muffins.Sold Muffins.Waste ⋯ Fruit.Cup.Sold\n",
       "34 na         na          na           na            ⋯ na            \n",
       "   Fruit.Cup.Waste Chips Juices Sodas Coffees Total.Soda.and.Coffee Sales\n",
       "34 na              na    na     na    na      na                    NA   \n",
       "   Max.Daily.Temperature..F. Total.Items.Wasted\n",
       "34 47                        na                "
      ]
     },
     "metadata": {},
     "output_type": "display_data"
    }
   ],
   "source": [
    "cafe_data[!complete.cases(cafe_data),]"
   ]
  },
  {
   "cell_type": "code",
   "execution_count": 97,
   "metadata": {
    "vscode": {
     "languageId": "r"
    }
   },
   "outputs": [
    {
     "data": {
      "text/html": [
       "<table class=\"dataframe\">\n",
       "<caption>A data.frame: 47 × 22</caption>\n",
       "<thead>\n",
       "\t<tr><th></th><th scope=col>t</th><th scope=col>Date</th><th scope=col>Day.Code</th><th scope=col>Day.of.Week</th><th scope=col>Bread.Sand.Sold</th><th scope=col>Bread.Sand.Waste</th><th scope=col>Wraps.Sold</th><th scope=col>Wraps.Waste</th><th scope=col>Muffins.Sold</th><th scope=col>Muffins.Waste</th><th scope=col>⋯</th><th scope=col>Fruit.Cup.Sold</th><th scope=col>Fruit.Cup.Waste</th><th scope=col>Chips</th><th scope=col>Juices</th><th scope=col>Sodas</th><th scope=col>Coffees</th><th scope=col>Total.Soda.and.Coffee</th><th scope=col>Sales</th><th scope=col>Max.Daily.Temperature..F.</th><th scope=col>Total.Items.Wasted</th></tr>\n",
       "\t<tr><th></th><th scope=col>&lt;int&gt;</th><th scope=col>&lt;chr&gt;</th><th scope=col>&lt;int&gt;</th><th scope=col>&lt;chr&gt;</th><th scope=col>&lt;chr&gt;</th><th scope=col>&lt;chr&gt;</th><th scope=col>&lt;chr&gt;</th><th scope=col>&lt;chr&gt;</th><th scope=col>&lt;chr&gt;</th><th scope=col>&lt;chr&gt;</th><th scope=col>⋯</th><th scope=col>&lt;chr&gt;</th><th scope=col>&lt;chr&gt;</th><th scope=col>&lt;chr&gt;</th><th scope=col>&lt;chr&gt;</th><th scope=col>&lt;chr&gt;</th><th scope=col>&lt;chr&gt;</th><th scope=col>&lt;chr&gt;</th><th scope=col>&lt;dbl&gt;</th><th scope=col>&lt;int&gt;</th><th scope=col>&lt;chr&gt;</th></tr>\n",
       "</thead>\n",
       "<tbody>\n",
       "\t<tr><th scope=row>1</th><td> 1</td><td>2010-01-19</td><td>2</td><td>Tue</td><td>5</td><td>3</td><td>25</td><td>5 </td><td>5 </td><td>1</td><td>⋯</td><td>1</td><td>4</td><td>12</td><td>8 </td><td>20</td><td>41</td><td>61</td><td>199.95</td><td>36</td><td>16</td></tr>\n",
       "\t<tr><th scope=row>2</th><td> 2</td><td>2010-01-20</td><td>3</td><td>Wed</td><td>6</td><td>8</td><td>7 </td><td>17</td><td>3 </td><td>5</td><td>⋯</td><td>0</td><td>3</td><td>0 </td><td>0 </td><td>13</td><td>33</td><td>46</td><td>195.74</td><td>34</td><td>39</td></tr>\n",
       "\t<tr><th scope=row>3</th><td> 3</td><td>2010-01-21</td><td>4</td><td>Thu</td><td>8</td><td>2</td><td>14</td><td>0 </td><td>4 </td><td>0</td><td>⋯</td><td>0</td><td>3</td><td>0 </td><td>13</td><td>23</td><td>34</td><td>57</td><td>102.68</td><td>39</td><td>5 </td></tr>\n",
       "\t<tr><th scope=row>4</th><td> 4</td><td>2010-01-22</td><td>5</td><td>Fri</td><td>4</td><td>2</td><td>5 </td><td>7 </td><td>5 </td><td>0</td><td>⋯</td><td>3</td><td>0</td><td>20</td><td>0 </td><td>13</td><td>27</td><td>40</td><td>162.88</td><td>40</td><td>10</td></tr>\n",
       "\t<tr><th scope=row>5</th><td> 5</td><td>2010-01-25</td><td>1</td><td>Mon</td><td>3</td><td>0</td><td>10</td><td>0 </td><td>8 </td><td>0</td><td>⋯</td><td>2</td><td>0</td><td>0 </td><td>5 </td><td>13</td><td>20</td><td>33</td><td>101.76</td><td>36</td><td>0 </td></tr>\n",
       "\t<tr><th scope=row>6</th><td> 6</td><td>2010-01-26</td><td>2</td><td>Tue</td><td>7</td><td>1</td><td>5 </td><td>3 </td><td>1 </td><td>0</td><td>⋯</td><td>2</td><td>0</td><td>4 </td><td>4 </td><td>33</td><td>23</td><td>56</td><td>186.94</td><td>26</td><td>4 </td></tr>\n",
       "\t<tr><th scope=row>7</th><td> 7</td><td>2010-01-27</td><td>3</td><td>Wed</td><td>6</td><td>6</td><td>19</td><td>3 </td><td>6 </td><td>0</td><td>⋯</td><td>2</td><td>0</td><td>2 </td><td>5 </td><td>15</td><td>32</td><td>47</td><td>120.18</td><td>34</td><td>9 </td></tr>\n",
       "\t<tr><th scope=row>8</th><td> 8</td><td>2010-01-28</td><td>4</td><td>Thu</td><td>0</td><td>0</td><td>7 </td><td>0 </td><td>6 </td><td>1</td><td>⋯</td><td>0</td><td>0</td><td>20</td><td>6 </td><td>27</td><td>31</td><td>58</td><td>228.78</td><td>33</td><td>1 </td></tr>\n",
       "\t<tr><th scope=row>9</th><td> 9</td><td>2010-01-29</td><td>5</td><td>Fri</td><td>3</td><td>4</td><td>4 </td><td>9 </td><td>0 </td><td>4</td><td>⋯</td><td>1</td><td>1</td><td>3 </td><td>4 </td><td>12</td><td>30</td><td>42</td><td> 88.02</td><td>20</td><td>20</td></tr>\n",
       "\t<tr><th scope=row>10</th><td>10</td><td>2010-02-01</td><td>1</td><td>Mon</td><td>2</td><td>6</td><td>13</td><td>3 </td><td>3 </td><td>0</td><td>⋯</td><td>2</td><td>0</td><td>16</td><td>7 </td><td>19</td><td>27</td><td>46</td><td>119.57</td><td>37</td><td>9 </td></tr>\n",
       "\t<tr><th scope=row>11</th><td>11</td><td>2010-02-02</td><td>2</td><td>Tue</td><td>3</td><td>7</td><td>10</td><td>2 </td><td>5 </td><td>0</td><td>⋯</td><td>1</td><td>0</td><td>2 </td><td>0 </td><td>33</td><td>30</td><td>63</td><td>172.31</td><td>38</td><td>9 </td></tr>\n",
       "\t<tr><th scope=row>12</th><td>12</td><td>2010-02-03</td><td>3</td><td>Wed</td><td>4</td><td>4</td><td>15</td><td>0 </td><td>4 </td><td>1</td><td>⋯</td><td>2</td><td>0</td><td>9 </td><td>6 </td><td>20</td><td>27</td><td>47</td><td>137.65</td><td>33</td><td>6 </td></tr>\n",
       "\t<tr><th scope=row>13</th><td>13</td><td>2010-02-04</td><td>4</td><td>Thu</td><td>9</td><td>1</td><td>13</td><td>0 </td><td>14</td><td>0</td><td>⋯</td><td>3</td><td>0</td><td>13</td><td>6 </td><td>29</td><td>26</td><td>55</td><td>197.56</td><td>39</td><td>1 </td></tr>\n",
       "\t<tr><th scope=row>14</th><td>14</td><td>2010-02-05</td><td>5</td><td>Fri</td><td>1</td><td>1</td><td>6 </td><td>2 </td><td>2 </td><td>0</td><td>⋯</td><td>0</td><td>0</td><td>10</td><td>1 </td><td>14</td><td>24</td><td>38</td><td> 70.00</td><td>35</td><td>4 </td></tr>\n",
       "\t<tr><th scope=row>15</th><td>15</td><td>2010-02-08</td><td>1</td><td>Mon</td><td>3</td><td>5</td><td>14</td><td>2 </td><td>2 </td><td>0</td><td>⋯</td><td>1</td><td>0</td><td>9 </td><td>2 </td><td>17</td><td>18</td><td>35</td><td> 97.00</td><td>31</td><td>7 </td></tr>\n",
       "\t<tr><th scope=row>16</th><td>16</td><td>2010-02-09</td><td>2</td><td>Tue</td><td>8</td><td>0</td><td>16</td><td>0 </td><td>11</td><td>0</td><td>⋯</td><td>2</td><td>0</td><td>11</td><td>8 </td><td>31</td><td>22</td><td>53</td><td>181.43</td><td>29</td><td>1 </td></tr>\n",
       "\t<tr><th scope=row>17</th><td>17</td><td>2010-02-10</td><td>3</td><td>Wed</td><td>7</td><td>0</td><td>12</td><td>0 </td><td>5 </td><td>0</td><td>⋯</td><td>1</td><td>0</td><td>14</td><td>3 </td><td>24</td><td>21</td><td>45</td><td>125.57</td><td>26</td><td>3 </td></tr>\n",
       "\t<tr><th scope=row>18</th><td>18</td><td>2010-02-11</td><td>4</td><td>Thu</td><td>8</td><td>0</td><td>19</td><td>0 </td><td>12</td><td>0</td><td>⋯</td><td>2</td><td>0</td><td>4 </td><td>2 </td><td>31</td><td>28</td><td>59</td><td>180.63</td><td>28</td><td>0 </td></tr>\n",
       "\t<tr><th scope=row>19</th><td>19</td><td>2010-02-12</td><td>5</td><td>Fri</td><td>2</td><td>0</td><td>4 </td><td>0 </td><td>0 </td><td>0</td><td>⋯</td><td>2</td><td>0</td><td>25</td><td>2 </td><td>15</td><td>23</td><td>38</td><td> 75.87</td><td>30</td><td>0 </td></tr>\n",
       "\t<tr><th scope=row>20</th><td>20</td><td>2010-02-15</td><td>1</td><td>Mon</td><td>3</td><td>3</td><td>12</td><td>0 </td><td>6 </td><td>0</td><td>⋯</td><td>2</td><td>0</td><td>7 </td><td>7 </td><td>26</td><td>31</td><td>57</td><td>150.51</td><td>26</td><td>5 </td></tr>\n",
       "\t<tr><th scope=row>21</th><td>21</td><td>2010-02-16</td><td>2</td><td>Tue</td><td>8</td><td>0</td><td>22</td><td>0 </td><td>1 </td><td>0</td><td>⋯</td><td>3</td><td>0</td><td>13</td><td>5 </td><td>39</td><td>29</td><td>68</td><td>177.41</td><td>29</td><td>1 </td></tr>\n",
       "\t<tr><th scope=row>22</th><td>22</td><td>2010-02-17</td><td>3</td><td>Wed</td><td>6</td><td>0</td><td>8 </td><td>1 </td><td>9 </td><td>0</td><td>⋯</td><td>1</td><td>0</td><td>11</td><td>2 </td><td>24</td><td>48</td><td>72</td><td>153.84</td><td>29</td><td>2 </td></tr>\n",
       "\t<tr><th scope=row>23</th><td>23</td><td>2010-02-18</td><td>4</td><td>Thu</td><td>4</td><td>2</td><td>19</td><td>0 </td><td>10</td><td>0</td><td>⋯</td><td>3</td><td>0</td><td>8 </td><td>12</td><td>35</td><td>25</td><td>60</td><td>205.36</td><td>34</td><td>2 </td></tr>\n",
       "\t<tr><th scope=row>24</th><td>24</td><td>2010-02-19</td><td>5</td><td>Fri</td><td>4</td><td>0</td><td>10</td><td>0 </td><td>4 </td><td>2</td><td>⋯</td><td>0</td><td>0</td><td>14</td><td>4 </td><td>11</td><td>31</td><td>42</td><td>118.54</td><td>39</td><td>2 </td></tr>\n",
       "\t<tr><th scope=row>25</th><td>25</td><td>2010-02-22</td><td>1</td><td>Mon</td><td>6</td><td>0</td><td>16</td><td>0 </td><td>9 </td><td>0</td><td>⋯</td><td>1</td><td>0</td><td>11</td><td>2 </td><td>25</td><td>25</td><td>50</td><td>138.04</td><td>36</td><td>0 </td></tr>\n",
       "\t<tr><th scope=row>26</th><td>26</td><td>2010-02-23</td><td>2</td><td>Tue</td><td>7</td><td>0</td><td>23</td><td>0 </td><td>12</td><td>0</td><td>⋯</td><td>4</td><td>0</td><td>21</td><td>5 </td><td>36</td><td>35</td><td>71</td><td>236.01</td><td>33</td><td>0 </td></tr>\n",
       "\t<tr><th scope=row>27</th><td>27</td><td>2010-02-24</td><td>3</td><td>Wed</td><td>6</td><td>0</td><td>15</td><td>0 </td><td>1 </td><td>0</td><td>⋯</td><td>1</td><td>0</td><td>11</td><td>5 </td><td>33</td><td>33</td><td>66</td><td>149.58</td><td>28</td><td>1 </td></tr>\n",
       "\t<tr><th scope=row>28</th><td>28</td><td>2010-02-25</td><td>4</td><td>Thu</td><td>5</td><td>3</td><td>22</td><td>0 </td><td>8 </td><td>0</td><td>⋯</td><td>4</td><td>1</td><td>10</td><td>4 </td><td>37</td><td>35</td><td>72</td><td>206.17</td><td>33</td><td>4 </td></tr>\n",
       "\t<tr><th scope=row>29</th><td>29</td><td>2010-02-26</td><td>5</td><td>Fri</td><td>2</td><td>0</td><td>5 </td><td>0 </td><td>28</td><td>1</td><td>⋯</td><td>0</td><td>1</td><td>11</td><td>21</td><td>22</td><td>16</td><td>38</td><td> 93.10</td><td>35</td><td>2 </td></tr>\n",
       "\t<tr><th scope=row>30</th><td>30</td><td>2010-03-01</td><td>1</td><td>Mon</td><td>3</td><td>2</td><td>9 </td><td>1 </td><td>5 </td><td>0</td><td>⋯</td><td>2</td><td>0</td><td>10</td><td>7 </td><td>36</td><td>24</td><td>60</td><td>151.91</td><td>40</td><td>4 </td></tr>\n",
       "\t<tr><th scope=row>31</th><td>31</td><td>2010-03-02</td><td>2</td><td>Tue</td><td>8</td><td>0</td><td>21</td><td>1 </td><td>10</td><td>0</td><td>⋯</td><td>2</td><td>0</td><td>12</td><td>7 </td><td>54</td><td>20</td><td>74</td><td>217.29</td><td>39</td><td>2 </td></tr>\n",
       "\t<tr><th scope=row>32</th><td>32</td><td>2010-03-03</td><td>3</td><td>Wed</td><td>4</td><td>0</td><td>13</td><td>0 </td><td>8 </td><td>2</td><td>⋯</td><td>3</td><td>0</td><td>9 </td><td>4 </td><td>34</td><td>11</td><td>45</td><td>148.24</td><td>39</td><td>4 </td></tr>\n",
       "\t<tr><th scope=row>33</th><td>33</td><td>2010-03-04</td><td>4</td><td>Thu</td><td>4</td><td>0</td><td>14</td><td>0 </td><td>6 </td><td>0</td><td>⋯</td><td>2</td><td>0</td><td>8 </td><td>5 </td><td>43</td><td>21</td><td>64</td><td>168.08</td><td>45</td><td>0 </td></tr>\n",
       "\t<tr><th scope=row>35</th><td>35</td><td>2010-03-15</td><td>1</td><td>Mon</td><td>6</td><td>0</td><td>17</td><td>0 </td><td>3 </td><td>0</td><td>⋯</td><td>2</td><td>0</td><td>9 </td><td>3 </td><td>24</td><td>8 </td><td>32</td><td>130.77</td><td>48</td><td>0 </td></tr>\n",
       "\t<tr><th scope=row>36</th><td>36</td><td>2010-03-16</td><td>2</td><td>Tue</td><td>7</td><td>1</td><td>19</td><td>0 </td><td>5 </td><td>2</td><td>⋯</td><td>1</td><td>0</td><td>11</td><td>4 </td><td>48</td><td>8 </td><td>56</td><td>164.54</td><td>61</td><td>3 </td></tr>\n",
       "\t<tr><th scope=row>37</th><td>37</td><td>2010-03-17</td><td>3</td><td>Wed</td><td>3</td><td>3</td><td>13</td><td>0 </td><td>3 </td><td>4</td><td>⋯</td><td>0</td><td>0</td><td>7 </td><td>4 </td><td>35</td><td>4 </td><td>39</td><td>121.41</td><td>64</td><td>7 </td></tr>\n",
       "\t<tr><th scope=row>38</th><td>38</td><td>2010-03-18</td><td>4</td><td>Thu</td><td>5</td><td>3</td><td>15</td><td>3 </td><td>1 </td><td>2</td><td>⋯</td><td>4</td><td>0</td><td>8 </td><td>5 </td><td>33</td><td>4 </td><td>37</td><td>127.93</td><td>64</td><td>10</td></tr>\n",
       "\t<tr><th scope=row>39</th><td>39</td><td>2010-03-19</td><td>5</td><td>Fri</td><td>2</td><td>0</td><td>4 </td><td>7 </td><td>5 </td><td>2</td><td>⋯</td><td>1</td><td>0</td><td>1 </td><td>3 </td><td>24</td><td>3 </td><td>27</td><td> 61.94</td><td>65</td><td>12</td></tr>\n",
       "\t<tr><th scope=row>40</th><td>40</td><td>2010-03-22</td><td>1</td><td>Mon</td><td>4</td><td>2</td><td>13</td><td>4 </td><td>3 </td><td>0</td><td>⋯</td><td>2</td><td>0</td><td>8 </td><td>7 </td><td>30</td><td>5 </td><td>35</td><td>128.59</td><td>47</td><td>10</td></tr>\n",
       "\t<tr><th scope=row>41</th><td>41</td><td>2010-03-23</td><td>2</td><td>Tue</td><td>8</td><td>0</td><td>14</td><td>4 </td><td>7 </td><td>0</td><td>⋯</td><td>2</td><td>2</td><td>7 </td><td>6 </td><td>50</td><td>6 </td><td>56</td><td>159.23</td><td>62</td><td>9 </td></tr>\n",
       "\t<tr><th scope=row>42</th><td>42</td><td>2010-03-24</td><td>3</td><td>Wed</td><td>4</td><td>0</td><td>9 </td><td>0 </td><td>8 </td><td>0</td><td>⋯</td><td>2</td><td>0</td><td>7 </td><td>5 </td><td>45</td><td>4 </td><td>49</td><td>148.08</td><td>66</td><td>4 </td></tr>\n",
       "\t<tr><th scope=row>43</th><td>43</td><td>2010-03-25</td><td>4</td><td>Thu</td><td>6</td><td>0</td><td>18</td><td>1 </td><td>3 </td><td>0</td><td>⋯</td><td>2</td><td>0</td><td>9 </td><td>4 </td><td>50</td><td>13</td><td>63</td><td>164.86</td><td>56</td><td>2 </td></tr>\n",
       "\t<tr><th scope=row>44</th><td>44</td><td>2010-03-26</td><td>5</td><td>Fri</td><td>1</td><td>1</td><td>4 </td><td>1 </td><td>3 </td><td>1</td><td>⋯</td><td>1</td><td>1</td><td>3 </td><td>2 </td><td>26</td><td>4 </td><td>30</td><td> 74.13</td><td>49</td><td>5 </td></tr>\n",
       "\t<tr><th scope=row>45</th><td>45</td><td>2010-03-29</td><td>1</td><td>Mon</td><td>2</td><td>4</td><td>9 </td><td>2 </td><td>3 </td><td>0</td><td>⋯</td><td>0</td><td>1</td><td>4 </td><td>0 </td><td>26</td><td>16</td><td>42</td><td> 82.96</td><td>56</td><td>7 </td></tr>\n",
       "\t<tr><th scope=row>46</th><td>46</td><td>2010-03-30</td><td>2</td><td>Tue</td><td>6</td><td>0</td><td>25</td><td>0 </td><td>11</td><td>1</td><td>⋯</td><td>4</td><td>0</td><td>9 </td><td>10</td><td>55</td><td>14</td><td>69</td><td>240.87</td><td>62</td><td>1 </td></tr>\n",
       "\t<tr><th scope=row>47</th><td>47</td><td>2010-03-31</td><td>3</td><td>Wed</td><td>4</td><td>0</td><td>15</td><td>0 </td><td>1 </td><td>0</td><td>⋯</td><td>3</td><td>0</td><td>6 </td><td>4 </td><td>42</td><td>10</td><td>52</td><td>151.52</td><td>76</td><td>4 </td></tr>\n",
       "\t<tr><th scope=row>48</th><td>48</td><td>2010-04-01</td><td>4</td><td>Thu</td><td>4</td><td>0</td><td>16</td><td>0 </td><td>6 </td><td>0</td><td>⋯</td><td>1</td><td>0</td><td>11</td><td>3 </td><td>45</td><td>11</td><td>56</td><td>150.99</td><td>80</td><td>0 </td></tr>\n",
       "</tbody>\n",
       "</table>\n"
      ],
      "text/latex": [
       "A data.frame: 47 × 22\n",
       "\\begin{tabular}{r|lllllllllllllllllllll}\n",
       "  & t & Date & Day.Code & Day.of.Week & Bread.Sand.Sold & Bread.Sand.Waste & Wraps.Sold & Wraps.Waste & Muffins.Sold & Muffins.Waste & ⋯ & Fruit.Cup.Sold & Fruit.Cup.Waste & Chips & Juices & Sodas & Coffees & Total.Soda.and.Coffee & Sales & Max.Daily.Temperature..F. & Total.Items.Wasted\\\\\n",
       "  & <int> & <chr> & <int> & <chr> & <chr> & <chr> & <chr> & <chr> & <chr> & <chr> & ⋯ & <chr> & <chr> & <chr> & <chr> & <chr> & <chr> & <chr> & <dbl> & <int> & <chr>\\\\\n",
       "\\hline\n",
       "\t1 &  1 & 2010-01-19 & 2 & Tue & 5 & 3 & 25 & 5  & 5  & 1 & ⋯ & 1 & 4 & 12 & 8  & 20 & 41 & 61 & 199.95 & 36 & 16\\\\\n",
       "\t2 &  2 & 2010-01-20 & 3 & Wed & 6 & 8 & 7  & 17 & 3  & 5 & ⋯ & 0 & 3 & 0  & 0  & 13 & 33 & 46 & 195.74 & 34 & 39\\\\\n",
       "\t3 &  3 & 2010-01-21 & 4 & Thu & 8 & 2 & 14 & 0  & 4  & 0 & ⋯ & 0 & 3 & 0  & 13 & 23 & 34 & 57 & 102.68 & 39 & 5 \\\\\n",
       "\t4 &  4 & 2010-01-22 & 5 & Fri & 4 & 2 & 5  & 7  & 5  & 0 & ⋯ & 3 & 0 & 20 & 0  & 13 & 27 & 40 & 162.88 & 40 & 10\\\\\n",
       "\t5 &  5 & 2010-01-25 & 1 & Mon & 3 & 0 & 10 & 0  & 8  & 0 & ⋯ & 2 & 0 & 0  & 5  & 13 & 20 & 33 & 101.76 & 36 & 0 \\\\\n",
       "\t6 &  6 & 2010-01-26 & 2 & Tue & 7 & 1 & 5  & 3  & 1  & 0 & ⋯ & 2 & 0 & 4  & 4  & 33 & 23 & 56 & 186.94 & 26 & 4 \\\\\n",
       "\t7 &  7 & 2010-01-27 & 3 & Wed & 6 & 6 & 19 & 3  & 6  & 0 & ⋯ & 2 & 0 & 2  & 5  & 15 & 32 & 47 & 120.18 & 34 & 9 \\\\\n",
       "\t8 &  8 & 2010-01-28 & 4 & Thu & 0 & 0 & 7  & 0  & 6  & 1 & ⋯ & 0 & 0 & 20 & 6  & 27 & 31 & 58 & 228.78 & 33 & 1 \\\\\n",
       "\t9 &  9 & 2010-01-29 & 5 & Fri & 3 & 4 & 4  & 9  & 0  & 4 & ⋯ & 1 & 1 & 3  & 4  & 12 & 30 & 42 &  88.02 & 20 & 20\\\\\n",
       "\t10 & 10 & 2010-02-01 & 1 & Mon & 2 & 6 & 13 & 3  & 3  & 0 & ⋯ & 2 & 0 & 16 & 7  & 19 & 27 & 46 & 119.57 & 37 & 9 \\\\\n",
       "\t11 & 11 & 2010-02-02 & 2 & Tue & 3 & 7 & 10 & 2  & 5  & 0 & ⋯ & 1 & 0 & 2  & 0  & 33 & 30 & 63 & 172.31 & 38 & 9 \\\\\n",
       "\t12 & 12 & 2010-02-03 & 3 & Wed & 4 & 4 & 15 & 0  & 4  & 1 & ⋯ & 2 & 0 & 9  & 6  & 20 & 27 & 47 & 137.65 & 33 & 6 \\\\\n",
       "\t13 & 13 & 2010-02-04 & 4 & Thu & 9 & 1 & 13 & 0  & 14 & 0 & ⋯ & 3 & 0 & 13 & 6  & 29 & 26 & 55 & 197.56 & 39 & 1 \\\\\n",
       "\t14 & 14 & 2010-02-05 & 5 & Fri & 1 & 1 & 6  & 2  & 2  & 0 & ⋯ & 0 & 0 & 10 & 1  & 14 & 24 & 38 &  70.00 & 35 & 4 \\\\\n",
       "\t15 & 15 & 2010-02-08 & 1 & Mon & 3 & 5 & 14 & 2  & 2  & 0 & ⋯ & 1 & 0 & 9  & 2  & 17 & 18 & 35 &  97.00 & 31 & 7 \\\\\n",
       "\t16 & 16 & 2010-02-09 & 2 & Tue & 8 & 0 & 16 & 0  & 11 & 0 & ⋯ & 2 & 0 & 11 & 8  & 31 & 22 & 53 & 181.43 & 29 & 1 \\\\\n",
       "\t17 & 17 & 2010-02-10 & 3 & Wed & 7 & 0 & 12 & 0  & 5  & 0 & ⋯ & 1 & 0 & 14 & 3  & 24 & 21 & 45 & 125.57 & 26 & 3 \\\\\n",
       "\t18 & 18 & 2010-02-11 & 4 & Thu & 8 & 0 & 19 & 0  & 12 & 0 & ⋯ & 2 & 0 & 4  & 2  & 31 & 28 & 59 & 180.63 & 28 & 0 \\\\\n",
       "\t19 & 19 & 2010-02-12 & 5 & Fri & 2 & 0 & 4  & 0  & 0  & 0 & ⋯ & 2 & 0 & 25 & 2  & 15 & 23 & 38 &  75.87 & 30 & 0 \\\\\n",
       "\t20 & 20 & 2010-02-15 & 1 & Mon & 3 & 3 & 12 & 0  & 6  & 0 & ⋯ & 2 & 0 & 7  & 7  & 26 & 31 & 57 & 150.51 & 26 & 5 \\\\\n",
       "\t21 & 21 & 2010-02-16 & 2 & Tue & 8 & 0 & 22 & 0  & 1  & 0 & ⋯ & 3 & 0 & 13 & 5  & 39 & 29 & 68 & 177.41 & 29 & 1 \\\\\n",
       "\t22 & 22 & 2010-02-17 & 3 & Wed & 6 & 0 & 8  & 1  & 9  & 0 & ⋯ & 1 & 0 & 11 & 2  & 24 & 48 & 72 & 153.84 & 29 & 2 \\\\\n",
       "\t23 & 23 & 2010-02-18 & 4 & Thu & 4 & 2 & 19 & 0  & 10 & 0 & ⋯ & 3 & 0 & 8  & 12 & 35 & 25 & 60 & 205.36 & 34 & 2 \\\\\n",
       "\t24 & 24 & 2010-02-19 & 5 & Fri & 4 & 0 & 10 & 0  & 4  & 2 & ⋯ & 0 & 0 & 14 & 4  & 11 & 31 & 42 & 118.54 & 39 & 2 \\\\\n",
       "\t25 & 25 & 2010-02-22 & 1 & Mon & 6 & 0 & 16 & 0  & 9  & 0 & ⋯ & 1 & 0 & 11 & 2  & 25 & 25 & 50 & 138.04 & 36 & 0 \\\\\n",
       "\t26 & 26 & 2010-02-23 & 2 & Tue & 7 & 0 & 23 & 0  & 12 & 0 & ⋯ & 4 & 0 & 21 & 5  & 36 & 35 & 71 & 236.01 & 33 & 0 \\\\\n",
       "\t27 & 27 & 2010-02-24 & 3 & Wed & 6 & 0 & 15 & 0  & 1  & 0 & ⋯ & 1 & 0 & 11 & 5  & 33 & 33 & 66 & 149.58 & 28 & 1 \\\\\n",
       "\t28 & 28 & 2010-02-25 & 4 & Thu & 5 & 3 & 22 & 0  & 8  & 0 & ⋯ & 4 & 1 & 10 & 4  & 37 & 35 & 72 & 206.17 & 33 & 4 \\\\\n",
       "\t29 & 29 & 2010-02-26 & 5 & Fri & 2 & 0 & 5  & 0  & 28 & 1 & ⋯ & 0 & 1 & 11 & 21 & 22 & 16 & 38 &  93.10 & 35 & 2 \\\\\n",
       "\t30 & 30 & 2010-03-01 & 1 & Mon & 3 & 2 & 9  & 1  & 5  & 0 & ⋯ & 2 & 0 & 10 & 7  & 36 & 24 & 60 & 151.91 & 40 & 4 \\\\\n",
       "\t31 & 31 & 2010-03-02 & 2 & Tue & 8 & 0 & 21 & 1  & 10 & 0 & ⋯ & 2 & 0 & 12 & 7  & 54 & 20 & 74 & 217.29 & 39 & 2 \\\\\n",
       "\t32 & 32 & 2010-03-03 & 3 & Wed & 4 & 0 & 13 & 0  & 8  & 2 & ⋯ & 3 & 0 & 9  & 4  & 34 & 11 & 45 & 148.24 & 39 & 4 \\\\\n",
       "\t33 & 33 & 2010-03-04 & 4 & Thu & 4 & 0 & 14 & 0  & 6  & 0 & ⋯ & 2 & 0 & 8  & 5  & 43 & 21 & 64 & 168.08 & 45 & 0 \\\\\n",
       "\t35 & 35 & 2010-03-15 & 1 & Mon & 6 & 0 & 17 & 0  & 3  & 0 & ⋯ & 2 & 0 & 9  & 3  & 24 & 8  & 32 & 130.77 & 48 & 0 \\\\\n",
       "\t36 & 36 & 2010-03-16 & 2 & Tue & 7 & 1 & 19 & 0  & 5  & 2 & ⋯ & 1 & 0 & 11 & 4  & 48 & 8  & 56 & 164.54 & 61 & 3 \\\\\n",
       "\t37 & 37 & 2010-03-17 & 3 & Wed & 3 & 3 & 13 & 0  & 3  & 4 & ⋯ & 0 & 0 & 7  & 4  & 35 & 4  & 39 & 121.41 & 64 & 7 \\\\\n",
       "\t38 & 38 & 2010-03-18 & 4 & Thu & 5 & 3 & 15 & 3  & 1  & 2 & ⋯ & 4 & 0 & 8  & 5  & 33 & 4  & 37 & 127.93 & 64 & 10\\\\\n",
       "\t39 & 39 & 2010-03-19 & 5 & Fri & 2 & 0 & 4  & 7  & 5  & 2 & ⋯ & 1 & 0 & 1  & 3  & 24 & 3  & 27 &  61.94 & 65 & 12\\\\\n",
       "\t40 & 40 & 2010-03-22 & 1 & Mon & 4 & 2 & 13 & 4  & 3  & 0 & ⋯ & 2 & 0 & 8  & 7  & 30 & 5  & 35 & 128.59 & 47 & 10\\\\\n",
       "\t41 & 41 & 2010-03-23 & 2 & Tue & 8 & 0 & 14 & 4  & 7  & 0 & ⋯ & 2 & 2 & 7  & 6  & 50 & 6  & 56 & 159.23 & 62 & 9 \\\\\n",
       "\t42 & 42 & 2010-03-24 & 3 & Wed & 4 & 0 & 9  & 0  & 8  & 0 & ⋯ & 2 & 0 & 7  & 5  & 45 & 4  & 49 & 148.08 & 66 & 4 \\\\\n",
       "\t43 & 43 & 2010-03-25 & 4 & Thu & 6 & 0 & 18 & 1  & 3  & 0 & ⋯ & 2 & 0 & 9  & 4  & 50 & 13 & 63 & 164.86 & 56 & 2 \\\\\n",
       "\t44 & 44 & 2010-03-26 & 5 & Fri & 1 & 1 & 4  & 1  & 3  & 1 & ⋯ & 1 & 1 & 3  & 2  & 26 & 4  & 30 &  74.13 & 49 & 5 \\\\\n",
       "\t45 & 45 & 2010-03-29 & 1 & Mon & 2 & 4 & 9  & 2  & 3  & 0 & ⋯ & 0 & 1 & 4  & 0  & 26 & 16 & 42 &  82.96 & 56 & 7 \\\\\n",
       "\t46 & 46 & 2010-03-30 & 2 & Tue & 6 & 0 & 25 & 0  & 11 & 1 & ⋯ & 4 & 0 & 9  & 10 & 55 & 14 & 69 & 240.87 & 62 & 1 \\\\\n",
       "\t47 & 47 & 2010-03-31 & 3 & Wed & 4 & 0 & 15 & 0  & 1  & 0 & ⋯ & 3 & 0 & 6  & 4  & 42 & 10 & 52 & 151.52 & 76 & 4 \\\\\n",
       "\t48 & 48 & 2010-04-01 & 4 & Thu & 4 & 0 & 16 & 0  & 6  & 0 & ⋯ & 1 & 0 & 11 & 3  & 45 & 11 & 56 & 150.99 & 80 & 0 \\\\\n",
       "\\end{tabular}\n"
      ],
      "text/markdown": [
       "\n",
       "A data.frame: 47 × 22\n",
       "\n",
       "| <!--/--> | t &lt;int&gt; | Date &lt;chr&gt; | Day.Code &lt;int&gt; | Day.of.Week &lt;chr&gt; | Bread.Sand.Sold &lt;chr&gt; | Bread.Sand.Waste &lt;chr&gt; | Wraps.Sold &lt;chr&gt; | Wraps.Waste &lt;chr&gt; | Muffins.Sold &lt;chr&gt; | Muffins.Waste &lt;chr&gt; | ⋯ ⋯ | Fruit.Cup.Sold &lt;chr&gt; | Fruit.Cup.Waste &lt;chr&gt; | Chips &lt;chr&gt; | Juices &lt;chr&gt; | Sodas &lt;chr&gt; | Coffees &lt;chr&gt; | Total.Soda.and.Coffee &lt;chr&gt; | Sales &lt;dbl&gt; | Max.Daily.Temperature..F. &lt;int&gt; | Total.Items.Wasted &lt;chr&gt; |\n",
       "|---|---|---|---|---|---|---|---|---|---|---|---|---|---|---|---|---|---|---|---|---|---|\n",
       "| 1 |  1 | 2010-01-19 | 2 | Tue | 5 | 3 | 25 | 5  | 5  | 1 | ⋯ | 1 | 4 | 12 | 8  | 20 | 41 | 61 | 199.95 | 36 | 16 |\n",
       "| 2 |  2 | 2010-01-20 | 3 | Wed | 6 | 8 | 7  | 17 | 3  | 5 | ⋯ | 0 | 3 | 0  | 0  | 13 | 33 | 46 | 195.74 | 34 | 39 |\n",
       "| 3 |  3 | 2010-01-21 | 4 | Thu | 8 | 2 | 14 | 0  | 4  | 0 | ⋯ | 0 | 3 | 0  | 13 | 23 | 34 | 57 | 102.68 | 39 | 5  |\n",
       "| 4 |  4 | 2010-01-22 | 5 | Fri | 4 | 2 | 5  | 7  | 5  | 0 | ⋯ | 3 | 0 | 20 | 0  | 13 | 27 | 40 | 162.88 | 40 | 10 |\n",
       "| 5 |  5 | 2010-01-25 | 1 | Mon | 3 | 0 | 10 | 0  | 8  | 0 | ⋯ | 2 | 0 | 0  | 5  | 13 | 20 | 33 | 101.76 | 36 | 0  |\n",
       "| 6 |  6 | 2010-01-26 | 2 | Tue | 7 | 1 | 5  | 3  | 1  | 0 | ⋯ | 2 | 0 | 4  | 4  | 33 | 23 | 56 | 186.94 | 26 | 4  |\n",
       "| 7 |  7 | 2010-01-27 | 3 | Wed | 6 | 6 | 19 | 3  | 6  | 0 | ⋯ | 2 | 0 | 2  | 5  | 15 | 32 | 47 | 120.18 | 34 | 9  |\n",
       "| 8 |  8 | 2010-01-28 | 4 | Thu | 0 | 0 | 7  | 0  | 6  | 1 | ⋯ | 0 | 0 | 20 | 6  | 27 | 31 | 58 | 228.78 | 33 | 1  |\n",
       "| 9 |  9 | 2010-01-29 | 5 | Fri | 3 | 4 | 4  | 9  | 0  | 4 | ⋯ | 1 | 1 | 3  | 4  | 12 | 30 | 42 |  88.02 | 20 | 20 |\n",
       "| 10 | 10 | 2010-02-01 | 1 | Mon | 2 | 6 | 13 | 3  | 3  | 0 | ⋯ | 2 | 0 | 16 | 7  | 19 | 27 | 46 | 119.57 | 37 | 9  |\n",
       "| 11 | 11 | 2010-02-02 | 2 | Tue | 3 | 7 | 10 | 2  | 5  | 0 | ⋯ | 1 | 0 | 2  | 0  | 33 | 30 | 63 | 172.31 | 38 | 9  |\n",
       "| 12 | 12 | 2010-02-03 | 3 | Wed | 4 | 4 | 15 | 0  | 4  | 1 | ⋯ | 2 | 0 | 9  | 6  | 20 | 27 | 47 | 137.65 | 33 | 6  |\n",
       "| 13 | 13 | 2010-02-04 | 4 | Thu | 9 | 1 | 13 | 0  | 14 | 0 | ⋯ | 3 | 0 | 13 | 6  | 29 | 26 | 55 | 197.56 | 39 | 1  |\n",
       "| 14 | 14 | 2010-02-05 | 5 | Fri | 1 | 1 | 6  | 2  | 2  | 0 | ⋯ | 0 | 0 | 10 | 1  | 14 | 24 | 38 |  70.00 | 35 | 4  |\n",
       "| 15 | 15 | 2010-02-08 | 1 | Mon | 3 | 5 | 14 | 2  | 2  | 0 | ⋯ | 1 | 0 | 9  | 2  | 17 | 18 | 35 |  97.00 | 31 | 7  |\n",
       "| 16 | 16 | 2010-02-09 | 2 | Tue | 8 | 0 | 16 | 0  | 11 | 0 | ⋯ | 2 | 0 | 11 | 8  | 31 | 22 | 53 | 181.43 | 29 | 1  |\n",
       "| 17 | 17 | 2010-02-10 | 3 | Wed | 7 | 0 | 12 | 0  | 5  | 0 | ⋯ | 1 | 0 | 14 | 3  | 24 | 21 | 45 | 125.57 | 26 | 3  |\n",
       "| 18 | 18 | 2010-02-11 | 4 | Thu | 8 | 0 | 19 | 0  | 12 | 0 | ⋯ | 2 | 0 | 4  | 2  | 31 | 28 | 59 | 180.63 | 28 | 0  |\n",
       "| 19 | 19 | 2010-02-12 | 5 | Fri | 2 | 0 | 4  | 0  | 0  | 0 | ⋯ | 2 | 0 | 25 | 2  | 15 | 23 | 38 |  75.87 | 30 | 0  |\n",
       "| 20 | 20 | 2010-02-15 | 1 | Mon | 3 | 3 | 12 | 0  | 6  | 0 | ⋯ | 2 | 0 | 7  | 7  | 26 | 31 | 57 | 150.51 | 26 | 5  |\n",
       "| 21 | 21 | 2010-02-16 | 2 | Tue | 8 | 0 | 22 | 0  | 1  | 0 | ⋯ | 3 | 0 | 13 | 5  | 39 | 29 | 68 | 177.41 | 29 | 1  |\n",
       "| 22 | 22 | 2010-02-17 | 3 | Wed | 6 | 0 | 8  | 1  | 9  | 0 | ⋯ | 1 | 0 | 11 | 2  | 24 | 48 | 72 | 153.84 | 29 | 2  |\n",
       "| 23 | 23 | 2010-02-18 | 4 | Thu | 4 | 2 | 19 | 0  | 10 | 0 | ⋯ | 3 | 0 | 8  | 12 | 35 | 25 | 60 | 205.36 | 34 | 2  |\n",
       "| 24 | 24 | 2010-02-19 | 5 | Fri | 4 | 0 | 10 | 0  | 4  | 2 | ⋯ | 0 | 0 | 14 | 4  | 11 | 31 | 42 | 118.54 | 39 | 2  |\n",
       "| 25 | 25 | 2010-02-22 | 1 | Mon | 6 | 0 | 16 | 0  | 9  | 0 | ⋯ | 1 | 0 | 11 | 2  | 25 | 25 | 50 | 138.04 | 36 | 0  |\n",
       "| 26 | 26 | 2010-02-23 | 2 | Tue | 7 | 0 | 23 | 0  | 12 | 0 | ⋯ | 4 | 0 | 21 | 5  | 36 | 35 | 71 | 236.01 | 33 | 0  |\n",
       "| 27 | 27 | 2010-02-24 | 3 | Wed | 6 | 0 | 15 | 0  | 1  | 0 | ⋯ | 1 | 0 | 11 | 5  | 33 | 33 | 66 | 149.58 | 28 | 1  |\n",
       "| 28 | 28 | 2010-02-25 | 4 | Thu | 5 | 3 | 22 | 0  | 8  | 0 | ⋯ | 4 | 1 | 10 | 4  | 37 | 35 | 72 | 206.17 | 33 | 4  |\n",
       "| 29 | 29 | 2010-02-26 | 5 | Fri | 2 | 0 | 5  | 0  | 28 | 1 | ⋯ | 0 | 1 | 11 | 21 | 22 | 16 | 38 |  93.10 | 35 | 2  |\n",
       "| 30 | 30 | 2010-03-01 | 1 | Mon | 3 | 2 | 9  | 1  | 5  | 0 | ⋯ | 2 | 0 | 10 | 7  | 36 | 24 | 60 | 151.91 | 40 | 4  |\n",
       "| 31 | 31 | 2010-03-02 | 2 | Tue | 8 | 0 | 21 | 1  | 10 | 0 | ⋯ | 2 | 0 | 12 | 7  | 54 | 20 | 74 | 217.29 | 39 | 2  |\n",
       "| 32 | 32 | 2010-03-03 | 3 | Wed | 4 | 0 | 13 | 0  | 8  | 2 | ⋯ | 3 | 0 | 9  | 4  | 34 | 11 | 45 | 148.24 | 39 | 4  |\n",
       "| 33 | 33 | 2010-03-04 | 4 | Thu | 4 | 0 | 14 | 0  | 6  | 0 | ⋯ | 2 | 0 | 8  | 5  | 43 | 21 | 64 | 168.08 | 45 | 0  |\n",
       "| 35 | 35 | 2010-03-15 | 1 | Mon | 6 | 0 | 17 | 0  | 3  | 0 | ⋯ | 2 | 0 | 9  | 3  | 24 | 8  | 32 | 130.77 | 48 | 0  |\n",
       "| 36 | 36 | 2010-03-16 | 2 | Tue | 7 | 1 | 19 | 0  | 5  | 2 | ⋯ | 1 | 0 | 11 | 4  | 48 | 8  | 56 | 164.54 | 61 | 3  |\n",
       "| 37 | 37 | 2010-03-17 | 3 | Wed | 3 | 3 | 13 | 0  | 3  | 4 | ⋯ | 0 | 0 | 7  | 4  | 35 | 4  | 39 | 121.41 | 64 | 7  |\n",
       "| 38 | 38 | 2010-03-18 | 4 | Thu | 5 | 3 | 15 | 3  | 1  | 2 | ⋯ | 4 | 0 | 8  | 5  | 33 | 4  | 37 | 127.93 | 64 | 10 |\n",
       "| 39 | 39 | 2010-03-19 | 5 | Fri | 2 | 0 | 4  | 7  | 5  | 2 | ⋯ | 1 | 0 | 1  | 3  | 24 | 3  | 27 |  61.94 | 65 | 12 |\n",
       "| 40 | 40 | 2010-03-22 | 1 | Mon | 4 | 2 | 13 | 4  | 3  | 0 | ⋯ | 2 | 0 | 8  | 7  | 30 | 5  | 35 | 128.59 | 47 | 10 |\n",
       "| 41 | 41 | 2010-03-23 | 2 | Tue | 8 | 0 | 14 | 4  | 7  | 0 | ⋯ | 2 | 2 | 7  | 6  | 50 | 6  | 56 | 159.23 | 62 | 9  |\n",
       "| 42 | 42 | 2010-03-24 | 3 | Wed | 4 | 0 | 9  | 0  | 8  | 0 | ⋯ | 2 | 0 | 7  | 5  | 45 | 4  | 49 | 148.08 | 66 | 4  |\n",
       "| 43 | 43 | 2010-03-25 | 4 | Thu | 6 | 0 | 18 | 1  | 3  | 0 | ⋯ | 2 | 0 | 9  | 4  | 50 | 13 | 63 | 164.86 | 56 | 2  |\n",
       "| 44 | 44 | 2010-03-26 | 5 | Fri | 1 | 1 | 4  | 1  | 3  | 1 | ⋯ | 1 | 1 | 3  | 2  | 26 | 4  | 30 |  74.13 | 49 | 5  |\n",
       "| 45 | 45 | 2010-03-29 | 1 | Mon | 2 | 4 | 9  | 2  | 3  | 0 | ⋯ | 0 | 1 | 4  | 0  | 26 | 16 | 42 |  82.96 | 56 | 7  |\n",
       "| 46 | 46 | 2010-03-30 | 2 | Tue | 6 | 0 | 25 | 0  | 11 | 1 | ⋯ | 4 | 0 | 9  | 10 | 55 | 14 | 69 | 240.87 | 62 | 1  |\n",
       "| 47 | 47 | 2010-03-31 | 3 | Wed | 4 | 0 | 15 | 0  | 1  | 0 | ⋯ | 3 | 0 | 6  | 4  | 42 | 10 | 52 | 151.52 | 76 | 4  |\n",
       "| 48 | 48 | 2010-04-01 | 4 | Thu | 4 | 0 | 16 | 0  | 6  | 0 | ⋯ | 1 | 0 | 11 | 3  | 45 | 11 | 56 | 150.99 | 80 | 0  |\n",
       "\n"
      ],
      "text/plain": [
       "   t  Date       Day.Code Day.of.Week Bread.Sand.Sold Bread.Sand.Waste\n",
       "1   1 2010-01-19 2        Tue         5               3               \n",
       "2   2 2010-01-20 3        Wed         6               8               \n",
       "3   3 2010-01-21 4        Thu         8               2               \n",
       "4   4 2010-01-22 5        Fri         4               2               \n",
       "5   5 2010-01-25 1        Mon         3               0               \n",
       "6   6 2010-01-26 2        Tue         7               1               \n",
       "7   7 2010-01-27 3        Wed         6               6               \n",
       "8   8 2010-01-28 4        Thu         0               0               \n",
       "9   9 2010-01-29 5        Fri         3               4               \n",
       "10 10 2010-02-01 1        Mon         2               6               \n",
       "11 11 2010-02-02 2        Tue         3               7               \n",
       "12 12 2010-02-03 3        Wed         4               4               \n",
       "13 13 2010-02-04 4        Thu         9               1               \n",
       "14 14 2010-02-05 5        Fri         1               1               \n",
       "15 15 2010-02-08 1        Mon         3               5               \n",
       "16 16 2010-02-09 2        Tue         8               0               \n",
       "17 17 2010-02-10 3        Wed         7               0               \n",
       "18 18 2010-02-11 4        Thu         8               0               \n",
       "19 19 2010-02-12 5        Fri         2               0               \n",
       "20 20 2010-02-15 1        Mon         3               3               \n",
       "21 21 2010-02-16 2        Tue         8               0               \n",
       "22 22 2010-02-17 3        Wed         6               0               \n",
       "23 23 2010-02-18 4        Thu         4               2               \n",
       "24 24 2010-02-19 5        Fri         4               0               \n",
       "25 25 2010-02-22 1        Mon         6               0               \n",
       "26 26 2010-02-23 2        Tue         7               0               \n",
       "27 27 2010-02-24 3        Wed         6               0               \n",
       "28 28 2010-02-25 4        Thu         5               3               \n",
       "29 29 2010-02-26 5        Fri         2               0               \n",
       "30 30 2010-03-01 1        Mon         3               2               \n",
       "31 31 2010-03-02 2        Tue         8               0               \n",
       "32 32 2010-03-03 3        Wed         4               0               \n",
       "33 33 2010-03-04 4        Thu         4               0               \n",
       "35 35 2010-03-15 1        Mon         6               0               \n",
       "36 36 2010-03-16 2        Tue         7               1               \n",
       "37 37 2010-03-17 3        Wed         3               3               \n",
       "38 38 2010-03-18 4        Thu         5               3               \n",
       "39 39 2010-03-19 5        Fri         2               0               \n",
       "40 40 2010-03-22 1        Mon         4               2               \n",
       "41 41 2010-03-23 2        Tue         8               0               \n",
       "42 42 2010-03-24 3        Wed         4               0               \n",
       "43 43 2010-03-25 4        Thu         6               0               \n",
       "44 44 2010-03-26 5        Fri         1               1               \n",
       "45 45 2010-03-29 1        Mon         2               4               \n",
       "46 46 2010-03-30 2        Tue         6               0               \n",
       "47 47 2010-03-31 3        Wed         4               0               \n",
       "48 48 2010-04-01 4        Thu         4               0               \n",
       "   Wraps.Sold Wraps.Waste Muffins.Sold Muffins.Waste ⋯ Fruit.Cup.Sold\n",
       "1  25         5           5            1             ⋯ 1             \n",
       "2  7          17          3            5             ⋯ 0             \n",
       "3  14         0           4            0             ⋯ 0             \n",
       "4  5          7           5            0             ⋯ 3             \n",
       "5  10         0           8            0             ⋯ 2             \n",
       "6  5          3           1            0             ⋯ 2             \n",
       "7  19         3           6            0             ⋯ 2             \n",
       "8  7          0           6            1             ⋯ 0             \n",
       "9  4          9           0            4             ⋯ 1             \n",
       "10 13         3           3            0             ⋯ 2             \n",
       "11 10         2           5            0             ⋯ 1             \n",
       "12 15         0           4            1             ⋯ 2             \n",
       "13 13         0           14           0             ⋯ 3             \n",
       "14 6          2           2            0             ⋯ 0             \n",
       "15 14         2           2            0             ⋯ 1             \n",
       "16 16         0           11           0             ⋯ 2             \n",
       "17 12         0           5            0             ⋯ 1             \n",
       "18 19         0           12           0             ⋯ 2             \n",
       "19 4          0           0            0             ⋯ 2             \n",
       "20 12         0           6            0             ⋯ 2             \n",
       "21 22         0           1            0             ⋯ 3             \n",
       "22 8          1           9            0             ⋯ 1             \n",
       "23 19         0           10           0             ⋯ 3             \n",
       "24 10         0           4            2             ⋯ 0             \n",
       "25 16         0           9            0             ⋯ 1             \n",
       "26 23         0           12           0             ⋯ 4             \n",
       "27 15         0           1            0             ⋯ 1             \n",
       "28 22         0           8            0             ⋯ 4             \n",
       "29 5          0           28           1             ⋯ 0             \n",
       "30 9          1           5            0             ⋯ 2             \n",
       "31 21         1           10           0             ⋯ 2             \n",
       "32 13         0           8            2             ⋯ 3             \n",
       "33 14         0           6            0             ⋯ 2             \n",
       "35 17         0           3            0             ⋯ 2             \n",
       "36 19         0           5            2             ⋯ 1             \n",
       "37 13         0           3            4             ⋯ 0             \n",
       "38 15         3           1            2             ⋯ 4             \n",
       "39 4          7           5            2             ⋯ 1             \n",
       "40 13         4           3            0             ⋯ 2             \n",
       "41 14         4           7            0             ⋯ 2             \n",
       "42 9          0           8            0             ⋯ 2             \n",
       "43 18         1           3            0             ⋯ 2             \n",
       "44 4          1           3            1             ⋯ 1             \n",
       "45 9          2           3            0             ⋯ 0             \n",
       "46 25         0           11           1             ⋯ 4             \n",
       "47 15         0           1            0             ⋯ 3             \n",
       "48 16         0           6            0             ⋯ 1             \n",
       "   Fruit.Cup.Waste Chips Juices Sodas Coffees Total.Soda.and.Coffee Sales \n",
       "1  4               12    8      20    41      61                    199.95\n",
       "2  3               0     0      13    33      46                    195.74\n",
       "3  3               0     13     23    34      57                    102.68\n",
       "4  0               20    0      13    27      40                    162.88\n",
       "5  0               0     5      13    20      33                    101.76\n",
       "6  0               4     4      33    23      56                    186.94\n",
       "7  0               2     5      15    32      47                    120.18\n",
       "8  0               20    6      27    31      58                    228.78\n",
       "9  1               3     4      12    30      42                     88.02\n",
       "10 0               16    7      19    27      46                    119.57\n",
       "11 0               2     0      33    30      63                    172.31\n",
       "12 0               9     6      20    27      47                    137.65\n",
       "13 0               13    6      29    26      55                    197.56\n",
       "14 0               10    1      14    24      38                     70.00\n",
       "15 0               9     2      17    18      35                     97.00\n",
       "16 0               11    8      31    22      53                    181.43\n",
       "17 0               14    3      24    21      45                    125.57\n",
       "18 0               4     2      31    28      59                    180.63\n",
       "19 0               25    2      15    23      38                     75.87\n",
       "20 0               7     7      26    31      57                    150.51\n",
       "21 0               13    5      39    29      68                    177.41\n",
       "22 0               11    2      24    48      72                    153.84\n",
       "23 0               8     12     35    25      60                    205.36\n",
       "24 0               14    4      11    31      42                    118.54\n",
       "25 0               11    2      25    25      50                    138.04\n",
       "26 0               21    5      36    35      71                    236.01\n",
       "27 0               11    5      33    33      66                    149.58\n",
       "28 1               10    4      37    35      72                    206.17\n",
       "29 1               11    21     22    16      38                     93.10\n",
       "30 0               10    7      36    24      60                    151.91\n",
       "31 0               12    7      54    20      74                    217.29\n",
       "32 0               9     4      34    11      45                    148.24\n",
       "33 0               8     5      43    21      64                    168.08\n",
       "35 0               9     3      24    8       32                    130.77\n",
       "36 0               11    4      48    8       56                    164.54\n",
       "37 0               7     4      35    4       39                    121.41\n",
       "38 0               8     5      33    4       37                    127.93\n",
       "39 0               1     3      24    3       27                     61.94\n",
       "40 0               8     7      30    5       35                    128.59\n",
       "41 2               7     6      50    6       56                    159.23\n",
       "42 0               7     5      45    4       49                    148.08\n",
       "43 0               9     4      50    13      63                    164.86\n",
       "44 1               3     2      26    4       30                     74.13\n",
       "45 1               4     0      26    16      42                     82.96\n",
       "46 0               9     10     55    14      69                    240.87\n",
       "47 0               6     4      42    10      52                    151.52\n",
       "48 0               11    3      45    11      56                    150.99\n",
       "   Max.Daily.Temperature..F. Total.Items.Wasted\n",
       "1  36                        16                \n",
       "2  34                        39                \n",
       "3  39                        5                 \n",
       "4  40                        10                \n",
       "5  36                        0                 \n",
       "6  26                        4                 \n",
       "7  34                        9                 \n",
       "8  33                        1                 \n",
       "9  20                        20                \n",
       "10 37                        9                 \n",
       "11 38                        9                 \n",
       "12 33                        6                 \n",
       "13 39                        1                 \n",
       "14 35                        4                 \n",
       "15 31                        7                 \n",
       "16 29                        1                 \n",
       "17 26                        3                 \n",
       "18 28                        0                 \n",
       "19 30                        0                 \n",
       "20 26                        5                 \n",
       "21 29                        1                 \n",
       "22 29                        2                 \n",
       "23 34                        2                 \n",
       "24 39                        2                 \n",
       "25 36                        0                 \n",
       "26 33                        0                 \n",
       "27 28                        1                 \n",
       "28 33                        4                 \n",
       "29 35                        2                 \n",
       "30 40                        4                 \n",
       "31 39                        2                 \n",
       "32 39                        4                 \n",
       "33 45                        0                 \n",
       "35 48                        0                 \n",
       "36 61                        3                 \n",
       "37 64                        7                 \n",
       "38 64                        10                \n",
       "39 65                        12                \n",
       "40 47                        10                \n",
       "41 62                        9                 \n",
       "42 66                        4                 \n",
       "43 56                        2                 \n",
       "44 49                        5                 \n",
       "45 56                        7                 \n",
       "46 62                        1                 \n",
       "47 76                        4                 \n",
       "48 80                        0                 "
      ]
     },
     "metadata": {},
     "output_type": "display_data"
    }
   ],
   "source": [
    "na.omit(cafe_data)"
   ]
  },
  {
   "cell_type": "code",
   "execution_count": 98,
   "metadata": {
    "vscode": {
     "languageId": "r"
    }
   },
   "outputs": [],
   "source": [
    "coffees_table = table(cafe_data$Coffees)"
   ]
  },
  {
   "cell_type": "code",
   "execution_count": 99,
   "metadata": {
    "vscode": {
     "languageId": "r"
    }
   },
   "outputs": [
    {
     "data": {
      "text/html": [
       "'4'"
      ],
      "text/latex": [
       "'4'"
      ],
      "text/markdown": [
       "'4'"
      ],
      "text/plain": [
       "[1] \"4\""
      ]
     },
     "metadata": {},
     "output_type": "display_data"
    }
   ],
   "source": [
    "names(which(coffees_table==max(coffees_table)))"
   ]
  },
  {
   "cell_type": "code",
   "execution_count": 100,
   "metadata": {
    "vscode": {
     "languageId": "r"
    }
   },
   "outputs": [
    {
     "name": "stdout",
     "output_type": "stream",
     "text": [
      "\n",
      "  The decimal point is at the |\n",
      "\n",
      "  1 | 00\n",
      "  2 | 00\n",
      "  3 | 000\n",
      "  4 | 0\n",
      "\n"
     ]
    }
   ],
   "source": [
    "temp_data1 = c(1,1,2,2,3,3,3,4)\n",
    "stem(temp_data1)"
   ]
  },
  {
   "cell_type": "code",
   "execution_count": 101,
   "metadata": {
    "vscode": {
     "languageId": "r"
    }
   },
   "outputs": [
    {
     "name": "stdout",
     "output_type": "stream",
     "text": [
      "\n",
      "  The decimal point is 1 digit(s) to the right of the |\n",
      "\n",
      "  0 | 1\n",
      "  1 | 112\n",
      "  2 | 223\n",
      "  3 | 1234\n",
      "  4 | 0\n",
      "\n"
     ]
    }
   ],
   "source": [
    "temp_data2 = c(1,11,11,22,22,23,31,32,33,34,40,12)\n",
    "stem(temp_data2)"
   ]
  },
  {
   "attachments": {},
   "cell_type": "markdown",
   "metadata": {},
   "source": [
    "---"
   ]
  },
  {
   "cell_type": "code",
   "execution_count": 102,
   "metadata": {
    "vscode": {
     "languageId": "r"
    }
   },
   "outputs": [
    {
     "name": "stdout",
     "output_type": "stream",
     "text": [
      "결측치 수: 44"
     ]
    }
   ],
   "source": [
    "air_data = airquality\n",
    "cat('결측치 수:',sum(is.na(air_data)))\n",
    "air_data= na.omit(air_data)"
   ]
  },
  {
   "cell_type": "code",
   "execution_count": 103,
   "metadata": {
    "vscode": {
     "languageId": "r"
    }
   },
   "outputs": [],
   "source": [
    "getmode <- function(v) {\n",
    "   uniqv <- unique(v)\n",
    "   uniqv[which.max(tabulate(match(v, uniqv)))]\n",
    "}"
   ]
  },
  {
   "cell_type": "code",
   "execution_count": 104,
   "metadata": {
    "vscode": {
     "languageId": "r"
    }
   },
   "outputs": [
    {
     "name": "stdout",
     "output_type": "stream",
     "text": [
      "오존 평균: 42.0991 \n",
      "오존 분산: 1097.315 \n",
      "오존 표준편차: 33.12574 \n",
      "오존 최빈값: 23"
     ]
    }
   ],
   "source": [
    "ozone_data = air_data$Ozone\n",
    "ozone_mean = sum(ozone_data)/length(ozone_data)\n",
    "ozone_var = (sum((ozone_data-ozone_mean)^2))/length(ozone_data)\n",
    "ozone_sd = sqrt(ozone_var)\n",
    "ozone_mode = getmode(ozone_data)\n",
    "cat('오존 평균:',ozone_mean,'\\n')\n",
    "cat('오존 분산:',ozone_var,'\\n')\n",
    "cat('오존 표준편차:',ozone_sd,'\\n')\n",
    "cat('오존 최빈값:',ozone_mode)"
   ]
  },
  {
   "cell_type": "code",
   "execution_count": 105,
   "metadata": {
    "vscode": {
     "languageId": "r"
    }
   },
   "outputs": [
    {
     "name": "stdout",
     "output_type": "stream",
     "text": [
      "일조 평균 184.8018 \n",
      "일조 분산 8233.889 \n",
      "일조 표준편차 90.74078 \n",
      "일조 최빈값: 23"
     ]
    }
   ],
   "source": [
    "solar_data = air_data$Solar.R\n",
    "solar_mean = sum(solar_data)/length(solar_data)\n",
    "solar_var = (sum((solar_data-solar_mean)^2))/length(solar_data)\n",
    "solar_sd = sqrt(solar_var)\n",
    "solar_mode = getmode(solar_data)\n",
    "cat('일조 평균',solar_mean,'\\n')\n",
    "cat('일조 분산',solar_var,'\\n')\n",
    "cat('일조 표준편차',solar_sd,'\\n')\n",
    "cat('일조 최빈값:',ozone_mode)"
   ]
  },
  {
   "cell_type": "code",
   "execution_count": 106,
   "metadata": {
    "vscode": {
     "languageId": "r"
    }
   },
   "outputs": [
    {
     "name": "stdout",
     "output_type": "stream",
     "text": [
      "바람 평균 9.93964 \n",
      "바람 분산 12.54329 \n",
      "바람 표준편차 3.541651 \n",
      "바람 최빈값: 11.5"
     ]
    }
   ],
   "source": [
    "wind_data = air_data$Wind\n",
    "wind_mean = sum(wind_data)/length(wind_data)\n",
    "wind_var = (sum((wind_data-wind_mean)^2))/length(wind_data)\n",
    "wind_sd = sqrt(wind_var)\n",
    "wind_mode = getmode(wind_data)\n",
    "cat('바람 평균',wind_mean,'\\n')\n",
    "cat('바람 분산',wind_var,'\\n')\n",
    "cat('바람 표준편차',wind_sd,'\\n')\n",
    "cat('바람 최빈값:',wind_mode)"
   ]
  },
  {
   "cell_type": "code",
   "execution_count": 107,
   "metadata": {
    "vscode": {
     "languageId": "r"
    }
   },
   "outputs": [
    {
     "name": "stdout",
     "output_type": "stream",
     "text": [
      "기온 평균 77.79279 \n",
      "기온 분산 90.00211 \n",
      "기온 표준편차 9.486944 \n",
      "기온 최빈값: 81"
     ]
    }
   ],
   "source": [
    "temp_data = air_data$Temp\n",
    "temp_mean = sum(temp_data)/length(temp_data)\n",
    "temp_var = (sum((temp_data-temp_mean)^2))/length(temp_data)\n",
    "temp_sd = sqrt(temp_var)\n",
    "temp_mode = getmode(temp_data)\n",
    "cat('기온 평균',temp_mean,'\\n')\n",
    "cat('기온 분산',temp_var,'\\n')\n",
    "cat('기온 표준편차',temp_sd,'\\n')\n",
    "cat('기온 최빈값:',temp_mode)"
   ]
  },
  {
   "attachments": {},
   "cell_type": "markdown",
   "metadata": {},
   "source": [
    "---"
   ]
  },
  {
   "cell_type": "code",
   "execution_count": 124,
   "metadata": {
    "vscode": {
     "languageId": "r"
    }
   },
   "outputs": [
    {
     "name": "stdout",
     "output_type": "stream",
     "text": [
      "'data.frame':\t50 obs. of  2 variables:\n",
      " $ speed: num  4 4 7 7 8 9 10 10 10 11 ...\n",
      " $ dist : num  2 10 4 22 16 10 18 26 34 17 ...\n"
     ]
    }
   ],
   "source": [
    "car_data = cars\n",
    "str(car_data)\n",
    "dist_data = car_data$dist"
   ]
  },
  {
   "cell_type": "code",
   "execution_count": 126,
   "metadata": {
    "vscode": {
     "languageId": "r"
    }
   },
   "outputs": [
    {
     "data": {
      "text/html": [
       "42.98"
      ],
      "text/latex": [
       "42.98"
      ],
      "text/markdown": [
       "42.98"
      ],
      "text/plain": [
       "[1] 42.98"
      ]
     },
     "metadata": {},
     "output_type": "display_data"
    },
    {
     "data": {
      "text/html": [
       "36"
      ],
      "text/latex": [
       "36"
      ],
      "text/markdown": [
       "36"
      ],
      "text/plain": [
       "[1] 36"
      ]
     },
     "metadata": {},
     "output_type": "display_data"
    },
    {
     "data": {
      "text/html": [
       "2"
      ],
      "text/latex": [
       "2"
      ],
      "text/markdown": [
       "2"
      ],
      "text/plain": [
       "[1] 2"
      ]
     },
     "metadata": {},
     "output_type": "display_data"
    },
    {
     "data": {
      "text/html": [
       "120"
      ],
      "text/latex": [
       "120"
      ],
      "text/markdown": [
       "120"
      ],
      "text/plain": [
       "[1] 120"
      ]
     },
     "metadata": {},
     "output_type": "display_data"
    },
    {
     "data": {
      "image/png": "[encoded data removed]",
      "text/plain": [
       "Plot with title \"Histogram of dist_data\""
      ]
     },
     "metadata": {
      "image/png": {
       "height": 420,
       "width": 420
      }
     },
     "output_type": "display_data"
    }
   ],
   "source": [
    "mean(dist_data)\n",
    "median(dist_data)\n",
    "min(dist_data)\n",
    "max(dist_data)\n",
    "hist(dist_data,breaks=seq(0,120,by=10))\n"
   ]
  },
  {
   "cell_type": "code",
   "execution_count": 128,
   "metadata": {
    "vscode": {
     "languageId": "r"
    }
   },
   "outputs": [
    {
     "data": {
      "text/html": [
       "<style>\n",
       ".dl-inline {width: auto; margin:0; padding: 0}\n",
       ".dl-inline>dt, .dl-inline>dd {float: none; width: auto; display: inline-block}\n",
       ".dl-inline>dt::after {content: \":\\0020\"; padding-right: .5ex}\n",
       ".dl-inline>dt:not(:first-of-type) {padding-left: .5ex}\n",
       "</style><dl class=dl-inline><dt>0%</dt><dd>2</dd><dt>25%</dt><dd>26</dd><dt>50%</dt><dd>36</dd><dt>75%</dt><dd>56</dd><dt>100%</dt><dd>120</dd></dl>\n"
      ],
      "text/latex": [
       "\\begin{description*}\n",
       "\\item[0\\textbackslash{}\\%] 2\n",
       "\\item[25\\textbackslash{}\\%] 26\n",
       "\\item[50\\textbackslash{}\\%] 36\n",
       "\\item[75\\textbackslash{}\\%] 56\n",
       "\\item[100\\textbackslash{}\\%] 120\n",
       "\\end{description*}\n"
      ],
      "text/markdown": [
       "0%\n",
       ":   225%\n",
       ":   2650%\n",
       ":   3675%\n",
       ":   56100%\n",
       ":   120\n",
       "\n"
      ],
      "text/plain": [
       "  0%  25%  50%  75% 100% \n",
       "   2   26   36   56  120 "
      ]
     },
     "metadata": {},
     "output_type": "display_data"
    }
   ],
   "source": [
    "Q = quantile(dist_data,probs = seq(0,1,0.25),na.rm=FALSE)\n",
    "Q"
   ]
  },
  {
   "cell_type": "code",
   "execution_count": 131,
   "metadata": {
    "vscode": {
     "languageId": "r"
    }
   },
   "outputs": [
    {
     "data": {
      "text/html": [
       "30"
      ],
      "text/latex": [
       "30"
      ],
      "text/markdown": [
       "30"
      ],
      "text/plain": [
       "[1] 30"
      ]
     },
     "metadata": {},
     "output_type": "display_data"
    }
   ],
   "source": [
    "iqr = IQR(dist_data)\n",
    "iqr"
   ]
  },
  {
   "cell_type": "code",
   "execution_count": 133,
   "metadata": {
    "vscode": {
     "languageId": "r"
    }
   },
   "outputs": [
    {
     "data": {
      "text/html": [
       "<strong>25%:</strong> -19"
      ],
      "text/latex": [
       "\\textbf{25\\textbackslash{}\\%:} -19"
      ],
      "text/markdown": [
       "**25%:** -19"
      ],
      "text/plain": [
       "25% \n",
       "-19 "
      ]
     },
     "metadata": {},
     "output_type": "display_data"
    },
    {
     "data": {
      "text/html": [
       "<strong>75%:</strong> 101"
      ],
      "text/latex": [
       "\\textbf{75\\textbackslash{}\\%:} 101"
      ],
      "text/markdown": [
       "**75%:** 101"
      ],
      "text/plain": [
       "75% \n",
       "101 "
      ]
     },
     "metadata": {},
     "output_type": "display_data"
    }
   ],
   "source": [
    "lout = Q[2]-(1.5*iqr)\n",
    "lout\n",
    "uout =Q[4]+(1.5*iqr)\n",
    "uout"
   ]
  },
  {
   "cell_type": "code",
   "execution_count": 134,
   "metadata": {
    "vscode": {
     "languageId": "r"
    }
   },
   "outputs": [
    {
     "data": {
      "image/png": "[encoded data removed]",
      "text/plain": [
       "plot without title"
      ]
     },
     "metadata": {
      "image/png": {
       "height": 420,
       "width": 420
      }
     },
     "output_type": "display_data"
    }
   ],
   "source": [
    "boxplot(dist_data)"
   ]
  },
  {
   "cell_type": "code",
   "execution_count": 137,
   "metadata": {
    "vscode": {
     "languageId": "r"
    }
   },
   "outputs": [],
   "source": [
    "normal_dist_data = dist_data[(lout<dist_data & dist_data<uout)]"
   ]
  },
  {
   "cell_type": "code",
   "execution_count": 140,
   "metadata": {
    "vscode": {
     "languageId": "r"
    }
   },
   "outputs": [
    {
     "data": {
      "text/html": [
       "<style>\n",
       ".list-inline {list-style: none; margin:0; padding: 0}\n",
       ".list-inline>li {display: inline-block}\n",
       ".list-inline>li:not(:last-child)::after {content: \"\\00b7\"; padding: 0 .5ex}\n",
       "</style>\n",
       "<ol class=list-inline><li>2</li><li>10</li><li>4</li><li>22</li><li>16</li><li>10</li><li>18</li><li>26</li><li>34</li><li>17</li><li>28</li><li>14</li><li>20</li><li>24</li><li>28</li><li>26</li><li>34</li><li>34</li><li>46</li><li>26</li><li>36</li><li>60</li><li>80</li><li>20</li><li>26</li><li>54</li><li>32</li><li>40</li><li>32</li><li>40</li><li>50</li><li>42</li><li>56</li><li>76</li><li>84</li><li>36</li><li>46</li><li>68</li><li>32</li><li>48</li><li>52</li><li>56</li><li>64</li><li>66</li><li>54</li><li>70</li><li>92</li><li>93</li><li>85</li></ol>\n"
      ],
      "text/latex": [
       "\\begin{enumerate*}\n",
       "\\item 2\n",
       "\\item 10\n",
       "\\item 4\n",
       "\\item 22\n",
       "\\item 16\n",
       "\\item 10\n",
       "\\item 18\n",
       "\\item 26\n",
       "\\item 34\n",
       "\\item 17\n",
       "\\item 28\n",
       "\\item 14\n",
       "\\item 20\n",
       "\\item 24\n",
       "\\item 28\n",
       "\\item 26\n",
       "\\item 34\n",
       "\\item 34\n",
       "\\item 46\n",
       "\\item 26\n",
       "\\item 36\n",
       "\\item 60\n",
       "\\item 80\n",
       "\\item 20\n",
       "\\item 26\n",
       "\\item 54\n",
       "\\item 32\n",
       "\\item 40\n",
       "\\item 32\n",
       "\\item 40\n",
       "\\item 50\n",
       "\\item 42\n",
       "\\item 56\n",
       "\\item 76\n",
       "\\item 84\n",
       "\\item 36\n",
       "\\item 46\n",
       "\\item 68\n",
       "\\item 32\n",
       "\\item 48\n",
       "\\item 52\n",
       "\\item 56\n",
       "\\item 64\n",
       "\\item 66\n",
       "\\item 54\n",
       "\\item 70\n",
       "\\item 92\n",
       "\\item 93\n",
       "\\item 85\n",
       "\\end{enumerate*}\n"
      ],
      "text/markdown": [
       "1. 2\n",
       "2. 10\n",
       "3. 4\n",
       "4. 22\n",
       "5. 16\n",
       "6. 10\n",
       "7. 18\n",
       "8. 26\n",
       "9. 34\n",
       "10. 17\n",
       "11. 28\n",
       "12. 14\n",
       "13. 20\n",
       "14. 24\n",
       "15. 28\n",
       "16. 26\n",
       "17. 34\n",
       "18. 34\n",
       "19. 46\n",
       "20. 26\n",
       "21. 36\n",
       "22. 60\n",
       "23. 80\n",
       "24. 20\n",
       "25. 26\n",
       "26. 54\n",
       "27. 32\n",
       "28. 40\n",
       "29. 32\n",
       "30. 40\n",
       "31. 50\n",
       "32. 42\n",
       "33. 56\n",
       "34. 76\n",
       "35. 84\n",
       "36. 36\n",
       "37. 46\n",
       "38. 68\n",
       "39. 32\n",
       "40. 48\n",
       "41. 52\n",
       "42. 56\n",
       "43. 64\n",
       "44. 66\n",
       "45. 54\n",
       "46. 70\n",
       "47. 92\n",
       "48. 93\n",
       "49. 85\n",
       "\n",
       "\n"
      ],
      "text/plain": [
       " [1]  2 10  4 22 16 10 18 26 34 17 28 14 20 24 28 26 34 34 46 26 36 60 80 20 26\n",
       "[26] 54 32 40 32 40 50 42 56 76 84 36 46 68 32 48 52 56 64 66 54 70 92 93 85"
      ]
     },
     "metadata": {},
     "output_type": "display_data"
    },
    {
     "data": {
      "text/html": [
       "2029"
      ],
      "text/latex": [
       "2029"
      ],
      "text/markdown": [
       "2029"
      ],
      "text/plain": [
       "[1] 2029"
      ]
     },
     "metadata": {},
     "output_type": "display_data"
    }
   ],
   "source": [
    "normal_dist_data\n",
    "sum(normal_dist_data)"
   ]
  },
  {
   "cell_type": "code",
   "execution_count": 139,
   "metadata": {
    "vscode": {
     "languageId": "r"
    }
   },
   "outputs": [
    {
     "data": {
      "image/png": "[encoded data removed]",
      "text/plain": [
       "plot without title"
      ]
     },
     "metadata": {
      "image/png": {
       "height": 420,
       "width": 420
      }
     },
     "output_type": "display_data"
    }
   ],
   "source": [
    "boxplot(normal_dist_data)"
   ]
  },
  {
   "cell_type": "code",
   "execution_count": null,
   "metadata": {
    "vscode": {
     "languageId": "r"
    }
   },
   "outputs": [],
   "source": []
  }
 ],
 "metadata": {
  "kernelspec": {
   "display_name": "R",
   "language": "R",
   "name": "ir"
  },
  "language_info": {
   "codemirror_mode": "r",
   "file_extension": ".r",
   "mimetype": "text/x-r-source",
   "name": "R",
   "pygments_lexer": "r",
   "version": "4.2.2"
  },
  "orig_nbformat": 4,
  "vscode": {
   "interpreter": {
    "hash": "ad2bdc8ecc057115af97d19610ffacc2b4e99fae6737bb82f5d7fb13d2f2c186"
   }
  }
 },
 "nbformat": 4,
 "nbformat_minor": 2
}
