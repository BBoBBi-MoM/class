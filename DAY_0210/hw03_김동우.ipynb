{
 "cells": [
  {
   "cell_type": "code",
   "execution_count": 2,
   "metadata": {
    "vscode": {
     "languageId": "r"
    }
   },
   "outputs": [
    {
     "name": "stdout",
     "output_type": "stream",
     "text": [
      "1 * 1 = 1 \n",
      "1 * 2 = 2 \n",
      "1 * 3 = 3 \n",
      "1 * 4 = 4 \n",
      "1 * 5 = 5 \n",
      "1 * 6 = 6 \n",
      "1 * 7 = 7 \n",
      "1 * 8 = 8 \n",
      "1 * 9 = 9 \n",
      "2 * 1 = 2 \n",
      "2 * 2 = 4 \n",
      "2 * 3 = 6 \n",
      "2 * 4 = 8 \n",
      "2 * 5 = 10 \n",
      "2 * 6 = 12 \n",
      "2 * 7 = 14 \n",
      "2 * 8 = 16 \n",
      "2 * 9 = 18 \n",
      "3 * 1 = 3 \n",
      "3 * 2 = 6 \n",
      "3 * 3 = 9 \n",
      "3 * 4 = 12 \n",
      "3 * 5 = 15 \n",
      "3 * 6 = 18 \n",
      "3 * 7 = 21 \n",
      "3 * 8 = 24 \n",
      "3 * 9 = 27 \n",
      "4 * 1 = 4 \n",
      "4 * 2 = 8 \n",
      "4 * 3 = 12 \n",
      "4 * 4 = 16 \n",
      "4 * 5 = 20 \n",
      "4 * 6 = 24 \n",
      "4 * 7 = 28 \n",
      "4 * 8 = 32 \n",
      "4 * 9 = 36 \n",
      "5 * 1 = 5 \n",
      "5 * 2 = 10 \n",
      "5 * 3 = 15 \n",
      "5 * 4 = 20 \n",
      "5 * 5 = 25 \n",
      "5 * 6 = 30 \n",
      "5 * 7 = 35 \n",
      "5 * 8 = 40 \n",
      "5 * 9 = 45 \n",
      "6 * 1 = 6 \n",
      "6 * 2 = 12 \n",
      "6 * 3 = 18 \n",
      "6 * 4 = 24 \n",
      "6 * 5 = 30 \n",
      "6 * 6 = 36 \n",
      "6 * 7 = 42 \n",
      "6 * 8 = 48 \n",
      "6 * 9 = 54 \n",
      "7 * 1 = 7 \n",
      "7 * 2 = 14 \n",
      "7 * 3 = 21 \n",
      "7 * 4 = 28 \n",
      "7 * 5 = 35 \n",
      "7 * 6 = 42 \n",
      "7 * 7 = 49 \n",
      "7 * 8 = 56 \n",
      "7 * 9 = 63 \n",
      "8 * 1 = 8 \n",
      "8 * 2 = 16 \n",
      "8 * 3 = 24 \n",
      "8 * 4 = 32 \n",
      "8 * 5 = 40 \n",
      "8 * 6 = 48 \n",
      "8 * 7 = 56 \n",
      "8 * 8 = 64 \n",
      "8 * 9 = 72 \n",
      "9 * 1 = 9 \n",
      "9 * 2 = 18 \n",
      "9 * 3 = 27 \n",
      "9 * 4 = 36 \n",
      "9 * 5 = 45 \n",
      "9 * 6 = 54 \n",
      "9 * 7 = 63 \n",
      "9 * 8 = 72 \n",
      "9 * 9 = 81 \n"
     ]
    }
   ],
   "source": [
    "#1\n",
    "for(i in 1:9){\n",
    "    for(j in 1:9){\n",
    "        cat(i,'*',j,'=',i*j,'\\n')\n",
    "    }\n",
    "}"
   ]
  },
  {
   "cell_type": "code",
   "execution_count": 22,
   "metadata": {
    "vscode": {
     "languageId": "r"
    }
   },
   "outputs": [
    {
     "name": "stdout",
     "output_type": "stream",
     "text": [
      "1 * 1 = 1 \t4 * 1 = 4 \t7 * 1 = 7 \n",
      "1 * 2 = 2 \t4 * 2 = 8 \t7 * 2 = 14 \n",
      "1 * 3 = 3 \t4 * 3 = 12 \t7 * 3 = 21 \n",
      "1 * 4 = 4 \t4 * 4 = 16 \t7 * 4 = 28 \n",
      "1 * 5 = 5 \t4 * 5 = 20 \t7 * 5 = 35 \n",
      "1 * 6 = 6 \t4 * 6 = 24 \t7 * 6 = 42 \n",
      "1 * 7 = 7 \t4 * 7 = 28 \t7 * 7 = 49 \n",
      "1 * 8 = 8 \t4 * 8 = 32 \t7 * 8 = 56 \n",
      "1 * 9 = 9 \t4 * 9 = 36 \t7 * 9 = 63 \n",
      "2 * 1 = 2 \t5 * 1 = 5 \t8 * 1 = 8 \n",
      "2 * 2 = 4 \t5 * 2 = 10 \t8 * 2 = 16 \n",
      "2 * 3 = 6 \t5 * 3 = 15 \t8 * 3 = 24 \n",
      "2 * 4 = 8 \t5 * 4 = 20 \t8 * 4 = 32 \n",
      "2 * 5 = 10 \t5 * 5 = 25 \t8 * 5 = 40 \n",
      "2 * 6 = 12 \t5 * 6 = 30 \t8 * 6 = 48 \n",
      "2 * 7 = 14 \t5 * 7 = 35 \t8 * 7 = 56 \n",
      "2 * 8 = 16 \t5 * 8 = 40 \t8 * 8 = 64 \n",
      "2 * 9 = 18 \t5 * 9 = 45 \t8 * 9 = 72 \n",
      "3 * 1 = 3 \t6 * 1 = 6 \t9 * 1 = 9 \n",
      "3 * 2 = 6 \t6 * 2 = 12 \t9 * 2 = 18 \n",
      "3 * 3 = 9 \t6 * 3 = 18 \t9 * 3 = 27 \n",
      "3 * 4 = 12 \t6 * 4 = 24 \t9 * 4 = 36 \n",
      "3 * 5 = 15 \t6 * 5 = 30 \t9 * 5 = 45 \n",
      "3 * 6 = 18 \t6 * 6 = 36 \t9 * 6 = 54 \n",
      "3 * 7 = 21 \t6 * 7 = 42 \t9 * 7 = 63 \n",
      "3 * 8 = 24 \t6 * 8 = 48 \t9 * 8 = 72 \n",
      "3 * 9 = 27 \t6 * 9 = 54 \t9 * 9 = 81 \n"
     ]
    }
   ],
   "source": [
    "#2\n",
    "for(i in 1:3){\n",
    "    for(j in 1:9){\n",
    "        cat(i,'*',j,'=',i*j,'\\t')\n",
    "        cat(i+3,'*',j,'=',(i+3)*j,'\\t')\n",
    "        cat(i+6,'*',j,'=',(i+6)*j,'\\n')\n",
    "    }\n",
    "}"
   ]
  },
  {
   "cell_type": "code",
   "execution_count": 24,
   "metadata": {
    "vscode": {
     "languageId": "r"
    }
   },
   "outputs": [
    {
     "name": "stdout",
     "output_type": "stream",
     "text": [
      "*                 * \n",
      "* * *         * * * \n",
      "* * * * * * * * * * \n",
      "* * *         * * * \n",
      "*                 * \n"
     ]
    }
   ],
   "source": [
    "#3\n",
    "iter=1\n",
    "while(iter<=5){\n",
    "    if(iter%%3==0){\n",
    "        cat(rep('*',10),end='\\n')\n",
    "    }else if(iter%%2==0){\n",
    "        cat(rep('*',3),rep(' ',4),rep('*',3),end='\\n')\n",
    "    }else{\n",
    "        cat(rep('*',1),rep(' ',8),rep('*',1),end='\\n')\n",
    "    }\n",
    "    iter=iter+1\n",
    "}"
   ]
  },
  {
   "cell_type": "code",
   "execution_count": 4,
   "metadata": {
    "vscode": {
     "languageId": "r"
    }
   },
   "outputs": [
    {
     "name": "stdout",
     "output_type": "stream",
     "text": [
      "45 1035"
     ]
    }
   ],
   "source": [
    "#4\n",
    "summation1 = 0\n",
    "for(i in 1:100){\n",
    "    summation1 = summation1+i\n",
    "    if(summation1>=1000){\n",
    "        cat(i,summation1)\n",
    "        break\n",
    "    }\n",
    "}"
   ]
  },
  {
   "cell_type": "code",
   "execution_count": 5,
   "metadata": {
    "vscode": {
     "languageId": "r"
    }
   },
   "outputs": [
    {
     "name": "stdout",
     "output_type": "stream",
     "text": [
      "[1] 1950\n"
     ]
    }
   ],
   "source": [
    "#5\n",
    "summation2 = 0\n",
    "for(i in 50:100){\n",
    "    if(i%%2==1){next}\n",
    "    summation2 = summation2+i\n",
    "}\n",
    "print(summation2)"
   ]
  },
  {
   "cell_type": "code",
   "execution_count": 17,
   "metadata": {
    "vscode": {
     "languageId": "r"
    }
   },
   "outputs": [],
   "source": [
    "#6\n",
    "desc_vector <- function(vec){\n",
    "    sum_of_vec = sum(vec)\n",
    "    min_of_vec = min(vec)\n",
    "    max_of_vec = max(vec)\n",
    "    mean_of_vec = mean(vec)\n",
    "    var_of_vec = var(vec)\n",
    "    result = c(sum_of_vec,min_of_vec,max_of_vec,mean_of_vec,var_of_vec)\n",
    "    return(result) \n",
    "}\n",
    "x= 1:10\n",
    "desc_vector(x)"
   ]
  },
  {
   "cell_type": "code",
   "execution_count": 25,
   "metadata": {
    "vscode": {
     "languageId": "r"
    }
   },
   "outputs": [
    {
     "data": {
      "text/html": [
       "10"
      ],
      "text/latex": [
       "10"
      ],
      "text/markdown": [
       "10"
      ],
      "text/plain": [
       "[1] 10"
      ]
     },
     "metadata": {},
     "output_type": "display_data"
    },
    {
     "data": {
      "text/html": [
       "55"
      ],
      "text/latex": [
       "55"
      ],
      "text/markdown": [
       "55"
      ],
      "text/plain": [
       "[1] 55"
      ]
     },
     "metadata": {},
     "output_type": "display_data"
    }
   ],
   "source": [
    "#7\n",
    "desc_vector <- function(vec,input_val){\n",
    "    len_of_vec = length(vec)\n",
    "    sum_of_vec = sum(vec)\n",
    "    min_of_vec = min(vec)\n",
    "    max_of_vec = max(vec)\n",
    "    mean_of_vec = mean(vec)\n",
    "    var_of_vec = var(vec)\n",
    "    switch(input_val,len_of_vec,sum_of_vec,min_of_vec,max_of_vec,mean_of_vec,var_of_vec)\n",
    "}\n",
    "x= 1:10\n",
    "desc_vector(x,1)\n",
    "desc_vector(x,2)\n"
   ]
  },
  {
   "cell_type": "code",
   "execution_count": 27,
   "metadata": {
    "vscode": {
     "languageId": "r"
    }
   },
   "outputs": [
    {
     "data": {
      "text/html": [
       "55"
      ],
      "text/latex": [
       "55"
      ],
      "text/markdown": [
       "55"
      ],
      "text/plain": [
       "[1] 55"
      ]
     },
     "metadata": {},
     "output_type": "display_data"
    }
   ],
   "source": [
    "#8\n",
    "desc_vector <- function(vec,input_val=2){\n",
    "    len_of_vec = length(vec)\n",
    "    sum_of_vec = sum(vec)\n",
    "    min_of_vec = min(vec)\n",
    "    max_of_vec = max(vec)\n",
    "    mean_of_vec = mean(vec)\n",
    "    var_of_vec = var(vec)\n",
    "    switch(input_val,len_of_vec,sum_of_vec,min_of_vec,max_of_vec,mean_of_vec,var_of_vec)\n",
    "}\n",
    "x= 1:10\n",
    "desc_vector(x)\n"
   ]
  },
  {
   "cell_type": "code",
   "execution_count": 16,
   "metadata": {
    "vscode": {
     "languageId": "r"
    }
   },
   "outputs": [
    {
     "name": "stdout",
     "output_type": "stream",
     "text": [
      "3 * 1 = 3 \n",
      "3 * 2 = 6 \n",
      "3 * 3 = 9 \n",
      "3 * 4 = 12 \n",
      "3 * 5 = 15 \n",
      "3 * 6 = 18 \n",
      "3 * 7 = 21 \n",
      "3 * 8 = 24 \n",
      "3 * 9 = 27 \n",
      "4 * 1 = 4 \n",
      "4 * 2 = 8 \n",
      "4 * 3 = 12 \n",
      "4 * 4 = 16 \n",
      "4 * 5 = 20 \n",
      "4 * 6 = 24 \n",
      "4 * 7 = 28 \n",
      "4 * 8 = 32 \n",
      "4 * 9 = 36 \n"
     ]
    }
   ],
   "source": [
    "#9\n",
    "multi_table <- function(num1,num2){\n",
    "    max_num = max(num1,num2)\n",
    "    min_num = min(num1,num2)\n",
    "    for(i in min_num:max_num){\n",
    "        for(j in 1:9)\n",
    "        cat(i,'*',j,'=',i*j,'\\n')\n",
    "    }\n",
    "}\n",
    "multi_table(4,3)"
   ]
  },
  {
   "cell_type": "code",
   "execution_count": null,
   "metadata": {
    "vscode": {
     "languageId": "r"
    }
   },
   "outputs": [],
   "source": []
  }
 ],
 "metadata": {
  "kernelspec": {
   "display_name": "R",
   "language": "R",
   "name": "ir"
  },
  "language_info": {
   "codemirror_mode": "r",
   "file_extension": ".r",
   "mimetype": "text/x-r-source",
   "name": "R",
   "pygments_lexer": "r",
   "version": "3.6.1"
  },
  "orig_nbformat": 4,
  "vscode": {
   "interpreter": {
    "hash": "c9ccd8639d7ac6d8ae46f08631d02de0d1c9f4a08850208985333be71082afd9"
   }
  }
 },
 "nbformat": 4,
 "nbformat_minor": 2
}
