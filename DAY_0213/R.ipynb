{
 "cells": [
  {
   "cell_type": "code",
   "execution_count": null,
   "metadata": {
    "vscode": {
     "languageId": "r"
    }
   },
   "outputs": [
    {
     "ename": "",
     "evalue": "",
     "output_type": "error",
     "traceback": [
      "\u001b[1;31mFailed to start the Kernel. \n",
      "\u001b[1;31mThe kernel 'R' was not started as it is located in an insecure location 'c:\\ProgramData\\jupyter\\kernels\\ir\\kernel.json'.  \n",
      "\u001b[1;31mClick <a href='https://aka.ms/JupyterTrustedKernelPaths'>here</a> for further details, optionally update the setting <a href='command:workbench.action.openSettings?[\"jupyter.kernels.trusted\"]'>jupyter.kernels.trusted</a> to trust the kernel."
     ]
    }
   ],
   "source": [
    "x <- 1\n",
    "y <- 1\n",
    "dot1<- c(4,1)\n",
    "dot2<- c(3,2)\n",
    "dot3<- c(5,2)\n",
    "dot4<- c(5,4)\n",
    "dot5<- c(4,5)\n",
    "dot6<- c(6,5)\n",
    "dot7<- c(5,6)\n",
    "dot8<- c(2,7)\n",
    "dot9<- c(4,7)\n",
    "dot10<- c(6,7)\n",
    "dot11<- c(1,8)\n",
    "dot12<- c(3,8)\n",
    "dot13<- c(5,8)\n",
    "dot14<- c(7,8)\n",
    "dot15<- c(2,9)\n",
    "dot23<-c(4,9)\n",
    "dot16<- c(8,9)\n",
    "dot17<- c(1,10)\n",
    "dot18<- c(5,10)\n",
    "dot19<- c(7,10)\n",
    "dot20<- c(8,11)\n",
    "dot21<- c(5,12)\n",
    "dot22<- c(5,14)\n"
   ]
  },
  {
   "cell_type": "code",
   "execution_count": null,
   "metadata": {
    "vscode": {
     "languageId": "r"
    }
   },
   "outputs": [],
   "source": []
  }
 ],
 "metadata": {
  "kernelspec": {
   "display_name": "R",
   "language": "R",
   "name": "ir"
  },
  "language_info": {
   "name": "R",
   "version": "3.7.1"
  },
  "orig_nbformat": 4,
  "vscode": {
   "interpreter": {
    "hash": "98f1a276b69038419e7569041aaca8fb705ef03488c977e88631304fab44a500"
   }
  }
 },
 "nbformat": 4,
 "nbformat_minor": 2
}
