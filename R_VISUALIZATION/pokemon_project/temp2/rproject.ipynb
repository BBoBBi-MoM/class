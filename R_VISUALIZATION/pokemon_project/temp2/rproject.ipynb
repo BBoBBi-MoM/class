{
 "cells": [
  {
   "cell_type": "code",
   "execution_count": 1,
   "metadata": {
    "vscode": {
     "languageId": "r"
    }
   },
   "outputs": [],
   "source": [
    "pokemon_data = read.csv('pokemon.csv')\n",
    "combat_data = read.csv('combats.csv')\n",
    "kor_name = read.csv('name_data.csv')"
   ]
  },
  {
   "cell_type": "code",
   "execution_count": 2,
   "metadata": {
    "vscode": {
     "languageId": "r"
    }
   },
   "outputs": [
    {
     "data": {
      "text/html": [
       "<table class=\"dataframe\">\n",
       "<caption>A data.frame: 6 × 12</caption>\n",
       "<thead>\n",
       "\t<tr><th></th><th scope=col>X.</th><th scope=col>Name</th><th scope=col>Type.1</th><th scope=col>Type.2</th><th scope=col>HP</th><th scope=col>Attack</th><th scope=col>Defense</th><th scope=col>Sp..Atk</th><th scope=col>Sp..Def</th><th scope=col>Speed</th><th scope=col>Generation</th><th scope=col>Legendary</th></tr>\n",
       "\t<tr><th></th><th scope=col>&lt;int&gt;</th><th scope=col>&lt;chr&gt;</th><th scope=col>&lt;chr&gt;</th><th scope=col>&lt;chr&gt;</th><th scope=col>&lt;int&gt;</th><th scope=col>&lt;int&gt;</th><th scope=col>&lt;int&gt;</th><th scope=col>&lt;int&gt;</th><th scope=col>&lt;int&gt;</th><th scope=col>&lt;int&gt;</th><th scope=col>&lt;int&gt;</th><th scope=col>&lt;chr&gt;</th></tr>\n",
       "</thead>\n",
       "<tbody>\n",
       "\t<tr><th scope=row>1</th><td>1</td><td>Bulbasaur    </td><td>Grass</td><td>Poison</td><td>45</td><td> 49</td><td> 49</td><td> 65</td><td> 65</td><td>45</td><td>1</td><td>False</td></tr>\n",
       "\t<tr><th scope=row>2</th><td>2</td><td>Ivysaur      </td><td>Grass</td><td>Poison</td><td>60</td><td> 62</td><td> 63</td><td> 80</td><td> 80</td><td>60</td><td>1</td><td>False</td></tr>\n",
       "\t<tr><th scope=row>3</th><td>3</td><td>Venusaur     </td><td>Grass</td><td>Poison</td><td>80</td><td> 82</td><td> 83</td><td>100</td><td>100</td><td>80</td><td>1</td><td>False</td></tr>\n",
       "\t<tr><th scope=row>4</th><td>4</td><td>Mega Venusaur</td><td>Grass</td><td>Poison</td><td>80</td><td>100</td><td>123</td><td>122</td><td>120</td><td>80</td><td>1</td><td>False</td></tr>\n",
       "\t<tr><th scope=row>5</th><td>5</td><td>Charmander   </td><td>Fire </td><td>      </td><td>39</td><td> 52</td><td> 43</td><td> 60</td><td> 50</td><td>65</td><td>1</td><td>False</td></tr>\n",
       "\t<tr><th scope=row>6</th><td>6</td><td>Charmeleon   </td><td>Fire </td><td>      </td><td>58</td><td> 64</td><td> 58</td><td> 80</td><td> 65</td><td>80</td><td>1</td><td>False</td></tr>\n",
       "</tbody>\n",
       "</table>\n"
      ],
      "text/latex": [
       "A data.frame: 6 × 12\n",
       "\\begin{tabular}{r|llllllllllll}\n",
       "  & X. & Name & Type.1 & Type.2 & HP & Attack & Defense & Sp..Atk & Sp..Def & Speed & Generation & Legendary\\\\\n",
       "  & <int> & <chr> & <chr> & <chr> & <int> & <int> & <int> & <int> & <int> & <int> & <int> & <chr>\\\\\n",
       "\\hline\n",
       "\t1 & 1 & Bulbasaur     & Grass & Poison & 45 &  49 &  49 &  65 &  65 & 45 & 1 & False\\\\\n",
       "\t2 & 2 & Ivysaur       & Grass & Poison & 60 &  62 &  63 &  80 &  80 & 60 & 1 & False\\\\\n",
       "\t3 & 3 & Venusaur      & Grass & Poison & 80 &  82 &  83 & 100 & 100 & 80 & 1 & False\\\\\n",
       "\t4 & 4 & Mega Venusaur & Grass & Poison & 80 & 100 & 123 & 122 & 120 & 80 & 1 & False\\\\\n",
       "\t5 & 5 & Charmander    & Fire  &        & 39 &  52 &  43 &  60 &  50 & 65 & 1 & False\\\\\n",
       "\t6 & 6 & Charmeleon    & Fire  &        & 58 &  64 &  58 &  80 &  65 & 80 & 1 & False\\\\\n",
       "\\end{tabular}\n"
      ],
      "text/markdown": [
       "\n",
       "A data.frame: 6 × 12\n",
       "\n",
       "| <!--/--> | X. &lt;int&gt; | Name &lt;chr&gt; | Type.1 &lt;chr&gt; | Type.2 &lt;chr&gt; | HP &lt;int&gt; | Attack &lt;int&gt; | Defense &lt;int&gt; | Sp..Atk &lt;int&gt; | Sp..Def &lt;int&gt; | Speed &lt;int&gt; | Generation &lt;int&gt; | Legendary &lt;chr&gt; |\n",
       "|---|---|---|---|---|---|---|---|---|---|---|---|---|\n",
       "| 1 | 1 | Bulbasaur     | Grass | Poison | 45 |  49 |  49 |  65 |  65 | 45 | 1 | False |\n",
       "| 2 | 2 | Ivysaur       | Grass | Poison | 60 |  62 |  63 |  80 |  80 | 60 | 1 | False |\n",
       "| 3 | 3 | Venusaur      | Grass | Poison | 80 |  82 |  83 | 100 | 100 | 80 | 1 | False |\n",
       "| 4 | 4 | Mega Venusaur | Grass | Poison | 80 | 100 | 123 | 122 | 120 | 80 | 1 | False |\n",
       "| 5 | 5 | Charmander    | Fire  | <!----> | 39 |  52 |  43 |  60 |  50 | 65 | 1 | False |\n",
       "| 6 | 6 | Charmeleon    | Fire  | <!----> | 58 |  64 |  58 |  80 |  65 | 80 | 1 | False |\n",
       "\n"
      ],
      "text/plain": [
       "  X. Name          Type.1 Type.2 HP Attack Defense Sp..Atk Sp..Def Speed\n",
       "1 1  Bulbasaur     Grass  Poison 45  49     49      65      65     45   \n",
       "2 2  Ivysaur       Grass  Poison 60  62     63      80      80     60   \n",
       "3 3  Venusaur      Grass  Poison 80  82     83     100     100     80   \n",
       "4 4  Mega Venusaur Grass  Poison 80 100    123     122     120     80   \n",
       "5 5  Charmander    Fire          39  52     43      60      50     65   \n",
       "6 6  Charmeleon    Fire          58  64     58      80      65     80   \n",
       "  Generation Legendary\n",
       "1 1          False    \n",
       "2 1          False    \n",
       "3 1          False    \n",
       "4 1          False    \n",
       "5 1          False    \n",
       "6 1          False    "
      ]
     },
     "metadata": {},
     "output_type": "display_data"
    },
    {
     "data": {
      "text/html": [
       "<table class=\"dataframe\">\n",
       "<caption>A data.frame: 6 × 3</caption>\n",
       "<thead>\n",
       "\t<tr><th></th><th scope=col>First_pokemon</th><th scope=col>Second_pokemon</th><th scope=col>Winner</th></tr>\n",
       "\t<tr><th></th><th scope=col>&lt;int&gt;</th><th scope=col>&lt;int&gt;</th><th scope=col>&lt;int&gt;</th></tr>\n",
       "</thead>\n",
       "<tbody>\n",
       "\t<tr><th scope=row>1</th><td>266</td><td>298</td><td>298</td></tr>\n",
       "\t<tr><th scope=row>2</th><td>702</td><td>701</td><td>701</td></tr>\n",
       "\t<tr><th scope=row>3</th><td>191</td><td>668</td><td>668</td></tr>\n",
       "\t<tr><th scope=row>4</th><td>237</td><td>683</td><td>683</td></tr>\n",
       "\t<tr><th scope=row>5</th><td>151</td><td>231</td><td>151</td></tr>\n",
       "\t<tr><th scope=row>6</th><td>657</td><td>752</td><td>657</td></tr>\n",
       "</tbody>\n",
       "</table>\n"
      ],
      "text/latex": [
       "A data.frame: 6 × 3\n",
       "\\begin{tabular}{r|lll}\n",
       "  & First\\_pokemon & Second\\_pokemon & Winner\\\\\n",
       "  & <int> & <int> & <int>\\\\\n",
       "\\hline\n",
       "\t1 & 266 & 298 & 298\\\\\n",
       "\t2 & 702 & 701 & 701\\\\\n",
       "\t3 & 191 & 668 & 668\\\\\n",
       "\t4 & 237 & 683 & 683\\\\\n",
       "\t5 & 151 & 231 & 151\\\\\n",
       "\t6 & 657 & 752 & 657\\\\\n",
       "\\end{tabular}\n"
      ],
      "text/markdown": [
       "\n",
       "A data.frame: 6 × 3\n",
       "\n",
       "| <!--/--> | First_pokemon &lt;int&gt; | Second_pokemon &lt;int&gt; | Winner &lt;int&gt; |\n",
       "|---|---|---|---|\n",
       "| 1 | 266 | 298 | 298 |\n",
       "| 2 | 702 | 701 | 701 |\n",
       "| 3 | 191 | 668 | 668 |\n",
       "| 4 | 237 | 683 | 683 |\n",
       "| 5 | 151 | 231 | 151 |\n",
       "| 6 | 657 | 752 | 657 |\n",
       "\n"
      ],
      "text/plain": [
       "  First_pokemon Second_pokemon Winner\n",
       "1 266           298            298   \n",
       "2 702           701            701   \n",
       "3 191           668            668   \n",
       "4 237           683            683   \n",
       "5 151           231            151   \n",
       "6 657           752            657   "
      ]
     },
     "metadata": {},
     "output_type": "display_data"
    },
    {
     "data": {
      "text/html": [
       "<table class=\"dataframe\">\n",
       "<caption>A data.frame: 6 × 4</caption>\n",
       "<thead>\n",
       "\t<tr><th></th><th scope=col>X</th><th scope=col>index</th><th scope=col>kor_name</th><th scope=col>Name</th></tr>\n",
       "\t<tr><th></th><th scope=col>&lt;int&gt;</th><th scope=col>&lt;int&gt;</th><th scope=col>&lt;chr&gt;</th><th scope=col>&lt;chr&gt;</th></tr>\n",
       "</thead>\n",
       "<tbody>\n",
       "\t<tr><th scope=row>1</th><td>0</td><td>1</td><td>이상해씨</td><td>Bulbasaur </td></tr>\n",
       "\t<tr><th scope=row>2</th><td>1</td><td>2</td><td>이상해풀</td><td>Ivysaur   </td></tr>\n",
       "\t<tr><th scope=row>3</th><td>2</td><td>3</td><td>이상해꽃</td><td>Venusaur  </td></tr>\n",
       "\t<tr><th scope=row>4</th><td>3</td><td>4</td><td>파이리  </td><td>Charmander</td></tr>\n",
       "\t<tr><th scope=row>5</th><td>4</td><td>5</td><td>리자드  </td><td>Charmeleon</td></tr>\n",
       "\t<tr><th scope=row>6</th><td>5</td><td>6</td><td>리자몽  </td><td>Charizard </td></tr>\n",
       "</tbody>\n",
       "</table>\n"
      ],
      "text/latex": [
       "A data.frame: 6 × 4\n",
       "\\begin{tabular}{r|llll}\n",
       "  & X & index & kor\\_name & Name\\\\\n",
       "  & <int> & <int> & <chr> & <chr>\\\\\n",
       "\\hline\n",
       "\t1 & 0 & 1 & 이상해씨 & Bulbasaur \\\\\n",
       "\t2 & 1 & 2 & 이상해풀 & Ivysaur   \\\\\n",
       "\t3 & 2 & 3 & 이상해꽃 & Venusaur  \\\\\n",
       "\t4 & 3 & 4 & 파이리   & Charmander\\\\\n",
       "\t5 & 4 & 5 & 리자드   & Charmeleon\\\\\n",
       "\t6 & 5 & 6 & 리자몽   & Charizard \\\\\n",
       "\\end{tabular}\n"
      ],
      "text/markdown": [
       "\n",
       "A data.frame: 6 × 4\n",
       "\n",
       "| <!--/--> | X &lt;int&gt; | index &lt;int&gt; | kor_name &lt;chr&gt; | Name &lt;chr&gt; |\n",
       "|---|---|---|---|---|\n",
       "| 1 | 0 | 1 | 이상해씨 | Bulbasaur  |\n",
       "| 2 | 1 | 2 | 이상해풀 | Ivysaur    |\n",
       "| 3 | 2 | 3 | 이상해꽃 | Venusaur   |\n",
       "| 4 | 3 | 4 | 파이리   | Charmander |\n",
       "| 5 | 4 | 5 | 리자드   | Charmeleon |\n",
       "| 6 | 5 | 6 | 리자몽   | Charizard  |\n",
       "\n"
      ],
      "text/plain": [
       "  X index kor_name Name      \n",
       "1 0 1     이상해씨 Bulbasaur \n",
       "2 1 2     이상해풀 Ivysaur   \n",
       "3 2 3     이상해꽃 Venusaur  \n",
       "4 3 4     파이리   Charmander\n",
       "5 4 5     리자드   Charmeleon\n",
       "6 5 6     리자몽   Charizard "
      ]
     },
     "metadata": {},
     "output_type": "display_data"
    },
    {
     "data": {
      "text/html": [
       "800"
      ],
      "text/latex": [
       "800"
      ],
      "text/markdown": [
       "800"
      ],
      "text/plain": [
       "[1] 800"
      ]
     },
     "metadata": {},
     "output_type": "display_data"
    }
   ],
   "source": [
    "head(pokemon_data)\n",
    "head(combat_data)\n",
    "head(kor_name)\n",
    "nrow(pokemon_data)"
   ]
  },
  {
   "attachments": {},
   "cell_type": "markdown",
   "metadata": {},
   "source": [
    "영어이름을 기준으로 한국어이름 열 추가.  \n",
    "영어이름,세대,전설여부 제거, 중복되는 정보 제거  \n",
    "타입 원핫인코딩  \n",
    "각 스탯 정규화  "
   ]
  },
  {
   "cell_type": "code",
   "execution_count": 3,
   "metadata": {
    "vscode": {
     "languageId": "r"
    }
   },
   "outputs": [],
   "source": [
    "pokemon_data = merge(pokemon_data,kor_name,by='Name') # 영문명 기준으로 합치기\n",
    "pokemon_data=pokemon_data[order(pokemon_data$X.),]    # 번호순으로 정렬\n",
    "pokemon_data = pokemon_data[,c(-1,-11,-12,-13,-14)]   # 불필요 컬럼 제거\n",
    "names(pokemon_data) = c('index','type1','type2','HP','attack','defense','sp.att','sp.def','speed','name')     #컬럼명 재설정\n",
    "pokemon_data = pokemon_data[,c(10,1,2,3,4,5,6,7,8,9)]       #컬럼순서 변경\n",
    "pokemon_data$type1=as.factor(pokemon_data$type1)            #타입을 범주형으로\n",
    "pokemon_data$type2=as.factor(pokemon_data$type2)\n",
    "type1_encoded = data.frame(model.matrix(~ type1 -1 ,data = pokemon_data))     #타입 원핫 인코딩\n",
    "type2_encoded = data.frame(model.matrix(~ type2 -1 ,data = pokemon_data))[-1]\n",
    "encoding_colnames = c('Bug','Dark','Dragon','Electric','Fairy','Fighting','Fire','Flying','Ghost','Grass','Ground','Ice','Normal','Poison','Psychic','Rock','Steel','Water')\n",
    "names(type1_encoded) = encoding_colnames\n",
    "names(type2_encoded) = encoding_colnames\n",
    "type_encoded = type1_encoded+ type2_encoded  \n",
    "pokemon_data = pokemon_data[,c(-4,-3)]  #기존의 타입 열 삭제\n",
    "pokemon_data = cbind(pokemon_data,type_encoded)       #원핫인코드한 열을 추가\n",
    "row.names(pokemon_data) = NULL                        # 인덱스 제거"
   ]
  },
  {
   "cell_type": "code",
   "execution_count": 4,
   "metadata": {
    "vscode": {
     "languageId": "r"
    }
   },
   "outputs": [],
   "source": [
    "nomalize = function(col){\n",
    "    mean_value = mean(col)\n",
    "    sd_value = sd(col)\n",
    "    nomalized_col = (col-mean_value)/sd_value\n",
    "    return(nomalized_col)\n",
    "}\n",
    "min_max_scailing = function(col){\n",
    "    max_value = max(col)\n",
    "    min_value = min(col)\n",
    "    scailed_col = (col-min_value)/(max_value-min_value)\n",
    "    return(scailed_col)\n",
    "}"
   ]
  },
  {
   "cell_type": "code",
   "execution_count": 5,
   "metadata": {
    "vscode": {
     "languageId": "r"
    }
   },
   "outputs": [
    {
     "data": {
      "text/html": [
       "<table class=\"dataframe\">\n",
       "<caption>A data.frame: 6 × 26</caption>\n",
       "<thead>\n",
       "\t<tr><th></th><th scope=col>name</th><th scope=col>index</th><th scope=col>HP</th><th scope=col>attack</th><th scope=col>defense</th><th scope=col>sp.att</th><th scope=col>sp.def</th><th scope=col>speed</th><th scope=col>Bug</th><th scope=col>Dark</th><th scope=col>⋯</th><th scope=col>Ghost</th><th scope=col>Grass</th><th scope=col>Ground</th><th scope=col>Ice</th><th scope=col>Normal</th><th scope=col>Poison</th><th scope=col>Psychic</th><th scope=col>Rock</th><th scope=col>Steel</th><th scope=col>Water</th></tr>\n",
       "\t<tr><th></th><th scope=col>&lt;chr&gt;</th><th scope=col>&lt;int&gt;</th><th scope=col>&lt;int&gt;</th><th scope=col>&lt;int&gt;</th><th scope=col>&lt;int&gt;</th><th scope=col>&lt;int&gt;</th><th scope=col>&lt;int&gt;</th><th scope=col>&lt;int&gt;</th><th scope=col>&lt;dbl&gt;</th><th scope=col>&lt;dbl&gt;</th><th scope=col>⋯</th><th scope=col>&lt;dbl&gt;</th><th scope=col>&lt;dbl&gt;</th><th scope=col>&lt;dbl&gt;</th><th scope=col>&lt;dbl&gt;</th><th scope=col>&lt;dbl&gt;</th><th scope=col>&lt;dbl&gt;</th><th scope=col>&lt;dbl&gt;</th><th scope=col>&lt;dbl&gt;</th><th scope=col>&lt;dbl&gt;</th><th scope=col>&lt;dbl&gt;</th></tr>\n",
       "</thead>\n",
       "<tbody>\n",
       "\t<tr><th scope=row>1</th><td>이상해씨</td><td>1</td><td>45</td><td>49</td><td>49</td><td> 65</td><td> 65</td><td> 45</td><td>0</td><td>0</td><td>⋯</td><td>0</td><td>1</td><td>0</td><td>0</td><td>0</td><td>1</td><td>0</td><td>0</td><td>0</td><td>0</td></tr>\n",
       "\t<tr><th scope=row>2</th><td>이상해풀</td><td>2</td><td>60</td><td>62</td><td>63</td><td> 80</td><td> 80</td><td> 60</td><td>0</td><td>0</td><td>⋯</td><td>0</td><td>1</td><td>0</td><td>0</td><td>0</td><td>1</td><td>0</td><td>0</td><td>0</td><td>0</td></tr>\n",
       "\t<tr><th scope=row>3</th><td>이상해꽃</td><td>3</td><td>80</td><td>82</td><td>83</td><td>100</td><td>100</td><td> 80</td><td>0</td><td>0</td><td>⋯</td><td>0</td><td>1</td><td>0</td><td>0</td><td>0</td><td>1</td><td>0</td><td>0</td><td>0</td><td>0</td></tr>\n",
       "\t<tr><th scope=row>4</th><td>파이리  </td><td>5</td><td>39</td><td>52</td><td>43</td><td> 60</td><td> 50</td><td> 65</td><td>0</td><td>0</td><td>⋯</td><td>0</td><td>0</td><td>0</td><td>0</td><td>0</td><td>0</td><td>0</td><td>0</td><td>0</td><td>0</td></tr>\n",
       "\t<tr><th scope=row>5</th><td>리자드  </td><td>6</td><td>58</td><td>64</td><td>58</td><td> 80</td><td> 65</td><td> 80</td><td>0</td><td>0</td><td>⋯</td><td>0</td><td>0</td><td>0</td><td>0</td><td>0</td><td>0</td><td>0</td><td>0</td><td>0</td><td>0</td></tr>\n",
       "\t<tr><th scope=row>6</th><td>리자몽  </td><td>7</td><td>78</td><td>84</td><td>78</td><td>109</td><td> 85</td><td>100</td><td>0</td><td>0</td><td>⋯</td><td>0</td><td>0</td><td>0</td><td>0</td><td>0</td><td>0</td><td>0</td><td>0</td><td>0</td><td>0</td></tr>\n",
       "</tbody>\n",
       "</table>\n"
      ],
      "text/latex": [
       "A data.frame: 6 × 26\n",
       "\\begin{tabular}{r|lllllllllllllllllllll}\n",
       "  & name & index & HP & attack & defense & sp.att & sp.def & speed & Bug & Dark & ⋯ & Ghost & Grass & Ground & Ice & Normal & Poison & Psychic & Rock & Steel & Water\\\\\n",
       "  & <chr> & <int> & <int> & <int> & <int> & <int> & <int> & <int> & <dbl> & <dbl> & ⋯ & <dbl> & <dbl> & <dbl> & <dbl> & <dbl> & <dbl> & <dbl> & <dbl> & <dbl> & <dbl>\\\\\n",
       "\\hline\n",
       "\t1 & 이상해씨 & 1 & 45 & 49 & 49 &  65 &  65 &  45 & 0 & 0 & ⋯ & 0 & 1 & 0 & 0 & 0 & 1 & 0 & 0 & 0 & 0\\\\\n",
       "\t2 & 이상해풀 & 2 & 60 & 62 & 63 &  80 &  80 &  60 & 0 & 0 & ⋯ & 0 & 1 & 0 & 0 & 0 & 1 & 0 & 0 & 0 & 0\\\\\n",
       "\t3 & 이상해꽃 & 3 & 80 & 82 & 83 & 100 & 100 &  80 & 0 & 0 & ⋯ & 0 & 1 & 0 & 0 & 0 & 1 & 0 & 0 & 0 & 0\\\\\n",
       "\t4 & 파이리   & 5 & 39 & 52 & 43 &  60 &  50 &  65 & 0 & 0 & ⋯ & 0 & 0 & 0 & 0 & 0 & 0 & 0 & 0 & 0 & 0\\\\\n",
       "\t5 & 리자드   & 6 & 58 & 64 & 58 &  80 &  65 &  80 & 0 & 0 & ⋯ & 0 & 0 & 0 & 0 & 0 & 0 & 0 & 0 & 0 & 0\\\\\n",
       "\t6 & 리자몽   & 7 & 78 & 84 & 78 & 109 &  85 & 100 & 0 & 0 & ⋯ & 0 & 0 & 0 & 0 & 0 & 0 & 0 & 0 & 0 & 0\\\\\n",
       "\\end{tabular}\n"
      ],
      "text/markdown": [
       "\n",
       "A data.frame: 6 × 26\n",
       "\n",
       "| <!--/--> | name &lt;chr&gt; | index &lt;int&gt; | HP &lt;int&gt; | attack &lt;int&gt; | defense &lt;int&gt; | sp.att &lt;int&gt; | sp.def &lt;int&gt; | speed &lt;int&gt; | Bug &lt;dbl&gt; | Dark &lt;dbl&gt; | ⋯ ⋯ | Ghost &lt;dbl&gt; | Grass &lt;dbl&gt; | Ground &lt;dbl&gt; | Ice &lt;dbl&gt; | Normal &lt;dbl&gt; | Poison &lt;dbl&gt; | Psychic &lt;dbl&gt; | Rock &lt;dbl&gt; | Steel &lt;dbl&gt; | Water &lt;dbl&gt; |\n",
       "|---|---|---|---|---|---|---|---|---|---|---|---|---|---|---|---|---|---|---|---|---|---|\n",
       "| 1 | 이상해씨 | 1 | 45 | 49 | 49 |  65 |  65 |  45 | 0 | 0 | ⋯ | 0 | 1 | 0 | 0 | 0 | 1 | 0 | 0 | 0 | 0 |\n",
       "| 2 | 이상해풀 | 2 | 60 | 62 | 63 |  80 |  80 |  60 | 0 | 0 | ⋯ | 0 | 1 | 0 | 0 | 0 | 1 | 0 | 0 | 0 | 0 |\n",
       "| 3 | 이상해꽃 | 3 | 80 | 82 | 83 | 100 | 100 |  80 | 0 | 0 | ⋯ | 0 | 1 | 0 | 0 | 0 | 1 | 0 | 0 | 0 | 0 |\n",
       "| 4 | 파이리   | 5 | 39 | 52 | 43 |  60 |  50 |  65 | 0 | 0 | ⋯ | 0 | 0 | 0 | 0 | 0 | 0 | 0 | 0 | 0 | 0 |\n",
       "| 5 | 리자드   | 6 | 58 | 64 | 58 |  80 |  65 |  80 | 0 | 0 | ⋯ | 0 | 0 | 0 | 0 | 0 | 0 | 0 | 0 | 0 | 0 |\n",
       "| 6 | 리자몽   | 7 | 78 | 84 | 78 | 109 |  85 | 100 | 0 | 0 | ⋯ | 0 | 0 | 0 | 0 | 0 | 0 | 0 | 0 | 0 | 0 |\n",
       "\n"
      ],
      "text/plain": [
       "  name     index HP attack defense sp.att sp.def speed Bug Dark ⋯ Ghost Grass\n",
       "1 이상해씨 1     45 49     49       65     65     45   0   0    ⋯ 0     1    \n",
       "2 이상해풀 2     60 62     63       80     80     60   0   0    ⋯ 0     1    \n",
       "3 이상해꽃 3     80 82     83      100    100     80   0   0    ⋯ 0     1    \n",
       "4 파이리   5     39 52     43       60     50     65   0   0    ⋯ 0     0    \n",
       "5 리자드   6     58 64     58       80     65     80   0   0    ⋯ 0     0    \n",
       "6 리자몽   7     78 84     78      109     85    100   0   0    ⋯ 0     0    \n",
       "  Ground Ice Normal Poison Psychic Rock Steel Water\n",
       "1 0      0   0      1      0       0    0     0    \n",
       "2 0      0   0      1      0       0    0     0    \n",
       "3 0      0   0      1      0       0    0     0    \n",
       "4 0      0   0      0      0       0    0     0    \n",
       "5 0      0   0      0      0       0    0     0    \n",
       "6 0      0   0      0      0       0    0     0    "
      ]
     },
     "metadata": {},
     "output_type": "display_data"
    }
   ],
   "source": [
    "head(pokemon_data)"
   ]
  },
  {
   "cell_type": "code",
   "execution_count": 6,
   "metadata": {
    "vscode": {
     "languageId": "r"
    }
   },
   "outputs": [],
   "source": [
    "min_max_scailed_data = pokemon_data\n",
    "nomalized_data = pokemon_data"
   ]
  },
  {
   "cell_type": "code",
   "execution_count": 7,
   "metadata": {
    "vscode": {
     "languageId": "r"
    }
   },
   "outputs": [],
   "source": [
    "min_max_scailed_data$HP = min_max_scailing(min_max_scailed_data$HP)\n",
    "min_max_scailed_data$attack = min_max_scailing(min_max_scailed_data$attack)\n",
    "min_max_scailed_data$defense = min_max_scailing(min_max_scailed_data$defense)\n",
    "min_max_scailed_data$sp.att = min_max_scailing(min_max_scailed_data$sp.att)\n",
    "min_max_scailed_data$sp.def = min_max_scailing(min_max_scailed_data$sp.def)\n",
    "min_max_scailed_data$speed = min_max_scailing(min_max_scailed_data$speed)\n",
    "\n",
    "nomalized_data$HP = nomalize(nomalized_data$HP)\n",
    "nomalized_data$attack = nomalize(nomalized_data$attack)\n",
    "nomalized_data$defense = nomalize(nomalized_data$defense)\n",
    "nomalized_data$sp.att = nomalize(nomalized_data$sp.att)\n",
    "nomalized_data$sp.def = nomalize(nomalized_data$sp.def)\n",
    "nomalized_data$speed = nomalize(nomalized_data$speed)"
   ]
  },
  {
   "cell_type": "code",
   "execution_count": 8,
   "metadata": {
    "vscode": {
     "languageId": "r"
    }
   },
   "outputs": [
    {
     "data": {
      "text/html": [
       "<table class=\"dataframe\">\n",
       "<caption>A data.frame: 6 × 26</caption>\n",
       "<thead>\n",
       "\t<tr><th></th><th scope=col>name</th><th scope=col>index</th><th scope=col>HP</th><th scope=col>attack</th><th scope=col>defense</th><th scope=col>sp.att</th><th scope=col>sp.def</th><th scope=col>speed</th><th scope=col>Bug</th><th scope=col>Dark</th><th scope=col>⋯</th><th scope=col>Ghost</th><th scope=col>Grass</th><th scope=col>Ground</th><th scope=col>Ice</th><th scope=col>Normal</th><th scope=col>Poison</th><th scope=col>Psychic</th><th scope=col>Rock</th><th scope=col>Steel</th><th scope=col>Water</th></tr>\n",
       "\t<tr><th></th><th scope=col>&lt;chr&gt;</th><th scope=col>&lt;int&gt;</th><th scope=col>&lt;dbl&gt;</th><th scope=col>&lt;dbl&gt;</th><th scope=col>&lt;dbl&gt;</th><th scope=col>&lt;dbl&gt;</th><th scope=col>&lt;dbl&gt;</th><th scope=col>&lt;dbl&gt;</th><th scope=col>&lt;dbl&gt;</th><th scope=col>&lt;dbl&gt;</th><th scope=col>⋯</th><th scope=col>&lt;dbl&gt;</th><th scope=col>&lt;dbl&gt;</th><th scope=col>&lt;dbl&gt;</th><th scope=col>&lt;dbl&gt;</th><th scope=col>&lt;dbl&gt;</th><th scope=col>&lt;dbl&gt;</th><th scope=col>&lt;dbl&gt;</th><th scope=col>&lt;dbl&gt;</th><th scope=col>&lt;dbl&gt;</th><th scope=col>&lt;dbl&gt;</th></tr>\n",
       "</thead>\n",
       "<tbody>\n",
       "\t<tr><th scope=row>1</th><td>이상해씨</td><td>1</td><td>0.1732283</td><td>0.27500</td><td>0.1955556</td><td>0.3819444</td><td>0.2142857</td><td>0.2580645</td><td>0</td><td>0</td><td>⋯</td><td>0</td><td>1</td><td>0</td><td>0</td><td>0</td><td>1</td><td>0</td><td>0</td><td>0</td><td>0</td></tr>\n",
       "\t<tr><th scope=row>2</th><td>이상해풀</td><td>2</td><td>0.2322835</td><td>0.35625</td><td>0.2577778</td><td>0.4861111</td><td>0.2857143</td><td>0.3548387</td><td>0</td><td>0</td><td>⋯</td><td>0</td><td>1</td><td>0</td><td>0</td><td>0</td><td>1</td><td>0</td><td>0</td><td>0</td><td>0</td></tr>\n",
       "\t<tr><th scope=row>3</th><td>이상해꽃</td><td>3</td><td>0.3110236</td><td>0.48125</td><td>0.3466667</td><td>0.6250000</td><td>0.3809524</td><td>0.4838710</td><td>0</td><td>0</td><td>⋯</td><td>0</td><td>1</td><td>0</td><td>0</td><td>0</td><td>1</td><td>0</td><td>0</td><td>0</td><td>0</td></tr>\n",
       "\t<tr><th scope=row>4</th><td>파이리  </td><td>5</td><td>0.1496063</td><td>0.29375</td><td>0.1688889</td><td>0.3472222</td><td>0.1428571</td><td>0.3870968</td><td>0</td><td>0</td><td>⋯</td><td>0</td><td>0</td><td>0</td><td>0</td><td>0</td><td>0</td><td>0</td><td>0</td><td>0</td><td>0</td></tr>\n",
       "\t<tr><th scope=row>5</th><td>리자드  </td><td>6</td><td>0.2244094</td><td>0.36875</td><td>0.2355556</td><td>0.4861111</td><td>0.2142857</td><td>0.4838710</td><td>0</td><td>0</td><td>⋯</td><td>0</td><td>0</td><td>0</td><td>0</td><td>0</td><td>0</td><td>0</td><td>0</td><td>0</td><td>0</td></tr>\n",
       "\t<tr><th scope=row>6</th><td>리자몽  </td><td>7</td><td>0.3031496</td><td>0.49375</td><td>0.3244444</td><td>0.6875000</td><td>0.3095238</td><td>0.6129032</td><td>0</td><td>0</td><td>⋯</td><td>0</td><td>0</td><td>0</td><td>0</td><td>0</td><td>0</td><td>0</td><td>0</td><td>0</td><td>0</td></tr>\n",
       "</tbody>\n",
       "</table>\n"
      ],
      "text/latex": [
       "A data.frame: 6 × 26\n",
       "\\begin{tabular}{r|lllllllllllllllllllll}\n",
       "  & name & index & HP & attack & defense & sp.att & sp.def & speed & Bug & Dark & ⋯ & Ghost & Grass & Ground & Ice & Normal & Poison & Psychic & Rock & Steel & Water\\\\\n",
       "  & <chr> & <int> & <dbl> & <dbl> & <dbl> & <dbl> & <dbl> & <dbl> & <dbl> & <dbl> & ⋯ & <dbl> & <dbl> & <dbl> & <dbl> & <dbl> & <dbl> & <dbl> & <dbl> & <dbl> & <dbl>\\\\\n",
       "\\hline\n",
       "\t1 & 이상해씨 & 1 & 0.1732283 & 0.27500 & 0.1955556 & 0.3819444 & 0.2142857 & 0.2580645 & 0 & 0 & ⋯ & 0 & 1 & 0 & 0 & 0 & 1 & 0 & 0 & 0 & 0\\\\\n",
       "\t2 & 이상해풀 & 2 & 0.2322835 & 0.35625 & 0.2577778 & 0.4861111 & 0.2857143 & 0.3548387 & 0 & 0 & ⋯ & 0 & 1 & 0 & 0 & 0 & 1 & 0 & 0 & 0 & 0\\\\\n",
       "\t3 & 이상해꽃 & 3 & 0.3110236 & 0.48125 & 0.3466667 & 0.6250000 & 0.3809524 & 0.4838710 & 0 & 0 & ⋯ & 0 & 1 & 0 & 0 & 0 & 1 & 0 & 0 & 0 & 0\\\\\n",
       "\t4 & 파이리   & 5 & 0.1496063 & 0.29375 & 0.1688889 & 0.3472222 & 0.1428571 & 0.3870968 & 0 & 0 & ⋯ & 0 & 0 & 0 & 0 & 0 & 0 & 0 & 0 & 0 & 0\\\\\n",
       "\t5 & 리자드   & 6 & 0.2244094 & 0.36875 & 0.2355556 & 0.4861111 & 0.2142857 & 0.4838710 & 0 & 0 & ⋯ & 0 & 0 & 0 & 0 & 0 & 0 & 0 & 0 & 0 & 0\\\\\n",
       "\t6 & 리자몽   & 7 & 0.3031496 & 0.49375 & 0.3244444 & 0.6875000 & 0.3095238 & 0.6129032 & 0 & 0 & ⋯ & 0 & 0 & 0 & 0 & 0 & 0 & 0 & 0 & 0 & 0\\\\\n",
       "\\end{tabular}\n"
      ],
      "text/markdown": [
       "\n",
       "A data.frame: 6 × 26\n",
       "\n",
       "| <!--/--> | name &lt;chr&gt; | index &lt;int&gt; | HP &lt;dbl&gt; | attack &lt;dbl&gt; | defense &lt;dbl&gt; | sp.att &lt;dbl&gt; | sp.def &lt;dbl&gt; | speed &lt;dbl&gt; | Bug &lt;dbl&gt; | Dark &lt;dbl&gt; | ⋯ ⋯ | Ghost &lt;dbl&gt; | Grass &lt;dbl&gt; | Ground &lt;dbl&gt; | Ice &lt;dbl&gt; | Normal &lt;dbl&gt; | Poison &lt;dbl&gt; | Psychic &lt;dbl&gt; | Rock &lt;dbl&gt; | Steel &lt;dbl&gt; | Water &lt;dbl&gt; |\n",
       "|---|---|---|---|---|---|---|---|---|---|---|---|---|---|---|---|---|---|---|---|---|---|\n",
       "| 1 | 이상해씨 | 1 | 0.1732283 | 0.27500 | 0.1955556 | 0.3819444 | 0.2142857 | 0.2580645 | 0 | 0 | ⋯ | 0 | 1 | 0 | 0 | 0 | 1 | 0 | 0 | 0 | 0 |\n",
       "| 2 | 이상해풀 | 2 | 0.2322835 | 0.35625 | 0.2577778 | 0.4861111 | 0.2857143 | 0.3548387 | 0 | 0 | ⋯ | 0 | 1 | 0 | 0 | 0 | 1 | 0 | 0 | 0 | 0 |\n",
       "| 3 | 이상해꽃 | 3 | 0.3110236 | 0.48125 | 0.3466667 | 0.6250000 | 0.3809524 | 0.4838710 | 0 | 0 | ⋯ | 0 | 1 | 0 | 0 | 0 | 1 | 0 | 0 | 0 | 0 |\n",
       "| 4 | 파이리   | 5 | 0.1496063 | 0.29375 | 0.1688889 | 0.3472222 | 0.1428571 | 0.3870968 | 0 | 0 | ⋯ | 0 | 0 | 0 | 0 | 0 | 0 | 0 | 0 | 0 | 0 |\n",
       "| 5 | 리자드   | 6 | 0.2244094 | 0.36875 | 0.2355556 | 0.4861111 | 0.2142857 | 0.4838710 | 0 | 0 | ⋯ | 0 | 0 | 0 | 0 | 0 | 0 | 0 | 0 | 0 | 0 |\n",
       "| 6 | 리자몽   | 7 | 0.3031496 | 0.49375 | 0.3244444 | 0.6875000 | 0.3095238 | 0.6129032 | 0 | 0 | ⋯ | 0 | 0 | 0 | 0 | 0 | 0 | 0 | 0 | 0 | 0 |\n",
       "\n"
      ],
      "text/plain": [
       "  name     index HP        attack  defense   sp.att    sp.def    speed     Bug\n",
       "1 이상해씨 1     0.1732283 0.27500 0.1955556 0.3819444 0.2142857 0.2580645 0  \n",
       "2 이상해풀 2     0.2322835 0.35625 0.2577778 0.4861111 0.2857143 0.3548387 0  \n",
       "3 이상해꽃 3     0.3110236 0.48125 0.3466667 0.6250000 0.3809524 0.4838710 0  \n",
       "4 파이리   5     0.1496063 0.29375 0.1688889 0.3472222 0.1428571 0.3870968 0  \n",
       "5 리자드   6     0.2244094 0.36875 0.2355556 0.4861111 0.2142857 0.4838710 0  \n",
       "6 리자몽   7     0.3031496 0.49375 0.3244444 0.6875000 0.3095238 0.6129032 0  \n",
       "  Dark ⋯ Ghost Grass Ground Ice Normal Poison Psychic Rock Steel Water\n",
       "1 0    ⋯ 0     1     0      0   0      1      0       0    0     0    \n",
       "2 0    ⋯ 0     1     0      0   0      1      0       0    0     0    \n",
       "3 0    ⋯ 0     1     0      0   0      1      0       0    0     0    \n",
       "4 0    ⋯ 0     0     0      0   0      0      0       0    0     0    \n",
       "5 0    ⋯ 0     0     0      0   0      0      0       0    0     0    \n",
       "6 0    ⋯ 0     0     0      0   0      0      0       0    0     0    "
      ]
     },
     "metadata": {},
     "output_type": "display_data"
    },
    {
     "data": {
      "text/html": [
       "<table class=\"dataframe\">\n",
       "<caption>A data.frame: 6 × 26</caption>\n",
       "<thead>\n",
       "\t<tr><th></th><th scope=col>name</th><th scope=col>index</th><th scope=col>HP</th><th scope=col>attack</th><th scope=col>defense</th><th scope=col>sp.att</th><th scope=col>sp.def</th><th scope=col>speed</th><th scope=col>Bug</th><th scope=col>Dark</th><th scope=col>⋯</th><th scope=col>Ghost</th><th scope=col>Grass</th><th scope=col>Ground</th><th scope=col>Ice</th><th scope=col>Normal</th><th scope=col>Poison</th><th scope=col>Psychic</th><th scope=col>Rock</th><th scope=col>Steel</th><th scope=col>Water</th></tr>\n",
       "\t<tr><th></th><th scope=col>&lt;chr&gt;</th><th scope=col>&lt;int&gt;</th><th scope=col>&lt;dbl&gt;</th><th scope=col>&lt;dbl&gt;</th><th scope=col>&lt;dbl&gt;</th><th scope=col>&lt;dbl&gt;</th><th scope=col>&lt;dbl&gt;</th><th scope=col>&lt;dbl&gt;</th><th scope=col>&lt;dbl&gt;</th><th scope=col>&lt;dbl&gt;</th><th scope=col>⋯</th><th scope=col>&lt;dbl&gt;</th><th scope=col>&lt;dbl&gt;</th><th scope=col>&lt;dbl&gt;</th><th scope=col>&lt;dbl&gt;</th><th scope=col>&lt;dbl&gt;</th><th scope=col>&lt;dbl&gt;</th><th scope=col>&lt;dbl&gt;</th><th scope=col>&lt;dbl&gt;</th><th scope=col>&lt;dbl&gt;</th><th scope=col>&lt;dbl&gt;</th></tr>\n",
       "</thead>\n",
       "<tbody>\n",
       "\t<tr><th scope=row>1</th><td>이상해씨</td><td>1</td><td>-0.8927636</td><td>-0.8850274</td><td>-0.7321201</td><td>-0.1076996</td><td>-0.1382553</td><td>-0.742106695</td><td>0</td><td>0</td><td>⋯</td><td>0</td><td>1</td><td>0</td><td>0</td><td>0</td><td>1</td><td>0</td><td>0</td><td>0</td><td>0</td></tr>\n",
       "\t<tr><th scope=row>2</th><td>이상해풀</td><td>2</td><td>-0.3106707</td><td>-0.4325478</td><td>-0.2544730</td><td> 0.4234838</td><td> 0.4240576</td><td>-0.187462398</td><td>0</td><td>0</td><td>⋯</td><td>0</td><td>1</td><td>0</td><td>0</td><td>0</td><td>1</td><td>0</td><td>0</td><td>0</td><td>0</td></tr>\n",
       "\t<tr><th scope=row>3</th><td>이상해꽃</td><td>3</td><td> 0.4654532</td><td> 0.2635745</td><td> 0.4278801</td><td> 1.1317282</td><td> 1.1738081</td><td> 0.552063331</td><td>0</td><td>0</td><td>⋯</td><td>0</td><td>1</td><td>0</td><td>0</td><td>0</td><td>1</td><td>0</td><td>0</td><td>0</td><td>0</td></tr>\n",
       "\t<tr><th scope=row>4</th><td>파이리  </td><td>5</td><td>-1.1256007</td><td>-0.7806090</td><td>-0.9368260</td><td>-0.2847607</td><td>-0.7005682</td><td>-0.002580966</td><td>0</td><td>0</td><td>⋯</td><td>0</td><td>0</td><td>0</td><td>0</td><td>0</td><td>0</td><td>0</td><td>0</td><td>0</td><td>0</td></tr>\n",
       "\t<tr><th scope=row>5</th><td>리자드  </td><td>6</td><td>-0.3882831</td><td>-0.3629356</td><td>-0.4250612</td><td> 0.4234838</td><td>-0.1382553</td><td> 0.552063331</td><td>0</td><td>0</td><td>⋯</td><td>0</td><td>0</td><td>0</td><td>0</td><td>0</td><td>0</td><td>0</td><td>0</td><td>0</td><td>0</td></tr>\n",
       "\t<tr><th scope=row>6</th><td>리자몽  </td><td>7</td><td> 0.3878408</td><td> 0.3331868</td><td> 0.2572918</td><td> 1.4504382</td><td> 0.6114952</td><td> 1.291589061</td><td>0</td><td>0</td><td>⋯</td><td>0</td><td>0</td><td>0</td><td>0</td><td>0</td><td>0</td><td>0</td><td>0</td><td>0</td><td>0</td></tr>\n",
       "</tbody>\n",
       "</table>\n"
      ],
      "text/latex": [
       "A data.frame: 6 × 26\n",
       "\\begin{tabular}{r|lllllllllllllllllllll}\n",
       "  & name & index & HP & attack & defense & sp.att & sp.def & speed & Bug & Dark & ⋯ & Ghost & Grass & Ground & Ice & Normal & Poison & Psychic & Rock & Steel & Water\\\\\n",
       "  & <chr> & <int> & <dbl> & <dbl> & <dbl> & <dbl> & <dbl> & <dbl> & <dbl> & <dbl> & ⋯ & <dbl> & <dbl> & <dbl> & <dbl> & <dbl> & <dbl> & <dbl> & <dbl> & <dbl> & <dbl>\\\\\n",
       "\\hline\n",
       "\t1 & 이상해씨 & 1 & -0.8927636 & -0.8850274 & -0.7321201 & -0.1076996 & -0.1382553 & -0.742106695 & 0 & 0 & ⋯ & 0 & 1 & 0 & 0 & 0 & 1 & 0 & 0 & 0 & 0\\\\\n",
       "\t2 & 이상해풀 & 2 & -0.3106707 & -0.4325478 & -0.2544730 &  0.4234838 &  0.4240576 & -0.187462398 & 0 & 0 & ⋯ & 0 & 1 & 0 & 0 & 0 & 1 & 0 & 0 & 0 & 0\\\\\n",
       "\t3 & 이상해꽃 & 3 &  0.4654532 &  0.2635745 &  0.4278801 &  1.1317282 &  1.1738081 &  0.552063331 & 0 & 0 & ⋯ & 0 & 1 & 0 & 0 & 0 & 1 & 0 & 0 & 0 & 0\\\\\n",
       "\t4 & 파이리   & 5 & -1.1256007 & -0.7806090 & -0.9368260 & -0.2847607 & -0.7005682 & -0.002580966 & 0 & 0 & ⋯ & 0 & 0 & 0 & 0 & 0 & 0 & 0 & 0 & 0 & 0\\\\\n",
       "\t5 & 리자드   & 6 & -0.3882831 & -0.3629356 & -0.4250612 &  0.4234838 & -0.1382553 &  0.552063331 & 0 & 0 & ⋯ & 0 & 0 & 0 & 0 & 0 & 0 & 0 & 0 & 0 & 0\\\\\n",
       "\t6 & 리자몽   & 7 &  0.3878408 &  0.3331868 &  0.2572918 &  1.4504382 &  0.6114952 &  1.291589061 & 0 & 0 & ⋯ & 0 & 0 & 0 & 0 & 0 & 0 & 0 & 0 & 0 & 0\\\\\n",
       "\\end{tabular}\n"
      ],
      "text/markdown": [
       "\n",
       "A data.frame: 6 × 26\n",
       "\n",
       "| <!--/--> | name &lt;chr&gt; | index &lt;int&gt; | HP &lt;dbl&gt; | attack &lt;dbl&gt; | defense &lt;dbl&gt; | sp.att &lt;dbl&gt; | sp.def &lt;dbl&gt; | speed &lt;dbl&gt; | Bug &lt;dbl&gt; | Dark &lt;dbl&gt; | ⋯ ⋯ | Ghost &lt;dbl&gt; | Grass &lt;dbl&gt; | Ground &lt;dbl&gt; | Ice &lt;dbl&gt; | Normal &lt;dbl&gt; | Poison &lt;dbl&gt; | Psychic &lt;dbl&gt; | Rock &lt;dbl&gt; | Steel &lt;dbl&gt; | Water &lt;dbl&gt; |\n",
       "|---|---|---|---|---|---|---|---|---|---|---|---|---|---|---|---|---|---|---|---|---|---|\n",
       "| 1 | 이상해씨 | 1 | -0.8927636 | -0.8850274 | -0.7321201 | -0.1076996 | -0.1382553 | -0.742106695 | 0 | 0 | ⋯ | 0 | 1 | 0 | 0 | 0 | 1 | 0 | 0 | 0 | 0 |\n",
       "| 2 | 이상해풀 | 2 | -0.3106707 | -0.4325478 | -0.2544730 |  0.4234838 |  0.4240576 | -0.187462398 | 0 | 0 | ⋯ | 0 | 1 | 0 | 0 | 0 | 1 | 0 | 0 | 0 | 0 |\n",
       "| 3 | 이상해꽃 | 3 |  0.4654532 |  0.2635745 |  0.4278801 |  1.1317282 |  1.1738081 |  0.552063331 | 0 | 0 | ⋯ | 0 | 1 | 0 | 0 | 0 | 1 | 0 | 0 | 0 | 0 |\n",
       "| 4 | 파이리   | 5 | -1.1256007 | -0.7806090 | -0.9368260 | -0.2847607 | -0.7005682 | -0.002580966 | 0 | 0 | ⋯ | 0 | 0 | 0 | 0 | 0 | 0 | 0 | 0 | 0 | 0 |\n",
       "| 5 | 리자드   | 6 | -0.3882831 | -0.3629356 | -0.4250612 |  0.4234838 | -0.1382553 |  0.552063331 | 0 | 0 | ⋯ | 0 | 0 | 0 | 0 | 0 | 0 | 0 | 0 | 0 | 0 |\n",
       "| 6 | 리자몽   | 7 |  0.3878408 |  0.3331868 |  0.2572918 |  1.4504382 |  0.6114952 |  1.291589061 | 0 | 0 | ⋯ | 0 | 0 | 0 | 0 | 0 | 0 | 0 | 0 | 0 | 0 |\n",
       "\n"
      ],
      "text/plain": [
       "  name     index HP         attack     defense    sp.att     sp.def    \n",
       "1 이상해씨 1     -0.8927636 -0.8850274 -0.7321201 -0.1076996 -0.1382553\n",
       "2 이상해풀 2     -0.3106707 -0.4325478 -0.2544730  0.4234838  0.4240576\n",
       "3 이상해꽃 3      0.4654532  0.2635745  0.4278801  1.1317282  1.1738081\n",
       "4 파이리   5     -1.1256007 -0.7806090 -0.9368260 -0.2847607 -0.7005682\n",
       "5 리자드   6     -0.3882831 -0.3629356 -0.4250612  0.4234838 -0.1382553\n",
       "6 리자몽   7      0.3878408  0.3331868  0.2572918  1.4504382  0.6114952\n",
       "  speed        Bug Dark ⋯ Ghost Grass Ground Ice Normal Poison Psychic Rock\n",
       "1 -0.742106695 0   0    ⋯ 0     1     0      0   0      1      0       0   \n",
       "2 -0.187462398 0   0    ⋯ 0     1     0      0   0      1      0       0   \n",
       "3  0.552063331 0   0    ⋯ 0     1     0      0   0      1      0       0   \n",
       "4 -0.002580966 0   0    ⋯ 0     0     0      0   0      0      0       0   \n",
       "5  0.552063331 0   0    ⋯ 0     0     0      0   0      0      0       0   \n",
       "6  1.291589061 0   0    ⋯ 0     0     0      0   0      0      0       0   \n",
       "  Steel Water\n",
       "1 0     0    \n",
       "2 0     0    \n",
       "3 0     0    \n",
       "4 0     0    \n",
       "5 0     0    \n",
       "6 0     0    "
      ]
     },
     "metadata": {},
     "output_type": "display_data"
    }
   ],
   "source": [
    "head(min_max_scailed_data)\n",
    "head(nomalized_data)"
   ]
  },
  {
   "cell_type": "code",
   "execution_count": 9,
   "metadata": {
    "vscode": {
     "languageId": "r"
    }
   },
   "outputs": [],
   "source": [
    "name_to_index = function(name){\n",
    "    index = as.numeric(pokemon_data[pokemon_data$name == name,][2])\n",
    "    return(index)\n",
    "}\n",
    "index_to_name = function(index){\n",
    "    name = as.character(pokemon_data[pokemon_data$index==index,][1])\n",
    "    return(name)\n",
    "}\n",
    "\n",
    "\n",
    "refine_combat_result = function(index){\n",
    "    cat(index_to_name(index),'와 싸운 포켓몬들입니다..',index_to_name(index),'가 졌으면 1 이겼으면 0')\n",
    "    result_df = combat_data[combat_data$First_pokemon==index|combat_data$Second_pokemon==index,]\n",
    "    result_df[result_df$First_pokemon==index,][1] = 0\n",
    "    result_df[result_df$Second_pokemon==index,][2] = 0\n",
    "    result_df[result_df$Winner==index,][3] = 0\n",
    "    result_df[result_df$Winner!=0,][3]=1\n",
    "    result_df$index = result_df$First_pokemon+result_df$Second_pokemon\n",
    "    result_df=result_df[c(-1,-2)]\n",
    "    result_df=result_df[,c(2,1)]\n",
    "    row.names(result_df) = NULL\n",
    "    output = merge(pokemon_data,result_df,by='index')\n",
    "    output = unique(output)\n",
    "    row.names(output)=NULL\n",
    "    return(output) \n",
    "}\n",
    "\n"
   ]
  },
  {
   "cell_type": "code",
   "execution_count": 10,
   "metadata": {
    "vscode": {
     "languageId": "r"
    }
   },
   "outputs": [
    {
     "name": "stdout",
     "output_type": "stream",
     "text": [
      "리자몽 와 싸운 포켓몬들입니다.. 리자몽 가 졌으면 1 이겼으면 0"
     ]
    }
   ],
   "source": [
    "sample = refine_combat_result(7)"
   ]
  },
  {
   "cell_type": "code",
   "execution_count": 11,
   "metadata": {
    "vscode": {
     "languageId": "r"
    }
   },
   "outputs": [],
   "source": [
    "model_by_data = function(data){\n",
    "    model = glm(formula=Winner~index+name+HP+attack+defense+sp.att+sp.def+speed+Bug+Dark+Dragon+Electric+Fairy+Fighting+Fire+Flying+Ghost+Grass+Ground+Ice+Normal+Poison+Psychic+Rock+Steel+Water,\n",
    "data=data,family='binomial')\n",
    "summary(model)\n",
    "}"
   ]
  },
  {
   "cell_type": "code",
   "execution_count": 12,
   "metadata": {
    "vscode": {
     "languageId": "r"
    }
   },
   "outputs": [
    {
     "name": "stderr",
     "output_type": "stream",
     "text": [
      "Warning message:\n",
      "\"glm.fit: algorithm did not converge\"\n"
     ]
    },
    {
     "data": {
      "text/plain": [
       "\n",
       "Call:\n",
       "glm(formula = Winner ~ index + name + HP + attack + defense + \n",
       "    sp.att + sp.def + speed + Bug + Dark + Dragon + Electric + \n",
       "    Fairy + Fighting + Fire + Flying + Ghost + Grass + Ground + \n",
       "    Ice + Normal + Poison + Psychic + Rock + Steel + Water, family = \"binomial\", \n",
       "    data = data)\n",
       "\n",
       "Deviance Residuals: \n",
       "  [1]  0  0  0  0  0  0  0  0  0  0  0  0  0  0  0  0  0  0  0  0  0  0  0  0  0\n",
       " [26]  0  0  0  0  0  0  0  0  0  0  0  0  0  0  0  0  0  0  0  0  0  0  0  0  0\n",
       " [51]  0  0  0  0  0  0  0  0  0  0  0  0  0  0  0  0  0  0  0  0  0  0  0  0  0\n",
       " [76]  0  0  0  0  0  0  0  0  0  0  0  0  0  0  0  0  0  0  0  0  0  0  0  0  0\n",
       "[101]  0  0  0  0  0  0  0  0  0\n",
       "\n",
       "Coefficients: (25 not defined because of singularities)\n",
       "                 Estimate Std. Error z value Pr(>|z|)\n",
       "(Intercept)    -2.657e+01  8.075e+05       0        1\n",
       "index          -1.482e-17  1.684e+03       0        1\n",
       "name가재장군   -1.909e-14  4.568e+05       0        1\n",
       "name강철톤     -3.229e-14  5.851e+05       0        1\n",
       "name개구마르   -1.865e-15  6.295e+05       0        1\n",
       "name갸라도스   -1.895e-14  6.862e+05       0        1\n",
       "name거북손손   -1.787e-14  6.720e+05       0        1\n",
       "name고지       -1.122e-14  8.332e+05       0        1\n",
       "name괴력몬     -6.418e-15  7.752e+05       0        1\n",
       "name기기기어르  8.350e-15  5.589e+05       0        1\n",
       "name깜눈크      1.241e-14  5.096e+05       0        1\n",
       "name깜지곰     -1.083e-14  5.729e+05       0        1\n",
       "name깨비드릴조 -3.953e-15  8.419e+05       0        1\n",
       "name꼬부기      5.445e-15  8.679e+05       0        1\n",
       "name나루림      4.732e-14  6.682e+05       0        1\n",
       "name나목령     -7.532e-15  6.980e+05       0        1\n",
       "name나무킹      5.313e+01  5.317e+05       0        1\n",
       "name네오비트   -3.926e-14  4.749e+05       0        1\n",
       "name니로우     -4.458e-14  5.964e+05       0        1\n",
       "name단단지     -2.437e-14  5.773e+05       0        1\n",
       "name대짱이     -1.372e-14  5.241e+05       0        1\n",
       "name던지미     -3.531e-15  4.987e+05       0        1\n",
       "name데구리     -4.627e-14  7.655e+05       0        1\n",
       "name데덴네      5.313e+01  6.901e+05       0        1\n",
       "name데스마스   -3.858e-15  5.204e+05       0        1\n",
       "name델빌       -1.954e-14  5.600e+05       0        1\n",
       "name도나리     -2.829e-14  8.033e+05       0        1\n",
       "name독케일     -4.729e-14  5.149e+05       0        1\n",
       "name독파리      5.313e+01  7.683e+05       0        1\n",
       "name두르보     -2.376e-14  5.003e+05       0        1\n",
       "name둥실라이드 -3.223e-14  4.373e+05       0        1\n",
       "name듀란       -1.157e-15  5.356e+05       0        1\n",
       "name드래피온   -1.175e-14  4.434e+05       0        1\n",
       "name디그다     -3.057e-14  8.019e+05       0        1\n",
       "name또가스     -4.680e-14  7.165e+05       0        1\n",
       "name뚜꾸리     -4.413e-15  4.691e+05       0        1\n",
       "name라티오스    5.313e+01  4.402e+05       0        1\n",
       "name랄토스     -3.460e-14  5.053e+05       0        1\n",
       "name마그마번    4.130e-15  4.491e+05       0        1\n",
       "name마이농     -2.033e-14  4.762e+05       0        1\n",
       "name마자       -3.738e-14  4.479e+05       0        1\n",
       "name마자용     -5.785e-14  5.918e+05       0        1\n",
       "name마크탕     -6.105e-14  4.915e+05       0        1\n",
       "name망나뇽     -7.489e-14  6.593e+05       0        1\n",
       "name메꾸리     -3.620e-14  5.674e+05       0        1\n",
       "name메탕구     -2.766e-14  4.423e+05       0        1\n",
       "name몽나       -7.382e-15  4.818e+05       0        1\n",
       "name무장조     -3.316e-14  5.610e+05       0        1\n",
       "name미끄래곤    1.100e-14  6.953e+05       0        1\n",
       "name미끄메라    2.651e-15  6.927e+05       0        1\n",
       "name바닐리치    7.295e-14  5.405e+05       0        1\n",
       "name바오키      5.313e+01  4.797e+05       0        1\n",
       "name배바닐라   -1.225e-14  5.415e+05       0        1\n",
       "name버섯모     -3.101e-14  4.995e+05       0        1\n",
       "name번치코     -2.939e-14  5.278e+05       0        1\n",
       "name벌차이      8.258e-15  5.896e+05       0        1\n",
       "name보르그     -1.847e-14  4.736e+05       0        1\n",
       "name보르쥐     -3.052e-14  4.729e+05       0        1\n",
       "name브케인      7.550e-15  6.492e+05       0        1\n",
       "name비리디온    5.313e+01  6.022e+05       0        1\n",
       "name비브라바   -3.838e-14  4.643e+05       0        1\n",
       "name비조푸      1.798e-14  5.784e+05       0        1\n",
       "name쁘사이저    9.107e-14  6.914e+05       0        1\n",
       "name삼삼드래    2.369e-14  5.964e+05       0        1\n",
       "name솔록       -1.399e-14  4.588e+05       0        1\n",
       "name쉘곤       -1.250e-14  4.434e+05       0        1\n",
       "name쌍검자비   -1.561e-14  4.716e+05       0        1\n",
       "name썬더        7.151e-15  6.643e+05       0        1\n",
       "name아마루르가  2.864e-14  6.862e+05       0        1\n",
       "name아보       -1.124e-13  8.404e+05       0        1\n",
       "name악비아르    2.501e-14  5.114e+05       0        1\n",
       "name알통몬     -5.790e-14  7.780e+05       0        1\n",
       "name암나이트   -6.214e-14  6.746e+05       0        1\n",
       "name앗차프     -6.347e-15  4.804e+05       0        1\n",
       "name액스라이즈  3.547e-14  5.707e+05       0        1\n",
       "name앤티골      3.012e-14  5.918e+05       0        1\n",
       "name얼루기     -4.549e-14  4.655e+05       0        1\n",
       "name엘리게이   -4.667e-14  6.443e+05       0        1\n",
       "name엠라이트    3.295e-15  4.583e+05       0        1\n",
       "name염무왕     -5.822e-15  4.703e+05       0        1\n",
       "name요테리      1.021e-14  4.742e+05       0        1\n",
       "name우츠동     -4.724e-14  7.725e+05       0        1\n",
       "name유토브      6.468e-15  4.840e+05       0        1\n",
       "name입치트     -2.464e-14  4.854e+05       0        1\n",
       "name잉어킹      5.105e-15  6.875e+05       0        1\n",
       "name쟝고       -1.984e-13  4.604e+05       0        1\n",
       "name조로아크    5.313e+01  5.288e+05       0        1\n",
       "name찌리리공    5.313e+01  7.286e+05       0        1\n",
       "name체리버     -4.320e-15  4.367e+05       0        1\n",
       "name초염몽      5.313e+01  4.372e+05       0        1\n",
       "name치라치노    5.313e+01  5.307e+05       0        1\n",
       "name치릴리      3.616e-14  5.070e+05       0        1\n",
       "name침바루      2.787e-14  5.806e+05       0        1\n",
       "name칼라마네로  1.251e-14  6.707e+05       0        1\n",
       "name크레베이스  4.114e-14  7.125e+05       0        1\n",
       "name킹크랩     -1.690e-13  7.300e+05       0        1\n",
       "name타격귀     -1.366e-14  4.995e+05       0        1\n",
       "name트로피우스 -2.379e-14  4.495e+05       0        1\n",
       "name파라섹트   -1.134e-13  8.062e+05       0        1\n",
       "name패리퍼      1.534e-14  5.062e+05       0        1\n",
       "name팬텀        5.313e+01  7.381e+05       0        1\n",
       "name팽도리      4.158e-14  4.370e+05       0        1\n",
       "name팽태자     -2.196e-14  4.369e+05       0        1\n",
       "name폭음룡     -7.022e-14  4.923e+05       0        1\n",
       "name푸푸린     -5.477e-14  6.259e+05       0        1\n",
       "name푸호꼬      2.397e-14  6.259e+05       0        1\n",
       "name프레프티르  2.953e-14  6.656e+05       0        1\n",
       "name플라이곤    5.313e+01  4.637e+05       0        1\n",
       "name피그킹      0.000e+00  4.661e+05       0        1\n",
       "name휠구               NA         NA      NA       NA\n",
       "HP                     NA         NA      NA       NA\n",
       "attack                 NA         NA      NA       NA\n",
       "defense                NA         NA      NA       NA\n",
       "sp.att                 NA         NA      NA       NA\n",
       "sp.def                 NA         NA      NA       NA\n",
       "speed                  NA         NA      NA       NA\n",
       "Bug                    NA         NA      NA       NA\n",
       "Dark                   NA         NA      NA       NA\n",
       "Dragon                 NA         NA      NA       NA\n",
       "Electric               NA         NA      NA       NA\n",
       "Fairy                  NA         NA      NA       NA\n",
       "Fighting               NA         NA      NA       NA\n",
       "Fire                   NA         NA      NA       NA\n",
       "Flying                 NA         NA      NA       NA\n",
       "Ghost                  NA         NA      NA       NA\n",
       "Grass                  NA         NA      NA       NA\n",
       "Ground                 NA         NA      NA       NA\n",
       "Ice                    NA         NA      NA       NA\n",
       "Normal                 NA         NA      NA       NA\n",
       "Poison                 NA         NA      NA       NA\n",
       "Psychic                NA         NA      NA       NA\n",
       "Rock                   NA         NA      NA       NA\n",
       "Steel                  NA         NA      NA       NA\n",
       "Water                  NA         NA      NA       NA\n",
       "\n",
       "(Dispersion parameter for binomial family taken to be 1)\n",
       "\n",
       "    Null deviance: 7.5582e+01  on 108  degrees of freedom\n",
       "Residual deviance: 6.3237e-10  on   0  degrees of freedom\n",
       "AIC: 218\n",
       "\n",
       "Number of Fisher Scoring iterations: 25\n"
      ]
     },
     "metadata": {},
     "output_type": "display_data"
    }
   ],
   "source": [
    "model_by_data(sample)"
   ]
  },
  {
   "cell_type": "code",
   "execution_count": 13,
   "metadata": {
    "vscode": {
     "languageId": "r"
    }
   },
   "outputs": [
    {
     "ename": "ERROR",
     "evalue": "Error in is.data.frame(data): object 'a' not found\n",
     "output_type": "error",
     "traceback": [
      "Error in is.data.frame(data): object 'a' not found\nTraceback:\n",
      "1. glm(formula = Winner ~ index + name + HP + attack + defense + \n .     sp.att + sp.def + speed + Bug + Dark + Dragon + Electric + \n .     Fairy + Fighting + Fire + Flying + Ghost + Grass + Ground + \n .     Ice + Normal + Poison + Psychic + Rock + Steel + Water, data = a, \n .     family = \"binomial\")",
      "2. eval(mf, parent.frame())",
      "3. eval(mf, parent.frame())",
      "4. stats::model.frame(formula = Winner ~ index + name + HP + attack + \n .     defense + sp.att + sp.def + speed + Bug + Dark + Dragon + \n .     Electric + Fairy + Fighting + Fire + Flying + Ghost + Grass + \n .     Ground + Ice + Normal + Poison + Psychic + Rock + Steel + \n .     Water, data = a, drop.unused.levels = TRUE)",
      "5. model.frame.default(formula = Winner ~ index + name + HP + attack + \n .     defense + sp.att + sp.def + speed + Bug + Dark + Dragon + \n .     Electric + Fairy + Fighting + Fire + Flying + Ghost + Grass + \n .     Ground + Ice + Normal + Poison + Psychic + Rock + Steel + \n .     Water, data = a, drop.unused.levels = TRUE)",
      "6. is.data.frame(data)"
     ]
    }
   ],
   "source": [
    "model = glm(formula=Winner~index+name+HP+attack+defense+sp.att+sp.def+speed+Bug+Dark+Dragon+Electric+Fairy+Fighting+Fire+Flying+Ghost+Grass+Ground+Ice+Normal+Poison+Psychic+Rock+Steel+Water,\n",
    "data=a,family='binomial')\n",
    "summary(model)\n",
    "plot(a$speed,a$Winner)\n"
   ]
  },
  {
   "attachments": {},
   "cell_type": "markdown",
   "metadata": {},
   "source": [
    "포켓몬을 고른다.  \n",
    "그 포켓몬이 포함된 전투 데이터만 가져온다.  \n",
    "해당 포켓몬이 이긴 전투의 경우 0, 진 경우 1인 열을 추가한다  \n",
    "1.해당포켓몬과 전투한 포켓몬의 스탯의 단순 차이(종속변수), 전투결과(독립변수)\n",
    "2.전투한 포켓몬의 스탯(종속변수) 전투 결과 (독립변수)만 사용"
   ]
  },
  {
   "attachments": {},
   "cell_type": "markdown",
   "metadata": {},
   "source": [
    "---"
   ]
  },
  {
   "cell_type": "code",
   "execution_count": null,
   "metadata": {
    "vscode": {
     "languageId": "r"
    }
   },
   "outputs": [],
   "source": []
  },
  {
   "cell_type": "code",
   "execution_count": null,
   "metadata": {
    "vscode": {
     "languageId": "r"
    }
   },
   "outputs": [],
   "source": []
  }
 ],
 "metadata": {
  "kernelspec": {
   "display_name": "R",
   "language": "R",
   "name": "ir"
  },
  "language_info": {
   "codemirror_mode": "r",
   "file_extension": ".r",
   "mimetype": "text/x-r-source",
   "name": "R",
   "pygments_lexer": "r",
   "version": "4.2.2"
  },
  "orig_nbformat": 4
 },
 "nbformat": 4,
 "nbformat_minor": 2
}
